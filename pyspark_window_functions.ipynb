{
  "nbformat": 4,
  "nbformat_minor": 0,
  "metadata": {
    "colab": {
      "provenance": [],
      "collapsed_sections": []
    },
    "kernelspec": {
      "name": "python3",
      "display_name": "Python 3"
    },
    "language_info": {
      "name": "python"
    }
  },
  "cells": [
    {
      "cell_type": "markdown",
      "source": [
        "# PySpark - Window Functions"
      ],
      "metadata": {
        "id": "dMDPjGaIOMZG"
      }
    },
    {
      "cell_type": "markdown",
      "source": [
        "<b>Window ranking Function</b>\n",
        "\n",
        "<ul>\n",
        "  <li>Window Function 1 - Número de linhas - row_number()</li>\n",
        "  <li>Window Function 2 - Ranking 1 - rank()</li>\n",
        "  <li>Window Function 3 - Ranking 2 - dense_rank()</li>\n",
        "  <li>Window Function 4 - Porcentagem ranking - percent_rank()</li>\n",
        "  <li>Window Function 5 - Divisão em \"N\" partes - ntile()</li>\n",
        "<ul>"
      ],
      "metadata": {
        "id": "450mCuUxOM2h"
      }
    },
    {
      "cell_type": "markdown",
      "source": [
        "<b>Window Analytic Functions (Funções análiticas)</b>\n",
        "\n",
        "<ul>\n",
        "  <li>Window Function 6 - LAG / Degrau - lag()</li>\n",
        "  <li>Window Function 7 - Lead  Degrau - lead()</li>\n",
        "  <li>Agregações</li>\n",
        "  <li>GropuBy + AGG 1</li>\n",
        "  <li>Where</li>\n",
        "  <li>Describe</li>\n",
        "  <li>Window Function 8 - Função de agregação usando window Function</li>\n",
        "<ul>"
      ],
      "metadata": {
        "id": "JJQOnUJyOM74"
      }
    },
    {
      "cell_type": "markdown",
      "source": [
        "#### Importação das bibliotecas  / funções"
      ],
      "metadata": {
        "id": "qCB2lJA8Puwy"
      }
    },
    {
      "cell_type": "code",
      "source": [
        "!pip install pyspark"
      ],
      "metadata": {
        "id": "4lGzHzHnRHSe"
      },
      "execution_count": null,
      "outputs": []
    },
    {
      "cell_type": "code",
      "source": [
        "import os\n",
        "import sys\n",
        "from pyspark.sql import SparkSession\n",
        "from pyspark.sql.functions import *\n",
        "from pyspark.sql.types import *\n",
        "from pyspark.sql.window import Window\n",
        "\n",
        "# Resolve o problema de incompatibilidade de versões\n",
        "os.environ['PYSPARK_PYTHON'] = sys.executable\n",
        "os.environ['PYSPARK_DRIVER_PYTHON'] = sys.executable"
      ],
      "metadata": {
        "id": "ExBs2fWVP0ka"
      },
      "execution_count": 38,
      "outputs": []
    },
    {
      "cell_type": "markdown",
      "source": [
        "####Criar / Iniciar Sessão PySpark"
      ],
      "metadata": {
        "id": "s6fHX7SOSP0-"
      }
    },
    {
      "cell_type": "code",
      "source": [
        "spark = (\n",
        "    SparkSession.builder\n",
        "    .master('local')\n",
        "    .appName('PySpark_02')\n",
        "    .getOrCreate()\n",
        ")"
      ],
      "metadata": {
        "id": "r7FTEtKKSQAh"
      },
      "execution_count": 13,
      "outputs": []
    },
    {
      "cell_type": "markdown",
      "source": [
        "Criar DF / Ler arquivo"
      ],
      "metadata": {
        "id": "0niKpORiSmx_"
      }
    },
    {
      "cell_type": "code",
      "source": [
        "df = spark.read.csv('/content/sample_data/wc2018-players.csv', header=True, inferSchema=True)"
      ],
      "metadata": {
        "id": "T01viDmKSm5g"
      },
      "execution_count": 28,
      "outputs": []
    },
    {
      "cell_type": "code",
      "source": [
        "df.show(5)"
      ],
      "metadata": {
        "colab": {
          "base_uri": "https://localhost:8080/"
        },
        "id": "9e1lfJwVSnHs",
        "outputId": "64e72fea-3894-44e7-f34c-be1d386f8e68"
      },
      "execution_count": 29,
      "outputs": [
        {
          "output_type": "stream",
          "name": "stdout",
          "text": [
            "+---------+---+----+------------------+----------+----------+--------------------+------+------+\n",
            "|     Team|  #|Pos.| FIFA Popular Name|Birth Date|Shirt Name|                Club|Height|Weight|\n",
            "+---------+---+----+------------------+----------+----------+--------------------+------+------+\n",
            "|Argentina|  3|  DF|TAGLIAFICO Nicolas|31.08.1992|TAGLIAFICO|      AFC Ajax (NED)|   169|    65|\n",
            "|Argentina| 22|  MF|    PAVON Cristian|21.01.1996|     PAVÓN|CA Boca Juniors (...|   169|    65|\n",
            "|Argentina| 15|  MF|    LANZINI Manuel|15.02.1993|   LANZINI|West Ham United F...|   167|    66|\n",
            "|Argentina| 18|  DF|    SALVIO Eduardo|13.07.1990|    SALVIO|    SL Benfica (POR)|   167|    69|\n",
            "|Argentina| 10|  FW|      MESSI Lionel|24.06.1987|     MESSI|  FC Barcelona (ESP)|   170|    72|\n",
            "+---------+---+----+------------------+----------+----------+--------------------+------+------+\n",
            "only showing top 5 rows\n",
            "\n"
          ]
        }
      ]
    },
    {
      "cell_type": "markdown",
      "source": [
        "#### Alterando as colunas"
      ],
      "metadata": {
        "id": "GYlmLadDSnAi"
      }
    },
    {
      "cell_type": "code",
      "source": [
        "df = df.withColumnRenamed('Team', 'Selecao').withColumnRenamed('#', 'Numero').withColumnRenamed('Pos.', 'Posicao')\\\n",
        ".withColumnRenamed('Fifa Popular Name', 'Nome_FIFA').withColumnRenamed('Birth Date', 'Nascimento')\\\n",
        ".withColumnRenamed('Shirt Name', 'Nome Camiseta').withColumnRenamed('Club', 'Time').withColumnRenamed('Height', 'Altura')\\\n",
        ".withColumnRenamed('Weight', 'Peso')"
      ],
      "metadata": {
        "id": "U_di8-3HTN7L"
      },
      "execution_count": 30,
      "outputs": []
    },
    {
      "cell_type": "code",
      "source": [
        "dia = udf(lambda data: data.split('.')[0])\n",
        "mes = udf(lambda data: data.split('.')[1])\n",
        "ano = udf(lambda data: data.split('.')[2])"
      ],
      "metadata": {
        "id": "vERF_-gaUFhC"
      },
      "execution_count": 31,
      "outputs": []
    },
    {
      "cell_type": "code",
      "source": [
        "df = df.withColumn('Dia', dia('Nascimento')).withColumn('Mes', mes('Nascimento')).withColumn('Ano', ano('nascimento'))\n",
        "df = df.withColumn('Data_Nascimento', concat_ws('-', 'Ano', 'Mes', 'Dia').cast(DateType()))\n",
        "df.show(5)"
      ],
      "metadata": {
        "colab": {
          "base_uri": "https://localhost:8080/"
        },
        "id": "unk5JsRTUPkW",
        "outputId": "d1c2c238-319a-452d-a840-0135aa9ee640"
      },
      "execution_count": 32,
      "outputs": [
        {
          "output_type": "stream",
          "name": "stdout",
          "text": [
            "+---------+------+-------+------------------+----------+-------------+--------------------+------+----+---+---+----+---------------+\n",
            "|  Selecao|Numero|Posicao|         Nome_FIFA|Nascimento|Nome Camiseta|                Time|Altura|Peso|Dia|Mes| Ano|Data_Nascimento|\n",
            "+---------+------+-------+------------------+----------+-------------+--------------------+------+----+---+---+----+---------------+\n",
            "|Argentina|     3|     DF|TAGLIAFICO Nicolas|31.08.1992|   TAGLIAFICO|      AFC Ajax (NED)|   169|  65| 31| 08|1992|     1992-08-31|\n",
            "|Argentina|    22|     MF|    PAVON Cristian|21.01.1996|        PAVÓN|CA Boca Juniors (...|   169|  65| 21| 01|1996|     1996-01-21|\n",
            "|Argentina|    15|     MF|    LANZINI Manuel|15.02.1993|      LANZINI|West Ham United F...|   167|  66| 15| 02|1993|     1993-02-15|\n",
            "|Argentina|    18|     DF|    SALVIO Eduardo|13.07.1990|       SALVIO|    SL Benfica (POR)|   167|  69| 13| 07|1990|     1990-07-13|\n",
            "|Argentina|    10|     FW|      MESSI Lionel|24.06.1987|        MESSI|  FC Barcelona (ESP)|   170|  72| 24| 06|1987|     1987-06-24|\n",
            "+---------+------+-------+------------------+----------+-------------+--------------------+------+----+---+---+----+---------------+\n",
            "only showing top 5 rows\n",
            "\n"
          ]
        }
      ]
    },
    {
      "cell_type": "code",
      "source": [
        "df.printSchema()"
      ],
      "metadata": {
        "colab": {
          "base_uri": "https://localhost:8080/"
        },
        "id": "VPmnYqJAVOVk",
        "outputId": "e0f0b3d8-5c1c-4c3d-feb3-7b607ae3df43"
      },
      "execution_count": 33,
      "outputs": [
        {
          "output_type": "stream",
          "name": "stdout",
          "text": [
            "root\n",
            " |-- Selecao: string (nullable = true)\n",
            " |-- Numero: integer (nullable = true)\n",
            " |-- Posicao: string (nullable = true)\n",
            " |-- Nome_FIFA: string (nullable = true)\n",
            " |-- Nascimento: string (nullable = true)\n",
            " |-- Nome Camiseta: string (nullable = true)\n",
            " |-- Time: string (nullable = true)\n",
            " |-- Altura: integer (nullable = true)\n",
            " |-- Peso: integer (nullable = true)\n",
            " |-- Dia: string (nullable = true)\n",
            " |-- Mes: string (nullable = true)\n",
            " |-- Ano: string (nullable = true)\n",
            " |-- Data_Nascimento: date (nullable = true)\n",
            "\n"
          ]
        }
      ]
    },
    {
      "cell_type": "markdown",
      "source": [
        "#### Dropar colunas"
      ],
      "metadata": {
        "id": "IFD5Q_6kVUof"
      }
    },
    {
      "cell_type": "code",
      "source": [
        "df = df.drop('Nascimento')\n",
        "df.show(5)"
      ],
      "metadata": {
        "colab": {
          "base_uri": "https://localhost:8080/"
        },
        "id": "zYF8JECkVQzR",
        "outputId": "b0753121-66ea-4246-ba74-08e728dd4a47"
      },
      "execution_count": 36,
      "outputs": [
        {
          "output_type": "stream",
          "name": "stdout",
          "text": [
            "+---------+------+-------+------------------+-------------+--------------------+------+----+---+---+----+---------------+\n",
            "|  Selecao|Numero|Posicao|         Nome_FIFA|Nome Camiseta|                Time|Altura|Peso|Dia|Mes| Ano|Data_Nascimento|\n",
            "+---------+------+-------+------------------+-------------+--------------------+------+----+---+---+----+---------------+\n",
            "|Argentina|     3|     DF|TAGLIAFICO Nicolas|   TAGLIAFICO|      AFC Ajax (NED)|   169|  65| 31| 08|1992|     1992-08-31|\n",
            "|Argentina|    22|     MF|    PAVON Cristian|        PAVÓN|CA Boca Juniors (...|   169|  65| 21| 01|1996|     1996-01-21|\n",
            "|Argentina|    15|     MF|    LANZINI Manuel|      LANZINI|West Ham United F...|   167|  66| 15| 02|1993|     1993-02-15|\n",
            "|Argentina|    18|     DF|    SALVIO Eduardo|       SALVIO|    SL Benfica (POR)|   167|  69| 13| 07|1990|     1990-07-13|\n",
            "|Argentina|    10|     FW|      MESSI Lionel|        MESSI|  FC Barcelona (ESP)|   170|  72| 24| 06|1987|     1987-06-24|\n",
            "+---------+------+-------+------------------+-------------+--------------------+------+----+---+---+----+---------------+\n",
            "only showing top 5 rows\n",
            "\n"
          ]
        }
      ]
    },
    {
      "cell_type": "markdown",
      "source": [
        "#### Criando um backup"
      ],
      "metadata": {
        "id": "OQsfhSj_WHVN"
      }
    },
    {
      "cell_type": "code",
      "source": [
        "df2 = df"
      ],
      "metadata": {
        "id": "eDNtENwcWFNW"
      },
      "execution_count": 37,
      "outputs": []
    },
    {
      "cell_type": "markdown",
      "source": [
        "<b>Window ranking Function</b>\n",
        "\n",
        "<ul>\n",
        "  <li>Window Function 1 - Número de linhas - row_number()</li>\n",
        "  <li>Window Function 2 - Ranking 1 - rank()</li>\n",
        "  <li>Window Function 3 - Ranking 2 - dense_rank()</li>\n",
        "  <li>Window Function 4 - Porcentagem ranking - percent_rank()</li>\n",
        "  <li>Window Function 5 - Divisão em \"N\" partes - ntile()</li>\n",
        "<ul>"
      ],
      "metadata": {
        "id": "mNB3j7R5W8x2"
      }
    },
    {
      "cell_type": "markdown",
      "source": [
        "#### Window Function 1 - Número de linhas - row_number()"
      ],
      "metadata": {
        "id": "wG9Ou1HKXMOH"
      }
    },
    {
      "cell_type": "code",
      "source": [
        "# contagem por seleção, ordenando pela altura\n",
        "num_linha = Window.partitionBy('Selecao').orderBy(desc('Altura')) #padrao asc\n",
        "df.withColumn('numero_linha', row_number().over(num_linha)).show(30)"
      ],
      "metadata": {
        "colab": {
          "base_uri": "https://localhost:8080/"
        },
        "id": "c11YpwcYW868",
        "outputId": "69b0c304-17c7-4ee6-d020-93f416adc575"
      },
      "execution_count": 44,
      "outputs": [
        {
          "output_type": "stream",
          "name": "stdout",
          "text": [
            "+---------+------+-------+------------------+-------------+--------------------+------+----+---+---+----+---------------+------------+\n",
            "|  Selecao|Numero|Posicao|         Nome_FIFA|Nome Camiseta|                Time|Altura|Peso|Dia|Mes| Ano|Data_Nascimento|numero_linha|\n",
            "+---------+------+-------+------------------+-------------+--------------------+------+----+---+---+----+---------------+------------+\n",
            "|Argentina|     6|     DF|    FAZIO Federico|        FAZIO|       AS Roma (ITA)|   199|  85| 17| 03|1987|     1987-03-17|           1|\n",
            "|Argentina|     1|     GK|     GUZMAN Nahuel|       GUZMÁN|   Tigres UANL (MEX)|   192|  90| 10| 02|1986|     1986-02-10|           2|\n",
            "|Argentina|    16|     DF|       ROJO Marcos|         ROJO|Manchester United...|   189|  82| 20| 03|1990|     1990-03-20|           3|\n",
            "|Argentina|    12|     GK|     ARMANI Franco|       ARMANI|CA River Plate (ARG)|   189|  85| 16| 10|1986|     1986-10-16|           4|\n",
            "|Argentina|    23|     GK|CABALLERO Wilfredo|    CABALLERO|    Chelsea FC (ENG)|   186|  80| 28| 09|1981|     1981-09-28|           5|\n",
            "|Argentina|     9|     FW|   HIGUAIN Gonzalo|      HIGUAÍN|   Juventus FC (ITA)|   184|  75| 10| 12|1987|     1987-12-10|           6|\n",
            "|Argentina|     4|     DF|  ANSALDI Cristian|      ANSALDI|     Torino FC (ITA)|   181|  73| 20| 09|1986|     1986-09-20|           7|\n",
            "|Argentina|     2|     DF|   MERCADO Gabriel|      MERCADO|    Sevilla FC (ESP)|   181|  81| 18| 03|1987|     1987-03-18|           8|\n",
            "|Argentina|    17|     DF|  OTAMENDI Nicolas|     OTAMENDI|Manchester City F...|   181|  81| 12| 02|1988|     1988-02-12|           9|\n",
            "|Argentina|    13|     MF|  MEZA Maximiliano|         MEZA|CA Independiente ...|   180|  76| 15| 12|1992|     1992-12-15|          10|\n",
            "|Argentina|    11|     MF|    DI MARIA Angel|     DI MARÍA|Paris Saint-Germa...|   178|  75| 14| 02|1988|     1988-02-14|          11|\n",
            "|Argentina|    21|     FW|      DYBALA Paulo|       DYBALA|   Juventus FC (ITA)|   177|  73| 15| 11|1993|     1993-11-15|          12|\n",
            "|Argentina|    20|     MF|  LO CELSO Giovani|     LO CELSO|Paris Saint-Germa...|   177|  75| 09| 04|1996|     1996-04-09|          13|\n",
            "|Argentina|     5|     MF|      BIGLIA Lucas|       BIGLIA|      AC Milan (ITA)|   175|  73| 30| 01|1986|     1986-01-30|          14|\n",
            "|Argentina|     7|     MF|       BANEGA Ever|       BANEGA|    Sevilla FC (ESP)|   175|  73| 29| 06|1988|     1988-06-29|          15|\n",
            "|Argentina|    14|     DF| MASCHERANO Javier|   MASCHERANO|Hebei China Fortu...|   174|  73| 08| 06|1984|     1984-06-08|          16|\n",
            "|Argentina|    19|     FW|     AGUERO Sergio|       AGÜERO|Manchester City F...|   172|  74| 02| 06|1988|     1988-06-02|          17|\n",
            "|Argentina|     8|     DF|      ACUNA Marcos|        ACUÑA|   Sporting CP (POR)|   172|  77| 28| 10|1991|     1991-10-28|          18|\n",
            "|Argentina|    10|     FW|      MESSI Lionel|        MESSI|  FC Barcelona (ESP)|   170|  72| 24| 06|1987|     1987-06-24|          19|\n",
            "|Argentina|     3|     DF|TAGLIAFICO Nicolas|   TAGLIAFICO|      AFC Ajax (NED)|   169|  65| 31| 08|1992|     1992-08-31|          20|\n",
            "|Argentina|    22|     MF|    PAVON Cristian|        PAVÓN|CA Boca Juniors (...|   169|  65| 21| 01|1996|     1996-01-21|          21|\n",
            "|Argentina|    15|     MF|    LANZINI Manuel|      LANZINI|West Ham United F...|   167|  66| 15| 02|1993|     1993-02-15|          22|\n",
            "|Argentina|    18|     DF|    SALVIO Eduardo|       SALVIO|    SL Benfica (POR)|   167|  69| 13| 07|1990|     1990-07-13|          23|\n",
            "|Australia|    12|     GK|        JONES Brad|        JONES|Feyenoord Rotterd...|   193|  87| 19| 03|1982|     1982-03-19|           1|\n",
            "|Australia|     9|     FW|        JURIC Tomi|        JURIC|     FC Luzern (SUI)|   190|  80| 22| 07|1991|     1991-07-22|           2|\n",
            "|Australia|     6|     DF|    JURMAN Matthew|       JURMAN|Suwon Samsung Blu...|   190|  83| 08| 12|1989|     1989-12-08|           3|\n",
            "|Australia|    23|     MF|         ROGIC Tom|        ROGIC|     Celtic FC (SCO)|   189|  88| 16| 12|1992|     1992-12-16|           4|\n",
            "|Australia|    15|     MF|      JEDINAK Mile|      JEDINAK|Aston Villa FC (ENG)|   188|  78| 03| 08|1984|     1984-08-03|           5|\n",
            "|Australia|     2|     DF|     DEGENEK Milos|      DEGENEK|Yokohama F-Marino...|   187|  85| 28| 04|1994|     1994-04-28|           6|\n",
            "|Australia|    18|     GK|     VUKOVIC Danny|      VUKOVIC|      KRC Genk (BEL)|   187|  94| 27| 03|1985|     1985-03-27|           7|\n",
            "+---------+------+-------+------------------+-------------+--------------------+------+----+---+---+----+---------------+------------+\n",
            "only showing top 30 rows\n",
            "\n"
          ]
        }
      ]
    },
    {
      "cell_type": "markdown",
      "source": [
        "#### Window Function 2 - Ranking 1 - rank()"
      ],
      "metadata": {
        "id": "eeU3j49YZ8Xd"
      }
    },
    {
      "cell_type": "code",
      "source": [
        "# Jogadores com a mesma altura, fica com o mesmo ranking.\n",
        "rank1 = Window.partitionBy('Selecao').orderBy(desc('Altura'))\n",
        "df.withColumn('rank1', rank().over(rank1)).show(50)"
      ],
      "metadata": {
        "colab": {
          "base_uri": "https://localhost:8080/"
        },
        "id": "kMqYo-pSZ8d5",
        "outputId": "bf26434a-f4d0-4db1-a8dc-4c90fbbd526d"
      },
      "execution_count": 47,
      "outputs": [
        {
          "output_type": "stream",
          "name": "stdout",
          "text": [
            "+---------+------+-------+------------------+-------------+--------------------+------+----+---+---+----+---------------+-----+\n",
            "|  Selecao|Numero|Posicao|         Nome_FIFA|Nome Camiseta|                Time|Altura|Peso|Dia|Mes| Ano|Data_Nascimento|rank1|\n",
            "+---------+------+-------+------------------+-------------+--------------------+------+----+---+---+----+---------------+-----+\n",
            "|Argentina|     6|     DF|    FAZIO Federico|        FAZIO|       AS Roma (ITA)|   199|  85| 17| 03|1987|     1987-03-17|    1|\n",
            "|Argentina|     1|     GK|     GUZMAN Nahuel|       GUZMÁN|   Tigres UANL (MEX)|   192|  90| 10| 02|1986|     1986-02-10|    2|\n",
            "|Argentina|    16|     DF|       ROJO Marcos|         ROJO|Manchester United...|   189|  82| 20| 03|1990|     1990-03-20|    3|\n",
            "|Argentina|    12|     GK|     ARMANI Franco|       ARMANI|CA River Plate (ARG)|   189|  85| 16| 10|1986|     1986-10-16|    3|\n",
            "|Argentina|    23|     GK|CABALLERO Wilfredo|    CABALLERO|    Chelsea FC (ENG)|   186|  80| 28| 09|1981|     1981-09-28|    5|\n",
            "|Argentina|     9|     FW|   HIGUAIN Gonzalo|      HIGUAÍN|   Juventus FC (ITA)|   184|  75| 10| 12|1987|     1987-12-10|    6|\n",
            "|Argentina|     4|     DF|  ANSALDI Cristian|      ANSALDI|     Torino FC (ITA)|   181|  73| 20| 09|1986|     1986-09-20|    7|\n",
            "|Argentina|     2|     DF|   MERCADO Gabriel|      MERCADO|    Sevilla FC (ESP)|   181|  81| 18| 03|1987|     1987-03-18|    7|\n",
            "|Argentina|    17|     DF|  OTAMENDI Nicolas|     OTAMENDI|Manchester City F...|   181|  81| 12| 02|1988|     1988-02-12|    7|\n",
            "|Argentina|    13|     MF|  MEZA Maximiliano|         MEZA|CA Independiente ...|   180|  76| 15| 12|1992|     1992-12-15|   10|\n",
            "|Argentina|    11|     MF|    DI MARIA Angel|     DI MARÍA|Paris Saint-Germa...|   178|  75| 14| 02|1988|     1988-02-14|   11|\n",
            "|Argentina|    21|     FW|      DYBALA Paulo|       DYBALA|   Juventus FC (ITA)|   177|  73| 15| 11|1993|     1993-11-15|   12|\n",
            "|Argentina|    20|     MF|  LO CELSO Giovani|     LO CELSO|Paris Saint-Germa...|   177|  75| 09| 04|1996|     1996-04-09|   12|\n",
            "|Argentina|     5|     MF|      BIGLIA Lucas|       BIGLIA|      AC Milan (ITA)|   175|  73| 30| 01|1986|     1986-01-30|   14|\n",
            "|Argentina|     7|     MF|       BANEGA Ever|       BANEGA|    Sevilla FC (ESP)|   175|  73| 29| 06|1988|     1988-06-29|   14|\n",
            "|Argentina|    14|     DF| MASCHERANO Javier|   MASCHERANO|Hebei China Fortu...|   174|  73| 08| 06|1984|     1984-06-08|   16|\n",
            "|Argentina|    19|     FW|     AGUERO Sergio|       AGÜERO|Manchester City F...|   172|  74| 02| 06|1988|     1988-06-02|   17|\n",
            "|Argentina|     8|     DF|      ACUNA Marcos|        ACUÑA|   Sporting CP (POR)|   172|  77| 28| 10|1991|     1991-10-28|   17|\n",
            "|Argentina|    10|     FW|      MESSI Lionel|        MESSI|  FC Barcelona (ESP)|   170|  72| 24| 06|1987|     1987-06-24|   19|\n",
            "|Argentina|     3|     DF|TAGLIAFICO Nicolas|   TAGLIAFICO|      AFC Ajax (NED)|   169|  65| 31| 08|1992|     1992-08-31|   20|\n",
            "|Argentina|    22|     MF|    PAVON Cristian|        PAVÓN|CA Boca Juniors (...|   169|  65| 21| 01|1996|     1996-01-21|   20|\n",
            "|Argentina|    15|     MF|    LANZINI Manuel|      LANZINI|West Ham United F...|   167|  66| 15| 02|1993|     1993-02-15|   22|\n",
            "|Argentina|    18|     DF|    SALVIO Eduardo|       SALVIO|    SL Benfica (POR)|   167|  69| 13| 07|1990|     1990-07-13|   22|\n",
            "|Australia|    12|     GK|        JONES Brad|        JONES|Feyenoord Rotterd...|   193|  87| 19| 03|1982|     1982-03-19|    1|\n",
            "|Australia|     9|     FW|        JURIC Tomi|        JURIC|     FC Luzern (SUI)|   190|  80| 22| 07|1991|     1991-07-22|    2|\n",
            "|Australia|     6|     DF|    JURMAN Matthew|       JURMAN|Suwon Samsung Blu...|   190|  83| 08| 12|1989|     1989-12-08|    2|\n",
            "|Australia|    23|     MF|         ROGIC Tom|        ROGIC|     Celtic FC (SCO)|   189|  88| 16| 12|1992|     1992-12-16|    4|\n",
            "|Australia|    15|     MF|      JEDINAK Mile|      JEDINAK|Aston Villa FC (ENG)|   188|  78| 03| 08|1984|     1984-08-03|    5|\n",
            "|Australia|     2|     DF|     DEGENEK Milos|      DEGENEK|Yokohama F-Marino...|   187|  85| 28| 04|1994|     1994-04-28|    6|\n",
            "|Australia|    18|     GK|     VUKOVIC Danny|      VUKOVIC|      KRC Genk (BEL)|   187|  94| 27| 03|1985|     1985-03-27|    6|\n",
            "|Australia|     1|     GK|       RYAN Mathew|         RYAN|Brighton & Hove A...|   184|  82| 08| 04|1992|     1992-04-08|    8|\n",
            "|Australia|    20|     DF|   SAINSBURY Trent|    SAINSBURY|Grasshopper Club ...|   183|  76| 05| 01|1992|     1992-01-05|    9|\n",
            "|Australia|     7|     FW|     LECKIE Mathew|       LECKIE|    Hertha BSC (GER)|   181|  84| 04| 02|1991|     1991-02-04|   10|\n",
            "|Australia|    10|     FW|      KRUSE Robbie|        KRUSE|    VfL Bochum (GER)|   180|  66| 05| 10|1988|     1988-10-05|   11|\n",
            "|Australia|     4|     FW|        CAHILL Tim|       CAHILL|   Millwall FC (ENG)|   180|  76| 06| 12|1979|     1979-12-06|   11|\n",
            "|Australia|    22|     MF|    IRVINE Jackson|       IRVINE|  Hull City FC (ENG)|   180|  77| 07| 03|1993|     1993-03-07|   11|\n",
            "|Australia|     3|     DF|    MEREDITH James|     MEREDITH|   Millwall FC (ENG)|   179|  71| 05| 04|1988|     1988-04-05|   14|\n",
            "|Australia|    14|     FW|    MacLAREN Jamie|     MACLAREN|  Hibernian FC (SCO)|   178|  72| 29| 07|1993|     1993-07-29|   15|\n",
            "|Australia|     5|     DF|     MILLIGAN Mark|     MILLIGAN|    Al Ahli SC (KSA)|   178|  78| 04| 08|1985|     1985-08-04|   15|\n",
            "|Australia|    11|     FW|    NABBOUT Andrew|      NABBOUT|    Urawa Reds (JPN)|   178|  85| 17| 12|1992|     1992-12-17|   15|\n",
            "|Australia|    21|     FW|PETRATOS Dimitrios|     PETRATOS|Newcastle United ...|   176|  72| 10| 11|1992|     1992-11-10|   18|\n",
            "|Australia|     8|     MF|    LUONGO Massimo|       LUONGO|Queens Park Range...|   176|  76| 25| 09|1992|     1992-09-25|   18|\n",
            "|Australia|    13|     MF|        MOOY Aaron|         MOOY|Huddersfield Town...|   173|  72| 15| 09|1990|     1990-09-15|   20|\n",
            "|Australia|    17|     FW|     ARZANI Daniel|       ARZANI|Melbourne City FC...|   171|  73| 04| 01|1999|     1999-01-04|   21|\n",
            "|Australia|    16|     DF|       BEHICH Aziz|       BEHICH|     Bursaspor (TUR)|   170|  63| 16| 12|1990|     1990-12-16|   22|\n",
            "|Australia|    19|     DF|     RISDON Joshua|       RISDON|WS Wanderers FC (...|   169|  70| 27| 07|1992|     1992-07-27|   23|\n",
            "|  Belgium|     1|     GK|  COURTOIS Thibaut|     COURTOIS|    Chelsea FC (ENG)|   199|  91| 11| 05|1992|     1992-05-11|    1|\n",
            "|  Belgium|    13|     GK|     CASTEELS Koen|     CASTEELS| VfL Wolfsburg (GER)|   197|  86| 25| 06|1992|     1992-06-25|    2|\n",
            "|  Belgium|     8|     MF| FELLAINI Marouane|     FELLAINI|Manchester United...|   194|  85| 22| 11|1987|     1987-11-22|    3|\n",
            "|  Belgium|    12|     GK|    MIGNOLET Simon|     MIGNOLET|  Liverpool FC (ENG)|   193|  87| 06| 03|1988|     1988-03-06|    4|\n",
            "+---------+------+-------+------------------+-------------+--------------------+------+----+---+---+----+---------------+-----+\n",
            "only showing top 50 rows\n",
            "\n"
          ]
        }
      ]
    },
    {
      "cell_type": "markdown",
      "source": [
        "Window Function 3 - Ranking 2 - dense_rank()"
      ],
      "metadata": {
        "id": "4vdfMpTKZ8mR"
      }
    },
    {
      "cell_type": "code",
      "source": [
        "rank2 = Window.partitionBy('Selecao').orderBy(desc('Altura'))\n",
        "df.withColumn('rank2', dense_rank().over(rank2)).show(30)"
      ],
      "metadata": {
        "colab": {
          "base_uri": "https://localhost:8080/"
        },
        "id": "zA0swy63Z8tR",
        "outputId": "5b74c6c0-598d-4d8b-eef1-05a1b0370cce"
      },
      "execution_count": 48,
      "outputs": [
        {
          "output_type": "stream",
          "name": "stdout",
          "text": [
            "+---------+------+-------+------------------+-------------+--------------------+------+----+---+---+----+---------------+-----+\n",
            "|  Selecao|Numero|Posicao|         Nome_FIFA|Nome Camiseta|                Time|Altura|Peso|Dia|Mes| Ano|Data_Nascimento|rank2|\n",
            "+---------+------+-------+------------------+-------------+--------------------+------+----+---+---+----+---------------+-----+\n",
            "|Argentina|     6|     DF|    FAZIO Federico|        FAZIO|       AS Roma (ITA)|   199|  85| 17| 03|1987|     1987-03-17|    1|\n",
            "|Argentina|     1|     GK|     GUZMAN Nahuel|       GUZMÁN|   Tigres UANL (MEX)|   192|  90| 10| 02|1986|     1986-02-10|    2|\n",
            "|Argentina|    16|     DF|       ROJO Marcos|         ROJO|Manchester United...|   189|  82| 20| 03|1990|     1990-03-20|    3|\n",
            "|Argentina|    12|     GK|     ARMANI Franco|       ARMANI|CA River Plate (ARG)|   189|  85| 16| 10|1986|     1986-10-16|    3|\n",
            "|Argentina|    23|     GK|CABALLERO Wilfredo|    CABALLERO|    Chelsea FC (ENG)|   186|  80| 28| 09|1981|     1981-09-28|    4|\n",
            "|Argentina|     9|     FW|   HIGUAIN Gonzalo|      HIGUAÍN|   Juventus FC (ITA)|   184|  75| 10| 12|1987|     1987-12-10|    5|\n",
            "|Argentina|     4|     DF|  ANSALDI Cristian|      ANSALDI|     Torino FC (ITA)|   181|  73| 20| 09|1986|     1986-09-20|    6|\n",
            "|Argentina|     2|     DF|   MERCADO Gabriel|      MERCADO|    Sevilla FC (ESP)|   181|  81| 18| 03|1987|     1987-03-18|    6|\n",
            "|Argentina|    17|     DF|  OTAMENDI Nicolas|     OTAMENDI|Manchester City F...|   181|  81| 12| 02|1988|     1988-02-12|    6|\n",
            "|Argentina|    13|     MF|  MEZA Maximiliano|         MEZA|CA Independiente ...|   180|  76| 15| 12|1992|     1992-12-15|    7|\n",
            "|Argentina|    11|     MF|    DI MARIA Angel|     DI MARÍA|Paris Saint-Germa...|   178|  75| 14| 02|1988|     1988-02-14|    8|\n",
            "|Argentina|    21|     FW|      DYBALA Paulo|       DYBALA|   Juventus FC (ITA)|   177|  73| 15| 11|1993|     1993-11-15|    9|\n",
            "|Argentina|    20|     MF|  LO CELSO Giovani|     LO CELSO|Paris Saint-Germa...|   177|  75| 09| 04|1996|     1996-04-09|    9|\n",
            "|Argentina|     5|     MF|      BIGLIA Lucas|       BIGLIA|      AC Milan (ITA)|   175|  73| 30| 01|1986|     1986-01-30|   10|\n",
            "|Argentina|     7|     MF|       BANEGA Ever|       BANEGA|    Sevilla FC (ESP)|   175|  73| 29| 06|1988|     1988-06-29|   10|\n",
            "|Argentina|    14|     DF| MASCHERANO Javier|   MASCHERANO|Hebei China Fortu...|   174|  73| 08| 06|1984|     1984-06-08|   11|\n",
            "|Argentina|    19|     FW|     AGUERO Sergio|       AGÜERO|Manchester City F...|   172|  74| 02| 06|1988|     1988-06-02|   12|\n",
            "|Argentina|     8|     DF|      ACUNA Marcos|        ACUÑA|   Sporting CP (POR)|   172|  77| 28| 10|1991|     1991-10-28|   12|\n",
            "|Argentina|    10|     FW|      MESSI Lionel|        MESSI|  FC Barcelona (ESP)|   170|  72| 24| 06|1987|     1987-06-24|   13|\n",
            "|Argentina|     3|     DF|TAGLIAFICO Nicolas|   TAGLIAFICO|      AFC Ajax (NED)|   169|  65| 31| 08|1992|     1992-08-31|   14|\n",
            "|Argentina|    22|     MF|    PAVON Cristian|        PAVÓN|CA Boca Juniors (...|   169|  65| 21| 01|1996|     1996-01-21|   14|\n",
            "|Argentina|    15|     MF|    LANZINI Manuel|      LANZINI|West Ham United F...|   167|  66| 15| 02|1993|     1993-02-15|   15|\n",
            "|Argentina|    18|     DF|    SALVIO Eduardo|       SALVIO|    SL Benfica (POR)|   167|  69| 13| 07|1990|     1990-07-13|   15|\n",
            "|Australia|    12|     GK|        JONES Brad|        JONES|Feyenoord Rotterd...|   193|  87| 19| 03|1982|     1982-03-19|    1|\n",
            "|Australia|     9|     FW|        JURIC Tomi|        JURIC|     FC Luzern (SUI)|   190|  80| 22| 07|1991|     1991-07-22|    2|\n",
            "|Australia|     6|     DF|    JURMAN Matthew|       JURMAN|Suwon Samsung Blu...|   190|  83| 08| 12|1989|     1989-12-08|    2|\n",
            "|Australia|    23|     MF|         ROGIC Tom|        ROGIC|     Celtic FC (SCO)|   189|  88| 16| 12|1992|     1992-12-16|    3|\n",
            "|Australia|    15|     MF|      JEDINAK Mile|      JEDINAK|Aston Villa FC (ENG)|   188|  78| 03| 08|1984|     1984-08-03|    4|\n",
            "|Australia|     2|     DF|     DEGENEK Milos|      DEGENEK|Yokohama F-Marino...|   187|  85| 28| 04|1994|     1994-04-28|    5|\n",
            "|Australia|    18|     GK|     VUKOVIC Danny|      VUKOVIC|      KRC Genk (BEL)|   187|  94| 27| 03|1985|     1985-03-27|    5|\n",
            "+---------+------+-------+------------------+-------------+--------------------+------+----+---+---+----+---------------+-----+\n",
            "only showing top 30 rows\n",
            "\n"
          ]
        }
      ]
    },
    {
      "cell_type": "markdown",
      "source": [
        "#### Window Function 4 - Porcentagem Ranking - percent_rank()"
      ],
      "metadata": {
        "id": "iOPcw2OTZ83q"
      }
    },
    {
      "cell_type": "code",
      "source": [
        "# Exibe a porcentagem de cada linha\n",
        "porcentagem = Window.partitionBy('Selecao').orderBy(desc('Altura'))\n",
        "df.withColumn('%', percent_rank().over(porcentagem)).show(30)"
      ],
      "metadata": {
        "colab": {
          "base_uri": "https://localhost:8080/"
        },
        "id": "DO3KwLqMZ9EN",
        "outputId": "3ae7639f-da77-428e-9bb6-f111792a9928"
      },
      "execution_count": 50,
      "outputs": [
        {
          "output_type": "stream",
          "name": "stdout",
          "text": [
            "+---------+------+-------+------------------+-------------+--------------------+------+----+---+---+----+---------------+--------------------+\n",
            "|  Selecao|Numero|Posicao|         Nome_FIFA|Nome Camiseta|                Time|Altura|Peso|Dia|Mes| Ano|Data_Nascimento|                   %|\n",
            "+---------+------+-------+------------------+-------------+--------------------+------+----+---+---+----+---------------+--------------------+\n",
            "|Argentina|     6|     DF|    FAZIO Federico|        FAZIO|       AS Roma (ITA)|   199|  85| 17| 03|1987|     1987-03-17|                 0.0|\n",
            "|Argentina|     1|     GK|     GUZMAN Nahuel|       GUZMÁN|   Tigres UANL (MEX)|   192|  90| 10| 02|1986|     1986-02-10|0.045454545454545456|\n",
            "|Argentina|    16|     DF|       ROJO Marcos|         ROJO|Manchester United...|   189|  82| 20| 03|1990|     1990-03-20| 0.09090909090909091|\n",
            "|Argentina|    12|     GK|     ARMANI Franco|       ARMANI|CA River Plate (ARG)|   189|  85| 16| 10|1986|     1986-10-16| 0.09090909090909091|\n",
            "|Argentina|    23|     GK|CABALLERO Wilfredo|    CABALLERO|    Chelsea FC (ENG)|   186|  80| 28| 09|1981|     1981-09-28| 0.18181818181818182|\n",
            "|Argentina|     9|     FW|   HIGUAIN Gonzalo|      HIGUAÍN|   Juventus FC (ITA)|   184|  75| 10| 12|1987|     1987-12-10| 0.22727272727272727|\n",
            "|Argentina|     4|     DF|  ANSALDI Cristian|      ANSALDI|     Torino FC (ITA)|   181|  73| 20| 09|1986|     1986-09-20|  0.2727272727272727|\n",
            "|Argentina|     2|     DF|   MERCADO Gabriel|      MERCADO|    Sevilla FC (ESP)|   181|  81| 18| 03|1987|     1987-03-18|  0.2727272727272727|\n",
            "|Argentina|    17|     DF|  OTAMENDI Nicolas|     OTAMENDI|Manchester City F...|   181|  81| 12| 02|1988|     1988-02-12|  0.2727272727272727|\n",
            "|Argentina|    13|     MF|  MEZA Maximiliano|         MEZA|CA Independiente ...|   180|  76| 15| 12|1992|     1992-12-15|  0.4090909090909091|\n",
            "|Argentina|    11|     MF|    DI MARIA Angel|     DI MARÍA|Paris Saint-Germa...|   178|  75| 14| 02|1988|     1988-02-14| 0.45454545454545453|\n",
            "|Argentina|    21|     FW|      DYBALA Paulo|       DYBALA|   Juventus FC (ITA)|   177|  73| 15| 11|1993|     1993-11-15|                 0.5|\n",
            "|Argentina|    20|     MF|  LO CELSO Giovani|     LO CELSO|Paris Saint-Germa...|   177|  75| 09| 04|1996|     1996-04-09|                 0.5|\n",
            "|Argentina|     5|     MF|      BIGLIA Lucas|       BIGLIA|      AC Milan (ITA)|   175|  73| 30| 01|1986|     1986-01-30|  0.5909090909090909|\n",
            "|Argentina|     7|     MF|       BANEGA Ever|       BANEGA|    Sevilla FC (ESP)|   175|  73| 29| 06|1988|     1988-06-29|  0.5909090909090909|\n",
            "|Argentina|    14|     DF| MASCHERANO Javier|   MASCHERANO|Hebei China Fortu...|   174|  73| 08| 06|1984|     1984-06-08|  0.6818181818181818|\n",
            "|Argentina|    19|     FW|     AGUERO Sergio|       AGÜERO|Manchester City F...|   172|  74| 02| 06|1988|     1988-06-02|  0.7272727272727273|\n",
            "|Argentina|     8|     DF|      ACUNA Marcos|        ACUÑA|   Sporting CP (POR)|   172|  77| 28| 10|1991|     1991-10-28|  0.7272727272727273|\n",
            "|Argentina|    10|     FW|      MESSI Lionel|        MESSI|  FC Barcelona (ESP)|   170|  72| 24| 06|1987|     1987-06-24|  0.8181818181818182|\n",
            "|Argentina|     3|     DF|TAGLIAFICO Nicolas|   TAGLIAFICO|      AFC Ajax (NED)|   169|  65| 31| 08|1992|     1992-08-31|  0.8636363636363636|\n",
            "|Argentina|    22|     MF|    PAVON Cristian|        PAVÓN|CA Boca Juniors (...|   169|  65| 21| 01|1996|     1996-01-21|  0.8636363636363636|\n",
            "|Argentina|    15|     MF|    LANZINI Manuel|      LANZINI|West Ham United F...|   167|  66| 15| 02|1993|     1993-02-15|  0.9545454545454546|\n",
            "|Argentina|    18|     DF|    SALVIO Eduardo|       SALVIO|    SL Benfica (POR)|   167|  69| 13| 07|1990|     1990-07-13|  0.9545454545454546|\n",
            "|Australia|    12|     GK|        JONES Brad|        JONES|Feyenoord Rotterd...|   193|  87| 19| 03|1982|     1982-03-19|                 0.0|\n",
            "|Australia|     9|     FW|        JURIC Tomi|        JURIC|     FC Luzern (SUI)|   190|  80| 22| 07|1991|     1991-07-22|0.045454545454545456|\n",
            "|Australia|     6|     DF|    JURMAN Matthew|       JURMAN|Suwon Samsung Blu...|   190|  83| 08| 12|1989|     1989-12-08|0.045454545454545456|\n",
            "|Australia|    23|     MF|         ROGIC Tom|        ROGIC|     Celtic FC (SCO)|   189|  88| 16| 12|1992|     1992-12-16| 0.13636363636363635|\n",
            "|Australia|    15|     MF|      JEDINAK Mile|      JEDINAK|Aston Villa FC (ENG)|   188|  78| 03| 08|1984|     1984-08-03| 0.18181818181818182|\n",
            "|Australia|     2|     DF|     DEGENEK Milos|      DEGENEK|Yokohama F-Marino...|   187|  85| 28| 04|1994|     1994-04-28| 0.22727272727272727|\n",
            "|Australia|    18|     GK|     VUKOVIC Danny|      VUKOVIC|      KRC Genk (BEL)|   187|  94| 27| 03|1985|     1985-03-27| 0.22727272727272727|\n",
            "+---------+------+-------+------------------+-------------+--------------------+------+----+---+---+----+---------------+--------------------+\n",
            "only showing top 30 rows\n",
            "\n"
          ]
        }
      ]
    },
    {
      "cell_type": "markdown",
      "source": [
        "#### Window Function 5 - Divisão em 'N' partes - ntile()"
      ],
      "metadata": {
        "id": "OGstDSkubWrW"
      }
    },
    {
      "cell_type": "code",
      "source": [
        "# Divide cada seleção em 5 partes\n",
        "parte = Window.partitionBy('Selecao').orderBy(desc('Altura'))\n",
        "df.withColumn('Partes', ntile(5).over(parte)).show(30)"
      ],
      "metadata": {
        "colab": {
          "base_uri": "https://localhost:8080/"
        },
        "id": "svBmNwvxcBjx",
        "outputId": "5543ec75-52ee-40c4-e59a-6c6164950c97"
      },
      "execution_count": 52,
      "outputs": [
        {
          "output_type": "stream",
          "name": "stdout",
          "text": [
            "+---------+------+-------+------------------+-------------+--------------------+------+----+---+---+----+---------------+------+\n",
            "|  Selecao|Numero|Posicao|         Nome_FIFA|Nome Camiseta|                Time|Altura|Peso|Dia|Mes| Ano|Data_Nascimento|Partes|\n",
            "+---------+------+-------+------------------+-------------+--------------------+------+----+---+---+----+---------------+------+\n",
            "|Argentina|     6|     DF|    FAZIO Federico|        FAZIO|       AS Roma (ITA)|   199|  85| 17| 03|1987|     1987-03-17|     1|\n",
            "|Argentina|     1|     GK|     GUZMAN Nahuel|       GUZMÁN|   Tigres UANL (MEX)|   192|  90| 10| 02|1986|     1986-02-10|     1|\n",
            "|Argentina|    16|     DF|       ROJO Marcos|         ROJO|Manchester United...|   189|  82| 20| 03|1990|     1990-03-20|     1|\n",
            "|Argentina|    12|     GK|     ARMANI Franco|       ARMANI|CA River Plate (ARG)|   189|  85| 16| 10|1986|     1986-10-16|     1|\n",
            "|Argentina|    23|     GK|CABALLERO Wilfredo|    CABALLERO|    Chelsea FC (ENG)|   186|  80| 28| 09|1981|     1981-09-28|     1|\n",
            "|Argentina|     9|     FW|   HIGUAIN Gonzalo|      HIGUAÍN|   Juventus FC (ITA)|   184|  75| 10| 12|1987|     1987-12-10|     2|\n",
            "|Argentina|     4|     DF|  ANSALDI Cristian|      ANSALDI|     Torino FC (ITA)|   181|  73| 20| 09|1986|     1986-09-20|     2|\n",
            "|Argentina|     2|     DF|   MERCADO Gabriel|      MERCADO|    Sevilla FC (ESP)|   181|  81| 18| 03|1987|     1987-03-18|     2|\n",
            "|Argentina|    17|     DF|  OTAMENDI Nicolas|     OTAMENDI|Manchester City F...|   181|  81| 12| 02|1988|     1988-02-12|     2|\n",
            "|Argentina|    13|     MF|  MEZA Maximiliano|         MEZA|CA Independiente ...|   180|  76| 15| 12|1992|     1992-12-15|     2|\n",
            "|Argentina|    11|     MF|    DI MARIA Angel|     DI MARÍA|Paris Saint-Germa...|   178|  75| 14| 02|1988|     1988-02-14|     3|\n",
            "|Argentina|    21|     FW|      DYBALA Paulo|       DYBALA|   Juventus FC (ITA)|   177|  73| 15| 11|1993|     1993-11-15|     3|\n",
            "|Argentina|    20|     MF|  LO CELSO Giovani|     LO CELSO|Paris Saint-Germa...|   177|  75| 09| 04|1996|     1996-04-09|     3|\n",
            "|Argentina|     5|     MF|      BIGLIA Lucas|       BIGLIA|      AC Milan (ITA)|   175|  73| 30| 01|1986|     1986-01-30|     3|\n",
            "|Argentina|     7|     MF|       BANEGA Ever|       BANEGA|    Sevilla FC (ESP)|   175|  73| 29| 06|1988|     1988-06-29|     3|\n",
            "|Argentina|    14|     DF| MASCHERANO Javier|   MASCHERANO|Hebei China Fortu...|   174|  73| 08| 06|1984|     1984-06-08|     4|\n",
            "|Argentina|    19|     FW|     AGUERO Sergio|       AGÜERO|Manchester City F...|   172|  74| 02| 06|1988|     1988-06-02|     4|\n",
            "|Argentina|     8|     DF|      ACUNA Marcos|        ACUÑA|   Sporting CP (POR)|   172|  77| 28| 10|1991|     1991-10-28|     4|\n",
            "|Argentina|    10|     FW|      MESSI Lionel|        MESSI|  FC Barcelona (ESP)|   170|  72| 24| 06|1987|     1987-06-24|     4|\n",
            "|Argentina|     3|     DF|TAGLIAFICO Nicolas|   TAGLIAFICO|      AFC Ajax (NED)|   169|  65| 31| 08|1992|     1992-08-31|     5|\n",
            "|Argentina|    22|     MF|    PAVON Cristian|        PAVÓN|CA Boca Juniors (...|   169|  65| 21| 01|1996|     1996-01-21|     5|\n",
            "|Argentina|    15|     MF|    LANZINI Manuel|      LANZINI|West Ham United F...|   167|  66| 15| 02|1993|     1993-02-15|     5|\n",
            "|Argentina|    18|     DF|    SALVIO Eduardo|       SALVIO|    SL Benfica (POR)|   167|  69| 13| 07|1990|     1990-07-13|     5|\n",
            "|Australia|    12|     GK|        JONES Brad|        JONES|Feyenoord Rotterd...|   193|  87| 19| 03|1982|     1982-03-19|     1|\n",
            "|Australia|     9|     FW|        JURIC Tomi|        JURIC|     FC Luzern (SUI)|   190|  80| 22| 07|1991|     1991-07-22|     1|\n",
            "|Australia|     6|     DF|    JURMAN Matthew|       JURMAN|Suwon Samsung Blu...|   190|  83| 08| 12|1989|     1989-12-08|     1|\n",
            "|Australia|    23|     MF|         ROGIC Tom|        ROGIC|     Celtic FC (SCO)|   189|  88| 16| 12|1992|     1992-12-16|     1|\n",
            "|Australia|    15|     MF|      JEDINAK Mile|      JEDINAK|Aston Villa FC (ENG)|   188|  78| 03| 08|1984|     1984-08-03|     1|\n",
            "|Australia|     2|     DF|     DEGENEK Milos|      DEGENEK|Yokohama F-Marino...|   187|  85| 28| 04|1994|     1994-04-28|     2|\n",
            "|Australia|    18|     GK|     VUKOVIC Danny|      VUKOVIC|      KRC Genk (BEL)|   187|  94| 27| 03|1985|     1985-03-27|     2|\n",
            "+---------+------+-------+------------------+-------------+--------------------+------+----+---+---+----+---------------+------+\n",
            "only showing top 30 rows\n",
            "\n"
          ]
        }
      ]
    },
    {
      "cell_type": "markdown",
      "source": [
        "### Window Analytic Functions (Funções Análiticas)"
      ],
      "metadata": {
        "id": "RdnmaZWRZ9WQ"
      }
    },
    {
      "cell_type": "markdown",
      "source": [
        "#### Window Function 6 - LAG / Degrau - lag()"
      ],
      "metadata": {
        "id": "UaqGRObIfq5I"
      }
    },
    {
      "cell_type": "code",
      "source": [
        "# Pega o peso da linha anterior e insere na prox. linha\n",
        "degrau = Window.partitionBy('Selecao').orderBy(desc('Altura'))\n",
        "df.withColumn('degrau', lag('Peso').over(degrau)).show(30)"
      ],
      "metadata": {
        "colab": {
          "base_uri": "https://localhost:8080/"
        },
        "id": "V7CYTGYCZ9eu",
        "outputId": "d7a741e1-af19-42d2-f5ec-fe0353a2b25d"
      },
      "execution_count": 59,
      "outputs": [
        {
          "output_type": "stream",
          "name": "stdout",
          "text": [
            "+---------+------+-------+------------------+-------------+--------------------+------+----+---+---+----+---------------+------+\n",
            "|  Selecao|Numero|Posicao|         Nome_FIFA|Nome Camiseta|                Time|Altura|Peso|Dia|Mes| Ano|Data_Nascimento|degrau|\n",
            "+---------+------+-------+------------------+-------------+--------------------+------+----+---+---+----+---------------+------+\n",
            "|Argentina|     6|     DF|    FAZIO Federico|        FAZIO|       AS Roma (ITA)|   199|  85| 17| 03|1987|     1987-03-17|  null|\n",
            "|Argentina|     1|     GK|     GUZMAN Nahuel|       GUZMÁN|   Tigres UANL (MEX)|   192|  90| 10| 02|1986|     1986-02-10|    85|\n",
            "|Argentina|    16|     DF|       ROJO Marcos|         ROJO|Manchester United...|   189|  82| 20| 03|1990|     1990-03-20|    90|\n",
            "|Argentina|    12|     GK|     ARMANI Franco|       ARMANI|CA River Plate (ARG)|   189|  85| 16| 10|1986|     1986-10-16|    82|\n",
            "|Argentina|    23|     GK|CABALLERO Wilfredo|    CABALLERO|    Chelsea FC (ENG)|   186|  80| 28| 09|1981|     1981-09-28|    85|\n",
            "|Argentina|     9|     FW|   HIGUAIN Gonzalo|      HIGUAÍN|   Juventus FC (ITA)|   184|  75| 10| 12|1987|     1987-12-10|    80|\n",
            "|Argentina|     4|     DF|  ANSALDI Cristian|      ANSALDI|     Torino FC (ITA)|   181|  73| 20| 09|1986|     1986-09-20|    75|\n",
            "|Argentina|     2|     DF|   MERCADO Gabriel|      MERCADO|    Sevilla FC (ESP)|   181|  81| 18| 03|1987|     1987-03-18|    73|\n",
            "|Argentina|    17|     DF|  OTAMENDI Nicolas|     OTAMENDI|Manchester City F...|   181|  81| 12| 02|1988|     1988-02-12|    81|\n",
            "|Argentina|    13|     MF|  MEZA Maximiliano|         MEZA|CA Independiente ...|   180|  76| 15| 12|1992|     1992-12-15|    81|\n",
            "|Argentina|    11|     MF|    DI MARIA Angel|     DI MARÍA|Paris Saint-Germa...|   178|  75| 14| 02|1988|     1988-02-14|    76|\n",
            "|Argentina|    21|     FW|      DYBALA Paulo|       DYBALA|   Juventus FC (ITA)|   177|  73| 15| 11|1993|     1993-11-15|    75|\n",
            "|Argentina|    20|     MF|  LO CELSO Giovani|     LO CELSO|Paris Saint-Germa...|   177|  75| 09| 04|1996|     1996-04-09|    73|\n",
            "|Argentina|     5|     MF|      BIGLIA Lucas|       BIGLIA|      AC Milan (ITA)|   175|  73| 30| 01|1986|     1986-01-30|    75|\n",
            "|Argentina|     7|     MF|       BANEGA Ever|       BANEGA|    Sevilla FC (ESP)|   175|  73| 29| 06|1988|     1988-06-29|    73|\n",
            "|Argentina|    14|     DF| MASCHERANO Javier|   MASCHERANO|Hebei China Fortu...|   174|  73| 08| 06|1984|     1984-06-08|    73|\n",
            "|Argentina|    19|     FW|     AGUERO Sergio|       AGÜERO|Manchester City F...|   172|  74| 02| 06|1988|     1988-06-02|    73|\n",
            "|Argentina|     8|     DF|      ACUNA Marcos|        ACUÑA|   Sporting CP (POR)|   172|  77| 28| 10|1991|     1991-10-28|    74|\n",
            "|Argentina|    10|     FW|      MESSI Lionel|        MESSI|  FC Barcelona (ESP)|   170|  72| 24| 06|1987|     1987-06-24|    77|\n",
            "|Argentina|     3|     DF|TAGLIAFICO Nicolas|   TAGLIAFICO|      AFC Ajax (NED)|   169|  65| 31| 08|1992|     1992-08-31|    72|\n",
            "|Argentina|    22|     MF|    PAVON Cristian|        PAVÓN|CA Boca Juniors (...|   169|  65| 21| 01|1996|     1996-01-21|    65|\n",
            "|Argentina|    15|     MF|    LANZINI Manuel|      LANZINI|West Ham United F...|   167|  66| 15| 02|1993|     1993-02-15|    65|\n",
            "|Argentina|    18|     DF|    SALVIO Eduardo|       SALVIO|    SL Benfica (POR)|   167|  69| 13| 07|1990|     1990-07-13|    66|\n",
            "|Australia|    12|     GK|        JONES Brad|        JONES|Feyenoord Rotterd...|   193|  87| 19| 03|1982|     1982-03-19|  null|\n",
            "|Australia|     9|     FW|        JURIC Tomi|        JURIC|     FC Luzern (SUI)|   190|  80| 22| 07|1991|     1991-07-22|    87|\n",
            "|Australia|     6|     DF|    JURMAN Matthew|       JURMAN|Suwon Samsung Blu...|   190|  83| 08| 12|1989|     1989-12-08|    80|\n",
            "|Australia|    23|     MF|         ROGIC Tom|        ROGIC|     Celtic FC (SCO)|   189|  88| 16| 12|1992|     1992-12-16|    83|\n",
            "|Australia|    15|     MF|      JEDINAK Mile|      JEDINAK|Aston Villa FC (ENG)|   188|  78| 03| 08|1984|     1984-08-03|    88|\n",
            "|Australia|     2|     DF|     DEGENEK Milos|      DEGENEK|Yokohama F-Marino...|   187|  85| 28| 04|1994|     1994-04-28|    78|\n",
            "|Australia|    18|     GK|     VUKOVIC Danny|      VUKOVIC|      KRC Genk (BEL)|   187|  94| 27| 03|1985|     1985-03-27|    85|\n",
            "+---------+------+-------+------------------+-------------+--------------------+------+----+---+---+----+---------------+------+\n",
            "only showing top 30 rows\n",
            "\n"
          ]
        }
      ]
    },
    {
      "cell_type": "markdown",
      "source": [
        "Window Function 7 - Lead / Degrau - lead"
      ],
      "metadata": {
        "id": "w-EtkaaCfvq2"
      }
    },
    {
      "cell_type": "code",
      "source": [
        "degrau = Window.partitionBy('Selecao').orderBy(desc('Altura'))\n",
        "df.withColumn('degrau', lead('Altura').over(degrau)).show(30)"
      ],
      "metadata": {
        "id": "V-LEes2wituP"
      },
      "execution_count": null,
      "outputs": []
    },
    {
      "cell_type": "markdown",
      "source": [
        "#### Agregações\n",
        "\n",
        "#### GroupBy + AGG 1"
      ],
      "metadata": {
        "id": "oxNTr_LUfwiH"
      }
    },
    {
      "cell_type": "code",
      "source": [
        "# df.groupBy('Selecao').mean('Altura').show()\n",
        "df.groupBy('Selecao').agg({'Altura': 'avg'}).orderBy(desc('avg(Altura)')).show()"
      ],
      "metadata": {
        "colab": {
          "base_uri": "https://localhost:8080/"
        },
        "id": "SPkO3On5fwyh",
        "outputId": "ac7b03c8-e437-4841-a769-5dd6748c1286"
      },
      "execution_count": 78,
      "outputs": [
        {
          "output_type": "stream",
          "name": "stdout",
          "text": [
            "+--------------+------------------+\n",
            "|       Selecao|       avg(Altura)|\n",
            "+--------------+------------------+\n",
            "|        Serbia|186.69565217391303|\n",
            "|       Denmark| 186.6086956521739|\n",
            "|       Germany| 185.7826086956522|\n",
            "|        Sweden| 185.7391304347826|\n",
            "|       Iceland|185.52173913043478|\n",
            "|       Belgium|185.34782608695653|\n",
            "|       Croatia| 185.2608695652174|\n",
            "|       Nigeria|184.52173913043478|\n",
            "|       IR Iran|184.47826086956522|\n",
            "|        Russia| 184.3913043478261|\n",
            "|       Senegal|183.65217391304347|\n",
            "|        France|183.30434782608697|\n",
            "|        Poland|183.17391304347825|\n",
            "|       Tunisia|183.08695652173913|\n",
            "|   Switzerland|182.91304347826087|\n",
            "|       England| 182.7391304347826|\n",
            "|       Morocco|182.69565217391303|\n",
            "|        Panama|182.17391304347825|\n",
            "|Korea Republic| 181.8695652173913|\n",
            "|       Uruguay|181.04347826086956|\n",
            "+--------------+------------------+\n",
            "only showing top 20 rows\n",
            "\n"
          ]
        }
      ]
    },
    {
      "cell_type": "markdown",
      "source": [
        "#### GroupBy + AGG 2"
      ],
      "metadata": {
        "id": "yYLDIy99jV8s"
      }
    },
    {
      "cell_type": "code",
      "source": [
        "df.groupby('Selecao').agg(avg('Altura')).orderBy('avg(Altura)').show()"
      ],
      "metadata": {
        "colab": {
          "base_uri": "https://localhost:8080/"
        },
        "id": "ozsQcn4bjWXZ",
        "outputId": "4daf3552-4018-429a-f3c5-e19710c94dee"
      },
      "execution_count": 79,
      "outputs": [
        {
          "output_type": "stream",
          "name": "stdout",
          "text": [
            "+--------------+------------------+\n",
            "|       Selecao|       avg(Altura)|\n",
            "+--------------+------------------+\n",
            "|          Peru| 177.6086956521739|\n",
            "|  Saudi Arabia|177.65217391304347|\n",
            "|     Argentina|178.43478260869566|\n",
            "|         Japan| 178.7826086956522|\n",
            "|      Portugal| 179.7391304347826|\n",
            "|        Mexico| 179.7826086956522|\n",
            "|         Spain|179.91304347826087|\n",
            "|    Costa Rica|180.69565217391303|\n",
            "|        Brazil| 180.7826086956522|\n",
            "|      Colombia| 180.7826086956522|\n",
            "|     Australia| 180.8695652173913|\n",
            "|         Egypt|             181.0|\n",
            "|       Uruguay|181.04347826086956|\n",
            "|Korea Republic| 181.8695652173913|\n",
            "|        Panama|182.17391304347825|\n",
            "|       Morocco|182.69565217391303|\n",
            "|       England| 182.7391304347826|\n",
            "|   Switzerland|182.91304347826087|\n",
            "|       Tunisia|183.08695652173913|\n",
            "|        Poland|183.17391304347825|\n",
            "+--------------+------------------+\n",
            "only showing top 20 rows\n",
            "\n"
          ]
        }
      ]
    },
    {
      "cell_type": "markdown",
      "source": [
        "#### Where"
      ],
      "metadata": {
        "id": "lYKMySMAlRhR"
      }
    },
    {
      "cell_type": "code",
      "source": [
        "# where = filter\n",
        "df.where('Selecao = \"Brazil\"').show(5)"
      ],
      "metadata": {
        "colab": {
          "base_uri": "https://localhost:8080/"
        },
        "id": "JJ5oQfpllRSZ",
        "outputId": "cb5e7d50-06ef-4f9c-8a7e-b813e83a90b2"
      },
      "execution_count": 80,
      "outputs": [
        {
          "output_type": "stream",
          "name": "stdout",
          "text": [
            "+-------+------+-------+-----------+-------------+--------------------+------+----+---+---+----+---------------+\n",
            "|Selecao|Numero|Posicao|  Nome_FIFA|Nome Camiseta|                Time|Altura|Peso|Dia|Mes| Ano|Data_Nascimento|\n",
            "+-------+------+-------+-----------+-------------+--------------------+------+----+---+---+----+---------------+\n",
            "| Brazil|    18|     MF|       FRED|         FRED|FC Shakhtar Donet...|   169|  64| 05| 03|1993|     1993-03-05|\n",
            "| Brazil|    21|     FW|     TAISON|       TAISON|FC Shakhtar Donet...|   172|  64| 13| 01|1988|     1988-01-13|\n",
            "| Brazil|    17|     MF|FERNANDINHO|  FERNANDINHO|Manchester City F...|   179|  67| 04| 05|1985|     1985-05-04|\n",
            "| Brazil|    22|     DF|     FAGNER|       FAGNER|SC Corinthians (BRA)|   168|  67| 11| 06|1989|     1989-06-11|\n",
            "| Brazil|    10|     FW|     NEYMAR|    NEYMAR JR|Paris Saint-Germa...|   175|  68| 05| 02|1992|     1992-02-05|\n",
            "+-------+------+-------+-----------+-------------+--------------------+------+----+---+---+----+---------------+\n",
            "only showing top 5 rows\n",
            "\n"
          ]
        }
      ]
    },
    {
      "cell_type": "code",
      "source": [
        "top1 = Window.partitionBy('Selecao').orderBy(desc('Altura'))\n",
        "df.withColumn('Top', rank().over(top1)).filter('Top = \"1\"').show(5)"
      ],
      "metadata": {
        "colab": {
          "base_uri": "https://localhost:8080/"
        },
        "id": "WIJ-Sjf0lw4s",
        "outputId": "46001f3d-8ce0-4bdf-af6d-6f0441dde696"
      },
      "execution_count": 82,
      "outputs": [
        {
          "output_type": "stream",
          "name": "stdout",
          "text": [
            "+---------+------+-------+----------------+-------------+--------------------+------+----+---+---+----+---------------+---+\n",
            "|  Selecao|Numero|Posicao|       Nome_FIFA|Nome Camiseta|                Time|Altura|Peso|Dia|Mes| Ano|Data_Nascimento|Top|\n",
            "+---------+------+-------+----------------+-------------+--------------------+------+----+---+---+----+---------------+---+\n",
            "|Argentina|     6|     DF|  FAZIO Federico|        FAZIO|       AS Roma (ITA)|   199|  85| 17| 03|1987|     1987-03-17|  1|\n",
            "|Australia|    12|     GK|      JONES Brad|        JONES|Feyenoord Rotterd...|   193|  87| 19| 03|1982|     1982-03-19|  1|\n",
            "|  Belgium|     1|     GK|COURTOIS Thibaut|     COURTOIS|    Chelsea FC (ENG)|   199|  91| 11| 05|1992|     1992-05-11|  1|\n",
            "|   Brazil|    16|     GK|          CASSIO|       CASSIO|SC Corinthians (BRA)|   195|  92| 06| 06|1987|     1987-06-06|  1|\n",
            "| Colombia|    13|     DF|      MINA Yerry|      Y. MINA|  FC Barcelona (ESP)|   194|  95| 23| 09|1994|     1994-09-23|  1|\n",
            "+---------+------+-------+----------------+-------------+--------------------+------+----+---+---+----+---------------+---+\n",
            "only showing top 5 rows\n",
            "\n"
          ]
        }
      ]
    },
    {
      "cell_type": "markdown",
      "source": [
        "#### Describe"
      ],
      "metadata": {
        "id": "dKOyFs5slRvt"
      }
    },
    {
      "cell_type": "code",
      "source": [
        "df.describe().show()\n",
        "#df.where(\"Selecao\" = ''Brazil').describe()"
      ],
      "metadata": {
        "colab": {
          "base_uri": "https://localhost:8080/"
        },
        "id": "5Nmq1HJDlRoY",
        "outputId": "65dc9553-7102-4089-bd0e-11e9281db2c2"
      },
      "execution_count": 84,
      "outputs": [
        {
          "output_type": "stream",
          "name": "stdout",
          "text": [
            "+-------+---------+-----------------+-------+------------+-------------+--------------------+-----------------+-----------------+------------------+------------------+------------------+\n",
            "|summary|  Selecao|           Numero|Posicao|   Nome_FIFA|Nome Camiseta|                Time|           Altura|             Peso|               Dia|               Mes|               Ano|\n",
            "+-------+---------+-----------------+-------+------------+-------------+--------------------+-----------------+-----------------+------------------+------------------+------------------+\n",
            "|  count|      736|              736|    736|         736|          736|                 736|              736|              736|               736|               736|               736|\n",
            "|   mean|     null|             12.0|   null|        null|         null|                null|182.4076086956522|77.18885869565217|15.793478260869565|5.8790760869565215| 1990.110054347826|\n",
            "| stddev|     null|6.637760461599851|   null|        null|         null|                null|6.930924233929302|7.233778346883639| 8.761123828732469|3.3782493094684387|3.9074472063626775|\n",
            "|    min|Argentina|                1|     DF|ABDALLA SAID|    A. ASHRAF|    1. FC Köln (GER)|              165|               59|                01|                01|              1973|\n",
            "|    max|  Uruguay|               23|     MF|ZUBER Steven|     ŽIVKOVIĆ|Étoile du Sahel (...|              201|               99|                31|                12|              1999|\n",
            "+-------+---------+-----------------+-------+------------+-------------+--------------------+-----------------+-----------------+------------------+------------------+------------------+\n",
            "\n"
          ]
        }
      ]
    },
    {
      "cell_type": "markdown",
      "source": [
        "Window Function 8 - Função de Agregação usando Window Function"
      ],
      "metadata": {
        "id": "qtYFy4h1oZCt"
      }
    },
    {
      "cell_type": "code",
      "source": [
        "parametro = Window.partitionBy('Selecao').orderBy(desc('Altura'))\n",
        "parametro2 = Window.partitionBy('Selecao')\n",
        "\n",
        "df.withColumn('linhax', row_number().over(parametro))\\\n",
        ".withColumn('media', avg('Altura').over(parametro2))\\\n",
        ".withColumn('max', max('Altura').over(parametro2))\\\n",
        ".withColumn('min', min('Altura').over(parametro2))\\\n",
        ".filter('linhax = \"1\"').select('Selecao', 'media', 'max', 'min')\\\n",
        ".orderBy('media', ascending=False).show(30)"
      ],
      "metadata": {
        "colab": {
          "base_uri": "https://localhost:8080/"
        },
        "id": "2ICesjn8oZKK",
        "outputId": "fad9aa4d-1f52-4300-8247-437c15d0cc49"
      },
      "execution_count": 86,
      "outputs": [
        {
          "output_type": "stream",
          "name": "stdout",
          "text": [
            "+--------------+------------------+---+---+\n",
            "|       Selecao|             media|max|min|\n",
            "+--------------+------------------+---+---+\n",
            "|        Serbia|186.69565217391303|195|169|\n",
            "|       Denmark| 186.6086956521739|200|171|\n",
            "|       Germany| 185.7826086956522|195|176|\n",
            "|        Sweden| 185.7391304347826|198|177|\n",
            "|       Iceland|185.52173913043478|198|170|\n",
            "|       Belgium|185.34782608695653|199|169|\n",
            "|       Croatia| 185.2608695652174|201|172|\n",
            "|       Nigeria|184.52173913043478|197|172|\n",
            "|       IR Iran|184.47826086956522|194|177|\n",
            "|        Russia| 184.3913043478261|196|173|\n",
            "|       Senegal|183.65217391304347|196|173|\n",
            "|        France|183.30434782608697|197|168|\n",
            "|        Poland|183.17391304347825|195|172|\n",
            "|       Tunisia|183.08695652173913|192|170|\n",
            "|   Switzerland|182.91304347826087|192|165|\n",
            "|       England| 182.7391304347826|196|170|\n",
            "|       Morocco|182.69565217391303|190|167|\n",
            "|        Panama|182.17391304347825|197|165|\n",
            "|Korea Republic| 181.8695652173913|197|170|\n",
            "|       Uruguay|181.04347826086956|196|168|\n",
            "|         Egypt|             181.0|194|169|\n",
            "|     Australia| 180.8695652173913|193|169|\n",
            "|        Brazil| 180.7826086956522|195|168|\n",
            "|      Colombia| 180.7826086956522|194|169|\n",
            "|    Costa Rica|180.69565217391303|196|172|\n",
            "|         Spain|179.91304347826087|194|170|\n",
            "|        Mexico| 179.7826086956522|190|166|\n",
            "|      Portugal| 179.7391304347826|191|168|\n",
            "|         Japan| 178.7826086956522|189|168|\n",
            "|     Argentina|178.43478260869566|199|167|\n",
            "+--------------+------------------+---+---+\n",
            "only showing top 30 rows\n",
            "\n"
          ]
        }
      ]
    }
  ]
}