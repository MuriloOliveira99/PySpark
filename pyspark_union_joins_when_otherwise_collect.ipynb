{
  "nbformat": 4,
  "nbformat_minor": 0,
  "metadata": {
    "colab": {
      "provenance": []
    },
    "kernelspec": {
      "name": "python3",
      "display_name": "Python 3"
    },
    "language_info": {
      "name": "python"
    }
  },
  "cells": [
    {
      "cell_type": "markdown",
      "source": [
        "#PySpark - Union / Joins / When - Otherwise / Collect"
      ],
      "metadata": {
        "id": "ubbFN8R9s8h3"
      }
    },
    {
      "cell_type": "markdown",
      "source": [
        "##### Índice:\n",
        "\n",
        "<ul>\n",
        " <li>Importação bibliotecas / funções </li> \n",
        " <li>Criar Sessão PySpark </li>\n",
        " <li>Criar DF / ler arquivo</li>\n",
        " <li>Collect()</li>\n",
        " <li>When() / Otherwise()</li>\n",
        " <li>Union (Concat)</li>\n",
        " <li>Joins</li>\n",
        " <li>Join - Simples</li>\n",
        " <li>Inner Join</li>\n",
        " <li>Left Join</li>\n",
        " <li>Right Join</li>\n",
        " <li>Full Join</li>\n",
        " <li>Semi Join</li>\n",
        " <li>Anti Join</li>\n",
        "\n",
        "</ul>\n"
      ],
      "metadata": {
        "id": "ImtZs4D8_5X2"
      }
    },
    {
      "cell_type": "code",
      "execution_count": null,
      "metadata": {
        "id": "bx7JTRV-sOw6"
      },
      "outputs": [],
      "source": [
        "!pip install pyspark"
      ]
    },
    {
      "cell_type": "code",
      "source": [
        "import os\n",
        "import sys\n",
        "from pyspark.sql import SparkSession\n",
        "from pyspark.sql.functions import *\n",
        "from pyspark.sql.types import *\n",
        "from pyspark.sql.window import Window\n",
        "\n",
        "# Resolve o problema de incompatibilidade de versões\n",
        "os.environ['PYSPARK_PYTHON'] = sys.executable\n",
        "os.environ['PYSPARK_DRIVER_PYTHON'] = sys.executable"
      ],
      "metadata": {
        "id": "RJKPq1QEsZ1e"
      },
      "execution_count": 2,
      "outputs": []
    },
    {
      "cell_type": "code",
      "source": [
        "spark = (\n",
        "    SparkSession.builder\n",
        "    .master('local')\n",
        "    .appName('PySpark_03')\n",
        "    .getOrCreate()\n",
        ")"
      ],
      "metadata": {
        "id": "AzNh9-70sZ8i"
      },
      "execution_count": 6,
      "outputs": []
    },
    {
      "cell_type": "code",
      "source": [
        "df = spark.read.csv('/content/sample_data/wc2018-players.csv', header=True, inferSchema=True)"
      ],
      "metadata": {
        "id": "Zku-VH-6sfXV"
      },
      "execution_count": 7,
      "outputs": []
    },
    {
      "cell_type": "code",
      "source": [
        "df = df.withColumnRenamed('Team', 'Selecao').withColumnRenamed('#', 'Numero').withColumnRenamed('Pos.', 'Posicao')\\\n",
        ".withColumnRenamed('Fifa Popular Name', 'Nome_FIFA').withColumnRenamed('Birth Date', 'Nascimento')\\\n",
        ".withColumnRenamed('Shirt Name', 'Nome Camiseta').withColumnRenamed('Club', 'Time').withColumnRenamed('Height', 'Altura')\\\n",
        ".withColumnRenamed('Weight', 'Peso')"
      ],
      "metadata": {
        "id": "eVRybejesi0W"
      },
      "execution_count": 8,
      "outputs": []
    },
    {
      "cell_type": "code",
      "source": [
        "dia = udf(lambda data: data.split('.')[0])\n",
        "mes = udf(lambda data: data.split('.')[1])\n",
        "ano = udf(lambda data: data.split('.')[2])"
      ],
      "metadata": {
        "id": "NbUhpCzMsjJo"
      },
      "execution_count": 9,
      "outputs": []
    },
    {
      "cell_type": "code",
      "source": [
        "df = df.withColumn('Dia', dia('Nascimento')).withColumn('Mes', mes('Nascimento')).withColumn('Ano', ano('nascimento'))\n",
        "df = df.withColumn('Data_Nascimento', concat_ws('-', 'Ano', 'Mes', 'Dia').cast(DateType()))\n",
        "df.show(5)"
      ],
      "metadata": {
        "colab": {
          "base_uri": "https://localhost:8080/"
        },
        "id": "RNOEW1K5slnY",
        "outputId": "fc09c833-bfa2-4172-c65e-5ad375ab1c7e"
      },
      "execution_count": 10,
      "outputs": [
        {
          "output_type": "stream",
          "name": "stdout",
          "text": [
            "+---------+------+-------+------------------+----------+-------------+--------------------+------+----+---+---+----+---------------+\n",
            "|  Selecao|Numero|Posicao|         Nome_FIFA|Nascimento|Nome Camiseta|                Time|Altura|Peso|Dia|Mes| Ano|Data_Nascimento|\n",
            "+---------+------+-------+------------------+----------+-------------+--------------------+------+----+---+---+----+---------------+\n",
            "|Argentina|     3|     DF|TAGLIAFICO Nicolas|31.08.1992|   TAGLIAFICO|      AFC Ajax (NED)|   169|  65| 31| 08|1992|     1992-08-31|\n",
            "|Argentina|    22|     MF|    PAVON Cristian|21.01.1996|        PAVÓN|CA Boca Juniors (...|   169|  65| 21| 01|1996|     1996-01-21|\n",
            "|Argentina|    15|     MF|    LANZINI Manuel|15.02.1993|      LANZINI|West Ham United F...|   167|  66| 15| 02|1993|     1993-02-15|\n",
            "|Argentina|    18|     DF|    SALVIO Eduardo|13.07.1990|       SALVIO|    SL Benfica (POR)|   167|  69| 13| 07|1990|     1990-07-13|\n",
            "|Argentina|    10|     FW|      MESSI Lionel|24.06.1987|        MESSI|  FC Barcelona (ESP)|   170|  72| 24| 06|1987|     1987-06-24|\n",
            "+---------+------+-------+------------------+----------+-------------+--------------------+------+----+---+---+----+---------------+\n",
            "only showing top 5 rows\n",
            "\n"
          ]
        }
      ]
    },
    {
      "cell_type": "code",
      "source": [
        "df.printSchema()"
      ],
      "metadata": {
        "colab": {
          "base_uri": "https://localhost:8080/"
        },
        "id": "SkZSIoPxso4e",
        "outputId": "029e917f-9c58-4a26-9edb-e753b5c76e2c"
      },
      "execution_count": 11,
      "outputs": [
        {
          "output_type": "stream",
          "name": "stdout",
          "text": [
            "root\n",
            " |-- Selecao: string (nullable = true)\n",
            " |-- Numero: integer (nullable = true)\n",
            " |-- Posicao: string (nullable = true)\n",
            " |-- Nome_FIFA: string (nullable = true)\n",
            " |-- Nascimento: string (nullable = true)\n",
            " |-- Nome Camiseta: string (nullable = true)\n",
            " |-- Time: string (nullable = true)\n",
            " |-- Altura: integer (nullable = true)\n",
            " |-- Peso: integer (nullable = true)\n",
            " |-- Dia: string (nullable = true)\n",
            " |-- Mes: string (nullable = true)\n",
            " |-- Ano: string (nullable = true)\n",
            " |-- Data_Nascimento: date (nullable = true)\n",
            "\n"
          ]
        }
      ]
    },
    {
      "cell_type": "code",
      "source": [
        "df2 = df\n",
        "df = df.drop('Nascimento', 'Nome_FIFA')"
      ],
      "metadata": {
        "id": "Cew_5af1sy0V"
      },
      "execution_count": 12,
      "outputs": []
    },
    {
      "cell_type": "markdown",
      "source": [
        "####distinct() - Retorna os valores unicos de uma coluna"
      ],
      "metadata": {
        "id": "E7-dcRlctVBr"
      }
    },
    {
      "cell_type": "code",
      "source": [
        "df.select(col('Selecao')).distinct().show(50)"
      ],
      "metadata": {
        "colab": {
          "base_uri": "https://localhost:8080/"
        },
        "id": "0eLZeZlUtR9_",
        "outputId": "82a6f33b-ac51-420a-f93d-bf2628776769"
      },
      "execution_count": 13,
      "outputs": [
        {
          "output_type": "stream",
          "name": "stdout",
          "text": [
            "+--------------+\n",
            "|       Selecao|\n",
            "+--------------+\n",
            "|        Russia|\n",
            "|       Senegal|\n",
            "|        Sweden|\n",
            "|       IR Iran|\n",
            "|       Germany|\n",
            "|        France|\n",
            "|     Argentina|\n",
            "|       Belgium|\n",
            "|          Peru|\n",
            "|       Croatia|\n",
            "|       Nigeria|\n",
            "|Korea Republic|\n",
            "|         Spain|\n",
            "|       Denmark|\n",
            "|       Morocco|\n",
            "|        Panama|\n",
            "|       Iceland|\n",
            "|       Uruguay|\n",
            "|        Mexico|\n",
            "|       Tunisia|\n",
            "|  Saudi Arabia|\n",
            "|   Switzerland|\n",
            "|        Brazil|\n",
            "|         Japan|\n",
            "|       England|\n",
            "|        Poland|\n",
            "|      Portugal|\n",
            "|     Australia|\n",
            "|    Costa Rica|\n",
            "|         Egypt|\n",
            "|        Serbia|\n",
            "|      Colombia|\n",
            "+--------------+\n",
            "\n"
          ]
        }
      ]
    },
    {
      "cell_type": "markdown",
      "source": [
        "####collect() - Entrega em formato de lista"
      ],
      "metadata": {
        "id": "0wdHLEZItV02"
      }
    },
    {
      "cell_type": "code",
      "source": [
        "lista = df.select(col('Selecao')).distinct().collect()"
      ],
      "metadata": {
        "id": "N6cLPbZ3tV8H"
      },
      "execution_count": 15,
      "outputs": []
    },
    {
      "cell_type": "code",
      "source": [
        "paises = []\n",
        "for pais in lista:\n",
        "  paises.append(pais[0])\n",
        "paises"
      ],
      "metadata": {
        "colab": {
          "base_uri": "https://localhost:8080/"
        },
        "id": "xPMZQOpLvfcA",
        "outputId": "7a23eb73-212f-4db5-e1c7-d4f7b1503a58"
      },
      "execution_count": 18,
      "outputs": [
        {
          "output_type": "execute_result",
          "data": {
            "text/plain": [
              "['Russia',\n",
              " 'Senegal',\n",
              " 'Sweden',\n",
              " 'IR Iran',\n",
              " 'Germany',\n",
              " 'France',\n",
              " 'Argentina',\n",
              " 'Belgium',\n",
              " 'Peru',\n",
              " 'Croatia',\n",
              " 'Nigeria',\n",
              " 'Korea Republic',\n",
              " 'Spain',\n",
              " 'Denmark',\n",
              " 'Morocco',\n",
              " 'Panama',\n",
              " 'Iceland',\n",
              " 'Uruguay',\n",
              " 'Mexico',\n",
              " 'Tunisia',\n",
              " 'Saudi Arabia',\n",
              " 'Switzerland',\n",
              " 'Brazil',\n",
              " 'Japan',\n",
              " 'England',\n",
              " 'Poland',\n",
              " 'Portugal',\n",
              " 'Australia',\n",
              " 'Costa Rica',\n",
              " 'Egypt',\n",
              " 'Serbia',\n",
              " 'Colombia']"
            ]
          },
          "metadata": {},
          "execution_count": 18
        }
      ]
    },
    {
      "cell_type": "markdown",
      "source": [
        "when() / otherwise"
      ],
      "metadata": {
        "id": "JXikbDOitWEu"
      }
    },
    {
      "cell_type": "code",
      "source": [
        "# when / otherwise parece um if/else\n",
        "df.withColumn('Coluna_nova', when(col('Selecao') == \"Argentina\", \"Argentinos :)\").otherwise(\"Não Argentino\")).show(30)"
      ],
      "metadata": {
        "colab": {
          "base_uri": "https://localhost:8080/"
        },
        "id": "8KGDIPWMtWMz",
        "outputId": "863b3619-ae12-4f3c-c4f5-9d9cea14b712"
      },
      "execution_count": 20,
      "outputs": [
        {
          "output_type": "stream",
          "name": "stdout",
          "text": [
            "+---------+------+-------+-------------+--------------------+------+----+---+---+----+---------------+-------------+\n",
            "|  Selecao|Numero|Posicao|Nome Camiseta|                Time|Altura|Peso|Dia|Mes| Ano|Data_Nascimento|  Coluna_nova|\n",
            "+---------+------+-------+-------------+--------------------+------+----+---+---+----+---------------+-------------+\n",
            "|Argentina|     3|     DF|   TAGLIAFICO|      AFC Ajax (NED)|   169|  65| 31| 08|1992|     1992-08-31|Argentinos :)|\n",
            "|Argentina|    22|     MF|        PAVÓN|CA Boca Juniors (...|   169|  65| 21| 01|1996|     1996-01-21|Argentinos :)|\n",
            "|Argentina|    15|     MF|      LANZINI|West Ham United F...|   167|  66| 15| 02|1993|     1993-02-15|Argentinos :)|\n",
            "|Argentina|    18|     DF|       SALVIO|    SL Benfica (POR)|   167|  69| 13| 07|1990|     1990-07-13|Argentinos :)|\n",
            "|Argentina|    10|     FW|        MESSI|  FC Barcelona (ESP)|   170|  72| 24| 06|1987|     1987-06-24|Argentinos :)|\n",
            "|Argentina|     4|     DF|      ANSALDI|     Torino FC (ITA)|   181|  73| 20| 09|1986|     1986-09-20|Argentinos :)|\n",
            "|Argentina|     5|     MF|       BIGLIA|      AC Milan (ITA)|   175|  73| 30| 01|1986|     1986-01-30|Argentinos :)|\n",
            "|Argentina|     7|     MF|       BANEGA|    Sevilla FC (ESP)|   175|  73| 29| 06|1988|     1988-06-29|Argentinos :)|\n",
            "|Argentina|    14|     DF|   MASCHERANO|Hebei China Fortu...|   174|  73| 08| 06|1984|     1984-06-08|Argentinos :)|\n",
            "|Argentina|    21|     FW|       DYBALA|   Juventus FC (ITA)|   177|  73| 15| 11|1993|     1993-11-15|Argentinos :)|\n",
            "|Argentina|    19|     FW|       AGÜERO|Manchester City F...|   172|  74| 02| 06|1988|     1988-06-02|Argentinos :)|\n",
            "|Argentina|     9|     FW|      HIGUAÍN|   Juventus FC (ITA)|   184|  75| 10| 12|1987|     1987-12-10|Argentinos :)|\n",
            "|Argentina|    11|     MF|     DI MARÍA|Paris Saint-Germa...|   178|  75| 14| 02|1988|     1988-02-14|Argentinos :)|\n",
            "|Argentina|    20|     MF|     LO CELSO|Paris Saint-Germa...|   177|  75| 09| 04|1996|     1996-04-09|Argentinos :)|\n",
            "|Argentina|    13|     MF|         MEZA|CA Independiente ...|   180|  76| 15| 12|1992|     1992-12-15|Argentinos :)|\n",
            "|Argentina|     8|     DF|        ACUÑA|   Sporting CP (POR)|   172|  77| 28| 10|1991|     1991-10-28|Argentinos :)|\n",
            "|Argentina|    23|     GK|    CABALLERO|    Chelsea FC (ENG)|   186|  80| 28| 09|1981|     1981-09-28|Argentinos :)|\n",
            "|Argentina|     2|     DF|      MERCADO|    Sevilla FC (ESP)|   181|  81| 18| 03|1987|     1987-03-18|Argentinos :)|\n",
            "|Argentina|    17|     DF|     OTAMENDI|Manchester City F...|   181|  81| 12| 02|1988|     1988-02-12|Argentinos :)|\n",
            "|Argentina|    16|     DF|         ROJO|Manchester United...|   189|  82| 20| 03|1990|     1990-03-20|Argentinos :)|\n",
            "|Argentina|     6|     DF|        FAZIO|       AS Roma (ITA)|   199|  85| 17| 03|1987|     1987-03-17|Argentinos :)|\n",
            "|Argentina|    12|     GK|       ARMANI|CA River Plate (ARG)|   189|  85| 16| 10|1986|     1986-10-16|Argentinos :)|\n",
            "|Argentina|     1|     GK|       GUZMÁN|   Tigres UANL (MEX)|   192|  90| 10| 02|1986|     1986-02-10|Argentinos :)|\n",
            "|Australia|    16|     DF|       BEHICH|     Bursaspor (TUR)|   170|  63| 16| 12|1990|     1990-12-16|Não Argentino|\n",
            "|Australia|    10|     FW|        KRUSE|    VfL Bochum (GER)|   180|  66| 05| 10|1988|     1988-10-05|Não Argentino|\n",
            "|Australia|    19|     DF|       RISDON|WS Wanderers FC (...|   169|  70| 27| 07|1992|     1992-07-27|Não Argentino|\n",
            "|Australia|     3|     DF|     MEREDITH|   Millwall FC (ENG)|   179|  71| 05| 04|1988|     1988-04-05|Não Argentino|\n",
            "|Australia|    13|     MF|         MOOY|Huddersfield Town...|   173|  72| 15| 09|1990|     1990-09-15|Não Argentino|\n",
            "|Australia|    14|     FW|     MACLAREN|  Hibernian FC (SCO)|   178|  72| 29| 07|1993|     1993-07-29|Não Argentino|\n",
            "|Australia|    21|     FW|     PETRATOS|Newcastle United ...|   176|  72| 10| 11|1992|     1992-11-10|Não Argentino|\n",
            "+---------+------+-------+-------------+--------------------+------+----+---+---+----+---------------+-------------+\n",
            "only showing top 30 rows\n",
            "\n"
          ]
        }
      ]
    },
    {
      "cell_type": "code",
      "source": [
        "europa = ['Sweden', 'Germany', 'France', 'Belgium', 'Croatia', 'Spain', 'Denmark', 'Iceland', 'Switzerland', 'England', 'Poland', 'Portugal', 'Serbia']\n",
        "asia = ['Russia', 'IR Iran', 'Nigeria', 'Korea Republic', 'Saudi Arabia', 'Japan', ]\n",
        "africa = ['Senegal', 'Morocco', 'Tunisia', 'Egypt']\n",
        "oceania = ['Australia']\n",
        "america_norte = ['Panama', 'Mexico', 'Costa Rica']\n",
        "america_sul = ['Argentina', 'Peru', 'Uruguay', 'Brazil', 'Colombia']"
      ],
      "metadata": {
        "id": "Vq-bt5b80Fqg"
      },
      "execution_count": 21,
      "outputs": []
    },
    {
      "cell_type": "code",
      "source": [
        "df = df.withColumn('Continente', when(col('Selecao').isin(europa), 'Europa')\\\n",
        "             .when(col('Selecao').isin(asia), 'Ásia')\\\n",
        "             .when(col('Selecao').isin(africa), 'África')\\\n",
        "             .when(col('Selecao').isin(oceania), 'Oceania')\\\n",
        "             .when(col('Selecao').isin(america_norte), 'América do Norte')\\\n",
        "             .when(col('Selecao').isin(america_sul), 'América do Sul')\\\n",
        "             .otherwise('Verificar'))\n",
        "df.show(5)"
      ],
      "metadata": {
        "colab": {
          "base_uri": "https://localhost:8080/"
        },
        "id": "i_EFVbsA0IhU",
        "outputId": "b71fb6f6-0a95-40d5-c974-16cc5b7defb6"
      },
      "execution_count": 22,
      "outputs": [
        {
          "output_type": "stream",
          "name": "stdout",
          "text": [
            "+---------+------+-------+-------------+--------------------+------+----+---+---+----+---------------+--------------+\n",
            "|  Selecao|Numero|Posicao|Nome Camiseta|                Time|Altura|Peso|Dia|Mes| Ano|Data_Nascimento|    Continente|\n",
            "+---------+------+-------+-------------+--------------------+------+----+---+---+----+---------------+--------------+\n",
            "|Argentina|     3|     DF|   TAGLIAFICO|      AFC Ajax (NED)|   169|  65| 31| 08|1992|     1992-08-31|América do Sul|\n",
            "|Argentina|    22|     MF|        PAVÓN|CA Boca Juniors (...|   169|  65| 21| 01|1996|     1996-01-21|América do Sul|\n",
            "|Argentina|    15|     MF|      LANZINI|West Ham United F...|   167|  66| 15| 02|1993|     1993-02-15|América do Sul|\n",
            "|Argentina|    18|     DF|       SALVIO|    SL Benfica (POR)|   167|  69| 13| 07|1990|     1990-07-13|América do Sul|\n",
            "|Argentina|    10|     FW|        MESSI|  FC Barcelona (ESP)|   170|  72| 24| 06|1987|     1987-06-24|América do Sul|\n",
            "+---------+------+-------+-------------+--------------------+------+----+---+---+----+---------------+--------------+\n",
            "only showing top 5 rows\n",
            "\n"
          ]
        }
      ]
    },
    {
      "cell_type": "code",
      "source": [
        "df.filter('Continente = \"Verificar\"').show(5)"
      ],
      "metadata": {
        "colab": {
          "base_uri": "https://localhost:8080/"
        },
        "id": "WN_Q3wxL0S6q",
        "outputId": "9280bd66-48e3-4935-c48d-d5d9e5a11777"
      },
      "execution_count": 25,
      "outputs": [
        {
          "output_type": "stream",
          "name": "stdout",
          "text": [
            "+-------+------+-------+-------------+----+------+----+---+---+---+---------------+----------+\n",
            "|Selecao|Numero|Posicao|Nome Camiseta|Time|Altura|Peso|Dia|Mes|Ano|Data_Nascimento|Continente|\n",
            "+-------+------+-------+-------------+----+------+----+---+---+---+---------------+----------+\n",
            "+-------+------+-------+-------------+----+------+----+---+---+---+---------------+----------+\n",
            "\n"
          ]
        }
      ]
    },
    {
      "cell_type": "markdown",
      "source": [
        "####union (concat) - Unir dataframes"
      ],
      "metadata": {
        "id": "bgHCS4FctWTg"
      }
    },
    {
      "cell_type": "code",
      "source": [
        "df_america_sul = df.filter('Continente = \"América do Sul\"')\n",
        "df_america_sul.select('Selecao').distinct().show()"
      ],
      "metadata": {
        "colab": {
          "base_uri": "https://localhost:8080/"
        },
        "id": "KssYkQyQtWbS",
        "outputId": "b8128cbe-a167-40c1-cef4-eb96bab4630d"
      },
      "execution_count": 30,
      "outputs": [
        {
          "output_type": "stream",
          "name": "stdout",
          "text": [
            "+---------+\n",
            "|  Selecao|\n",
            "+---------+\n",
            "|Argentina|\n",
            "|     Peru|\n",
            "|  Uruguay|\n",
            "|   Brazil|\n",
            "| Colombia|\n",
            "+---------+\n",
            "\n"
          ]
        }
      ]
    },
    {
      "cell_type": "code",
      "source": [
        "df_america_norte = df.filter('Continente = \"América do Norte\"')\n",
        "df_america_norte.select('Selecao').distinct().show()"
      ],
      "metadata": {
        "colab": {
          "base_uri": "https://localhost:8080/"
        },
        "id": "FFgFuOQW1ODL",
        "outputId": "bf9858da-98a2-4ae1-a99a-3af396dc3b1c"
      },
      "execution_count": 33,
      "outputs": [
        {
          "output_type": "stream",
          "name": "stdout",
          "text": [
            "+----------+\n",
            "|   Selecao|\n",
            "+----------+\n",
            "|    Panama|\n",
            "|    Mexico|\n",
            "|Costa Rica|\n",
            "+----------+\n",
            "\n"
          ]
        }
      ]
    },
    {
      "cell_type": "code",
      "source": [
        "df_americas = df_america_sul.union(df_america_norte)\n",
        "df_americas.show(100)"
      ],
      "metadata": {
        "colab": {
          "base_uri": "https://localhost:8080/"
        },
        "id": "yHQpbzhp1OJD",
        "outputId": "9ab7344c-2a54-4281-8f5a-a3012277bbd0"
      },
      "execution_count": 38,
      "outputs": [
        {
          "output_type": "stream",
          "name": "stdout",
          "text": [
            "+---------+------+-------+-------------+--------------------+------+----+---+---+----+---------------+--------------+\n",
            "|  Selecao|Numero|Posicao|Nome Camiseta|                Time|Altura|Peso|Dia|Mes| Ano|Data_Nascimento|    Continente|\n",
            "+---------+------+-------+-------------+--------------------+------+----+---+---+----+---------------+--------------+\n",
            "|Argentina|     3|     DF|   TAGLIAFICO|      AFC Ajax (NED)|   169|  65| 31| 08|1992|     1992-08-31|América do Sul|\n",
            "|Argentina|    22|     MF|        PAVÓN|CA Boca Juniors (...|   169|  65| 21| 01|1996|     1996-01-21|América do Sul|\n",
            "|Argentina|    15|     MF|      LANZINI|West Ham United F...|   167|  66| 15| 02|1993|     1993-02-15|América do Sul|\n",
            "|Argentina|    18|     DF|       SALVIO|    SL Benfica (POR)|   167|  69| 13| 07|1990|     1990-07-13|América do Sul|\n",
            "|Argentina|    10|     FW|        MESSI|  FC Barcelona (ESP)|   170|  72| 24| 06|1987|     1987-06-24|América do Sul|\n",
            "|Argentina|     4|     DF|      ANSALDI|     Torino FC (ITA)|   181|  73| 20| 09|1986|     1986-09-20|América do Sul|\n",
            "|Argentina|     5|     MF|       BIGLIA|      AC Milan (ITA)|   175|  73| 30| 01|1986|     1986-01-30|América do Sul|\n",
            "|Argentina|     7|     MF|       BANEGA|    Sevilla FC (ESP)|   175|  73| 29| 06|1988|     1988-06-29|América do Sul|\n",
            "|Argentina|    14|     DF|   MASCHERANO|Hebei China Fortu...|   174|  73| 08| 06|1984|     1984-06-08|América do Sul|\n",
            "|Argentina|    21|     FW|       DYBALA|   Juventus FC (ITA)|   177|  73| 15| 11|1993|     1993-11-15|América do Sul|\n",
            "|Argentina|    19|     FW|       AGÜERO|Manchester City F...|   172|  74| 02| 06|1988|     1988-06-02|América do Sul|\n",
            "|Argentina|     9|     FW|      HIGUAÍN|   Juventus FC (ITA)|   184|  75| 10| 12|1987|     1987-12-10|América do Sul|\n",
            "|Argentina|    11|     MF|     DI MARÍA|Paris Saint-Germa...|   178|  75| 14| 02|1988|     1988-02-14|América do Sul|\n",
            "|Argentina|    20|     MF|     LO CELSO|Paris Saint-Germa...|   177|  75| 09| 04|1996|     1996-04-09|América do Sul|\n",
            "|Argentina|    13|     MF|         MEZA|CA Independiente ...|   180|  76| 15| 12|1992|     1992-12-15|América do Sul|\n",
            "|Argentina|     8|     DF|        ACUÑA|   Sporting CP (POR)|   172|  77| 28| 10|1991|     1991-10-28|América do Sul|\n",
            "|Argentina|    23|     GK|    CABALLERO|    Chelsea FC (ENG)|   186|  80| 28| 09|1981|     1981-09-28|América do Sul|\n",
            "|Argentina|     2|     DF|      MERCADO|    Sevilla FC (ESP)|   181|  81| 18| 03|1987|     1987-03-18|América do Sul|\n",
            "|Argentina|    17|     DF|     OTAMENDI|Manchester City F...|   181|  81| 12| 02|1988|     1988-02-12|América do Sul|\n",
            "|Argentina|    16|     DF|         ROJO|Manchester United...|   189|  82| 20| 03|1990|     1990-03-20|América do Sul|\n",
            "|Argentina|     6|     DF|        FAZIO|       AS Roma (ITA)|   199|  85| 17| 03|1987|     1987-03-17|América do Sul|\n",
            "|Argentina|    12|     GK|       ARMANI|CA River Plate (ARG)|   189|  85| 16| 10|1986|     1986-10-16|América do Sul|\n",
            "|Argentina|     1|     GK|       GUZMÁN|   Tigres UANL (MEX)|   192|  90| 10| 02|1986|     1986-02-10|América do Sul|\n",
            "|   Brazil|    18|     MF|         FRED|FC Shakhtar Donet...|   169|  64| 05| 03|1993|     1993-03-05|América do Sul|\n",
            "|   Brazil|    21|     FW|       TAISON|FC Shakhtar Donet...|   172|  64| 13| 01|1988|     1988-01-13|América do Sul|\n",
            "|   Brazil|    17|     MF|  FERNANDINHO|Manchester City F...|   179|  67| 04| 05|1985|     1985-05-04|América do Sul|\n",
            "|   Brazil|    22|     DF|       FAGNER|SC Corinthians (BRA)|   168|  67| 11| 06|1989|     1989-06-11|América do Sul|\n",
            "|   Brazil|    10|     FW|    NEYMAR JR|Paris Saint-Germa...|   175|  68| 05| 02|1992|     1992-02-05|América do Sul|\n",
            "|   Brazil|    11|     MF|  P. COUTINHO|  FC Barcelona (ESP)|   172|  68| 12| 06|1992|     1992-06-12|América do Sul|\n",
            "|   Brazil|     7|     FW|     D. COSTA|   Juventus FC (ITA)|   182|  70| 14| 09|1990|     1990-09-14|América do Sul|\n",
            "|   Brazil|     6|     DF|  FILIPE LUIS|Atletico Madrid (...|   182|  73| 09| 08|1985|     1985-08-09|América do Sul|\n",
            "|   Brazil|     9|     FW|     G. JESUS|Manchester City F...|   175|  73| 03| 04|1997|     1997-04-03|América do Sul|\n",
            "|   Brazil|    13|     DF|   MARQUINHOS|Paris Saint-Germa...|   183|  75| 14| 05|1994|     1994-05-14|América do Sul|\n",
            "|   Brazil|    20|     FW|      FIRMINO|  Liverpool FC (ENG)|   181|  76| 02| 10|1991|     1991-10-02|América do Sul|\n",
            "|   Brazil|    19|     MF|      WILLIAN|    Chelsea FC (ENG)|   175|  77| 09| 08|1988|     1988-08-09|América do Sul|\n",
            "|   Brazil|     3|     DF|      MIRANDA|FC Internazionale...|   186|  78| 07| 09|1984|     1984-09-07|América do Sul|\n",
            "|   Brazil|    14|     DF|       DANILO|Manchester City F...|   184|  78| 15| 07|1991|     1991-07-15|América do Sul|\n",
            "|   Brazil|     2|     DF|     T. SILVA|Paris Saint-Germa...|   183|  79| 22| 09|1984|     1984-09-22|América do Sul|\n",
            "|   Brazil|    12|     DF|      MARCELO|Real Madrid CF (ESP)|   174|  80| 12| 05|1988|     1988-05-12|América do Sul|\n",
            "|   Brazil|    15|     MF|     PAULINHO|  FC Barcelona (ESP)|   181|  81| 25| 07|1988|     1988-07-25|América do Sul|\n",
            "|   Brazil|     4|     DF|      GEROMEL|   Grêmio FBPA (BRA)|   190|  84| 21| 09|1985|     1985-09-21|América do Sul|\n",
            "|   Brazil|     5|     MF|     CASEMIRO|Real Madrid CF (ESP)|   185|  84| 23| 02|1992|     1992-02-23|América do Sul|\n",
            "|   Brazil|     8|     MF|   R. AUGUSTO| Beijing Guoan (CHN)|   186|  86| 08| 02|1988|     1988-02-08|América do Sul|\n",
            "|   Brazil|    23|     GK|      EDERSON|Manchester City F...|   188|  86| 17| 08|1993|     1993-08-17|América do Sul|\n",
            "|   Brazil|     1|     GK|    A. BECKER|       AS Roma (ITA)|   193|  91| 02| 10|1992|     1992-10-02|América do Sul|\n",
            "|   Brazil|    16|     GK|       CASSIO|SC Corinthians (BRA)|   195|  92| 06| 06|1987|     1987-06-06|América do Sul|\n",
            "| Colombia|    20|     MF|  J. QUINTERO|CA River Plate (ARG)|   169|  64| 18| 01|1993|     1993-01-18|América do Sul|\n",
            "| Colombia|    17|     DF|    J. MOJICA|     Girona FC (ESP)|   185|  66| 21| 08|1992|     1992-08-21|América do Sul|\n",
            "| Colombia|    16|     MF|     J. LERMA|    Levante UD (ESP)|   179|  70| 25| 10|1994|     1994-10-25|América do Sul|\n",
            "| Colombia|     4|     DF|        ARIAS| PSV Eindhoven (NED)|   177|  71| 13| 01|1992|     1992-01-13|América do Sul|\n",
            "| Colombia|    15|     MF|     M. URIBE|  Club América (MEX)|   182|  71| 21| 03|1991|     1991-03-21|América do Sul|\n",
            "| Colombia|     9|     FW|       FALCAO|     AS Monaco (FRA)|   177|  72| 10| 02|1986|     1986-02-10|América do Sul|\n",
            "| Colombia|    11|     MF|     CUADRADO|   Juventus FC (ITA)|   179|  72| 26| 05|1988|     1988-05-26|América do Sul|\n",
            "| Colombia|    18|     DF|        FABRA|CA Boca Juniors (...|   172|  72| 22| 02|1991|     1991-02-22|América do Sul|\n",
            "| Colombia|    21|     FW|    IZQUIERDO|Brighton & Hove A...|   171|  73| 07| 07|1992|     1992-07-07|América do Sul|\n",
            "| Colombia|     5|     MF|      BARRIOS|CA Boca Juniors (...|   178|  74| 16| 10|1993|     1993-10-16|América do Sul|\n",
            "| Colombia|    19|     FW|     M. BORJA|  SE Palmeiras (BRA)|   183|  74| 26| 01|1993|     1993-01-26|América do Sul|\n",
            "| Colombia|    10|     MF|        JAMES|FC Bayern München...|   180|  75| 12| 07|1991|     1991-07-12|América do Sul|\n",
            "| Colombia|     7|     FW|        BACCA| Villarreal CF (ESP)|   181|  77| 08| 09|1986|     1986-09-08|América do Sul|\n",
            "| Colombia|    14|     FW|    L. MURIEL|    Sevilla FC (ESP)|   178|  79| 16| 04|1991|     1991-04-16|América do Sul|\n",
            "| Colombia|     1|     GK|       OSPINA|    Arsenal FC (ENG)|   183|  80| 31| 08|1988|     1988-08-31|América do Sul|\n",
            "| Colombia|     3|     DF|   O. MURILLO|    CF Pachuca (MEX)|   184|  80| 18| 04|1988|     1988-04-18|América do Sul|\n",
            "| Colombia|    12|     GK|    C. VARGAS|AC Deportivo Cali...|   185|  80| 09| 03|1989|     1989-03-09|América do Sul|\n",
            "| Colombia|    22|     GK|J.F. CUADRADO|CD Once Caldas (COL)|   180|  80| 01| 06|1985|     1985-06-01|América do Sul|\n",
            "| Colombia|    23|     DF|   D. SANCHEZ|Tottenham Hotspur...|   187|  81| 12| 06|1996|     1996-06-12|América do Sul|\n",
            "| Colombia|     2|     DF|    C. ZAPATA|      AC Milan (ITA)|   187|  82| 30| 09|1986|     1986-09-30|América do Sul|\n",
            "| Colombia|     6|     MF|   C. SANCHEZ|  RCD Espanyol (ESP)|   182|  82| 06| 02|1986|     1986-02-06|América do Sul|\n",
            "| Colombia|     8|     MF|   AGUILAR T.|AC Deportivo Cali...|   185|  82| 06| 01|1985|     1985-01-06|América do Sul|\n",
            "| Colombia|    13|     DF|      Y. MINA|  FC Barcelona (ESP)|   194|  95| 23| 09|1994|     1994-09-23|América do Sul|\n",
            "|     Peru|     7|     MF|      HURTADO|Vitoria Guimaraes...|   174|  66| 27| 07|1990|     1990-07-27|América do Sul|\n",
            "|     Peru|    11|     FW|      RUIDIAZ|CA Monarcas Morel...|   169|  67| 25| 07|1990|     1990-07-25|América do Sul|\n",
            "|     Peru|    22|     DF|       LOYOLA|    FBC Melgar (PER)|   179|  68| 26| 10|1994|     1994-10-26|América do Sul|\n",
            "|     Peru|     8|     MF|        CUEVA|  Sao Paulo FC (BRA)|   169|  69| 23| 11|1991|     1991-11-23|América do Sul|\n",
            "|     Peru|    19|     MF|        YOTUN|Orlando City SC (...|   172|  69| 07| 04|1990|     1990-04-07|América do Sul|\n",
            "|     Peru|    14|     MF|         POLO|Portland Timbers ...|   174|  71| 29| 09|1994|     1994-09-29|América do Sul|\n",
            "|     Peru|    23|     MF|       AQUINO|    Lobos BUAP (MEX)|   174|  71| 13| 04|1995|     1995-04-13|América do Sul|\n",
            "|     Peru|    15|     DF|        RAMOS|CD Tiburones Rojo...|   182|  72| 04| 11|1988|     1988-11-04|América do Sul|\n",
            "|     Peru|    20|     FW|       FLORES|    Aalborg BK (DEN)|   170|  72| 14| 05|1994|     1994-05-14|América do Sul|\n",
            "|     Peru|     6|     DF|       TRAUCO|   CR Flamengo (BRA)|   169|  74| 25| 08|1992|     1992-08-25|América do Sul|\n",
            "|     Peru|     3|     DF|        CORZO|Universitario Lim...|   172|  75| 20| 05|1989|     1989-05-20|América do Sul|\n",
            "|     Peru|    16|     MF|    CARTAGENA|CD Tiburones Rojo...|   179|  76| 23| 09|1994|     1994-09-23|América do Sul|\n",
            "|     Peru|     5|     DF|       ARAUJO|  Alianza Lima (PER)|   178|  77| 24| 10|1994|     1994-10-24|América do Sul|\n",
            "|     Peru|    18|     FW|     CARRILLO|    Watford FC (ENG)|   182|  77| 14| 06|1991|     1991-06-14|América do Sul|\n",
            "|     Peru|     2|     DF|    RODRIGUEZ|Atletico Junior (...|   179|  78| 31| 03|1984|     1984-03-31|América do Sul|\n",
            "|     Peru|    12|     GK|       CACEDA|Deportivo Municip...|   184|  78| 27| 09|1991|     1991-09-27|América do Sul|\n",
            "|     Peru|     1|     GK|      GALLESE|CD Tiburones Rojo...|   189|  79| 23| 02|1990|     1990-02-23|América do Sul|\n",
            "|     Peru|    17|     DF|    ADVINCULA|    Lobos BUAP (MEX)|   178|  80| 02| 03|1990|     1990-03-02|América do Sul|\n",
            "|     Peru|     4|     DF|   SANTAMARIA|     Puebla FC (MEX)|   183|  84| 10| 01|1992|     1992-01-10|América do Sul|\n",
            "|     Peru|    21|     GK|     CARVALLO|Universidad Técni...|   182|  84| 01| 03|1986|     1986-03-01|América do Sul|\n",
            "|     Peru|    10|     FW|       FARFAN|FC Lokomotiv Mosc...|   177|  85| 26| 10|1984|     1984-10-26|América do Sul|\n",
            "|     Peru|    13|     MF|        TAPIA|Feyenoord Rotterd...|   185|  85| 28| 07|1995|     1995-07-28|América do Sul|\n",
            "|     Peru|     9|     FW|     GUERRERO|   CR Flamengo (BRA)|   185|  88| 01| 01|1984|     1984-01-01|América do Sul|\n",
            "|  Uruguay|     8|     MF|       NANDEZ|CA Boca Juniors (...|   171|  61| 28| 12|1995|     1995-12-28|América do Sul|\n",
            "|  Uruguay|    14|     MF|     TORREIRA|  UC Sampdoria (ITA)|   168|  61| 11| 02|1996|     1996-02-11|América do Sul|\n",
            "|  Uruguay|    10|     FW|DE ARRASCAETA|   Cruzeiro EC (BRA)|   172|  64| 01| 06|1994|     1994-06-01|América do Sul|\n",
            "|  Uruguay|    17|     MF|       LAXALT|     Genoa CFC (ITA)|   178|  66| 07| 02|1993|     1993-02-07|América do Sul|\n",
            "|  Uruguay|    20|     FW|URRETAVISCAYA|  CF Monterrey (MEX)|   172|  66| 19| 03|1990|     1990-03-19|América do Sul|\n",
            "|  Uruguay|     4|     DF|       VARELA|    CA Penarol (URU)|   173|  70| 24| 03|1993|     1993-03-24|América do Sul|\n",
            "|  Uruguay|     3|     DF|        GODIN|Atletico Madrid (...|   185|  73| 16| 02|1986|     1986-02-16|América do Sul|\n",
            "|  Uruguay|     6|     MF|    BENTANCUR|   Juventus FC (ITA)|   187|  73| 25| 06|1997|     1997-06-25|América do Sul|\n",
            "+---------+------+-------+-------------+--------------------+------+----+---+---+----+---------------+--------------+\n",
            "only showing top 100 rows\n",
            "\n"
          ]
        }
      ]
    },
    {
      "cell_type": "code",
      "source": [
        "df_americas.select('Selecao').distinct().show()"
      ],
      "metadata": {
        "colab": {
          "base_uri": "https://localhost:8080/"
        },
        "id": "nGE5MnMN2Cvc",
        "outputId": "ca558d56-212c-43f1-c232-f3f7e73443ed"
      },
      "execution_count": 39,
      "outputs": [
        {
          "output_type": "stream",
          "name": "stdout",
          "text": [
            "+----------+\n",
            "|   Selecao|\n",
            "+----------+\n",
            "| Argentina|\n",
            "|      Peru|\n",
            "|   Uruguay|\n",
            "|    Brazil|\n",
            "|  Colombia|\n",
            "|    Panama|\n",
            "|    Mexico|\n",
            "|Costa Rica|\n",
            "+----------+\n",
            "\n"
          ]
        }
      ]
    },
    {
      "cell_type": "markdown",
      "source": [
        "#### Joins"
      ],
      "metadata": {
        "id": "KhpB4wJ84Kzi"
      }
    },
    {
      "cell_type": "code",
      "source": [
        "df.show(5)"
      ],
      "metadata": {
        "colab": {
          "base_uri": "https://localhost:8080/"
        },
        "id": "CiMQ9Er92zJ_",
        "outputId": "be1eb0ba-9150-41ac-af11-040c0abc84b3"
      },
      "execution_count": 40,
      "outputs": [
        {
          "output_type": "stream",
          "name": "stdout",
          "text": [
            "+---------+------+-------+-------------+--------------------+------+----+---+---+----+---------------+--------------+\n",
            "|  Selecao|Numero|Posicao|Nome Camiseta|                Time|Altura|Peso|Dia|Mes| Ano|Data_Nascimento|    Continente|\n",
            "+---------+------+-------+-------------+--------------------+------+----+---+---+----+---------------+--------------+\n",
            "|Argentina|     3|     DF|   TAGLIAFICO|      AFC Ajax (NED)|   169|  65| 31| 08|1992|     1992-08-31|América do Sul|\n",
            "|Argentina|    22|     MF|        PAVÓN|CA Boca Juniors (...|   169|  65| 21| 01|1996|     1996-01-21|América do Sul|\n",
            "|Argentina|    15|     MF|      LANZINI|West Ham United F...|   167|  66| 15| 02|1993|     1993-02-15|América do Sul|\n",
            "|Argentina|    18|     DF|       SALVIO|    SL Benfica (POR)|   167|  69| 13| 07|1990|     1990-07-13|América do Sul|\n",
            "|Argentina|    10|     FW|        MESSI|  FC Barcelona (ESP)|   170|  72| 24| 06|1987|     1987-06-24|América do Sul|\n",
            "+---------+------+-------+-------------+--------------------+------+----+---+---+----+---------------+--------------+\n",
            "only showing top 5 rows\n",
            "\n"
          ]
        }
      ]
    },
    {
      "cell_type": "code",
      "source": [
        "arg = df.filter('Selecao = \"Argentina\"')\n",
        "bra = df.filter('Selecao = \"Brazil\"')"
      ],
      "metadata": {
        "id": "8Orhl5De5gSq"
      },
      "execution_count": 41,
      "outputs": []
    },
    {
      "cell_type": "code",
      "source": [
        "# Dropando algumas cols. para uma melhor visualização \n",
        "arg = arg.drop('Time', 'Dia', 'Mes', 'Ano', 'Continente', 'Peso', 'Data_Nascimento')\n",
        "bra = bra.drop('Time', 'Dia', 'Mes', 'Ano', 'Continente', 'Peso', 'Data_Nascimento')"
      ],
      "metadata": {
        "id": "YE6_R-Cs6BiH"
      },
      "execution_count": 44,
      "outputs": []
    },
    {
      "cell_type": "code",
      "source": [
        "arg.show(5)"
      ],
      "metadata": {
        "colab": {
          "base_uri": "https://localhost:8080/"
        },
        "id": "jt7WBOYd6SLs",
        "outputId": "451c2c9d-1e9c-4006-b818-3a760ec6547c"
      },
      "execution_count": 45,
      "outputs": [
        {
          "output_type": "stream",
          "name": "stdout",
          "text": [
            "+---------+------+-------+-------------+------+\n",
            "|  Selecao|Numero|Posicao|Nome Camiseta|Altura|\n",
            "+---------+------+-------+-------------+------+\n",
            "|Argentina|     3|     DF|   TAGLIAFICO|   169|\n",
            "|Argentina|    22|     MF|        PAVÓN|   169|\n",
            "|Argentina|    15|     MF|      LANZINI|   167|\n",
            "|Argentina|    18|     DF|       SALVIO|   167|\n",
            "|Argentina|    10|     FW|        MESSI|   170|\n",
            "+---------+------+-------+-------------+------+\n",
            "only showing top 5 rows\n",
            "\n"
          ]
        }
      ]
    },
    {
      "cell_type": "code",
      "source": [
        "bra.show(5)"
      ],
      "metadata": {
        "colab": {
          "base_uri": "https://localhost:8080/"
        },
        "id": "4ueYTo5z6dr2",
        "outputId": "9aca7c5a-3b82-4991-ee4e-7d89608ff0de"
      },
      "execution_count": 46,
      "outputs": [
        {
          "output_type": "stream",
          "name": "stdout",
          "text": [
            "+-------+------+-------+-------------+------+\n",
            "|Selecao|Numero|Posicao|Nome Camiseta|Altura|\n",
            "+-------+------+-------+-------------+------+\n",
            "| Brazil|    18|     MF|         FRED|   169|\n",
            "| Brazil|    21|     FW|       TAISON|   172|\n",
            "| Brazil|    17|     MF|  FERNANDINHO|   179|\n",
            "| Brazil|    22|     DF|       FAGNER|   168|\n",
            "| Brazil|    10|     FW|    NEYMAR JR|   175|\n",
            "+-------+------+-------+-------------+------+\n",
            "only showing top 5 rows\n",
            "\n"
          ]
        }
      ]
    },
    {
      "cell_type": "code",
      "source": [
        "print(bra.count())\n",
        "print(arg.count())"
      ],
      "metadata": {
        "colab": {
          "base_uri": "https://localhost:8080/"
        },
        "id": "i4tW7DHy6WKr",
        "outputId": "d7ea91e1-6af2-48d5-d716-aba554ecd902"
      },
      "execution_count": 47,
      "outputs": [
        {
          "output_type": "stream",
          "name": "stdout",
          "text": [
            "23\n",
            "23\n"
          ]
        }
      ]
    },
    {
      "cell_type": "code",
      "source": [
        "# join simples\n",
        "df_novo = arg.join(bra, arg.Numero == bra.Numero)\n",
        "df_novo.show()"
      ],
      "metadata": {
        "colab": {
          "base_uri": "https://localhost:8080/"
        },
        "id": "Ar_eko8L6ney",
        "outputId": "99382a56-7f52-44c2-a9da-05f57cf723db"
      },
      "execution_count": 48,
      "outputs": [
        {
          "output_type": "stream",
          "name": "stdout",
          "text": [
            "+---------+------+-------+-------------+------+-------+------+-------+-------------+------+\n",
            "|  Selecao|Numero|Posicao|Nome Camiseta|Altura|Selecao|Numero|Posicao|Nome Camiseta|Altura|\n",
            "+---------+------+-------+-------------+------+-------+------+-------+-------------+------+\n",
            "|Argentina|     3|     DF|   TAGLIAFICO|   169| Brazil|     3|     DF|      MIRANDA|   186|\n",
            "|Argentina|    22|     MF|        PAVÓN|   169| Brazil|    22|     DF|       FAGNER|   168|\n",
            "|Argentina|    15|     MF|      LANZINI|   167| Brazil|    15|     MF|     PAULINHO|   181|\n",
            "|Argentina|    18|     DF|       SALVIO|   167| Brazil|    18|     MF|         FRED|   169|\n",
            "|Argentina|    10|     FW|        MESSI|   170| Brazil|    10|     FW|    NEYMAR JR|   175|\n",
            "|Argentina|     4|     DF|      ANSALDI|   181| Brazil|     4|     DF|      GEROMEL|   190|\n",
            "|Argentina|     5|     MF|       BIGLIA|   175| Brazil|     5|     MF|     CASEMIRO|   185|\n",
            "|Argentina|     7|     MF|       BANEGA|   175| Brazil|     7|     FW|     D. COSTA|   182|\n",
            "|Argentina|    14|     DF|   MASCHERANO|   174| Brazil|    14|     DF|       DANILO|   184|\n",
            "|Argentina|    21|     FW|       DYBALA|   177| Brazil|    21|     FW|       TAISON|   172|\n",
            "|Argentina|    19|     FW|       AGÜERO|   172| Brazil|    19|     MF|      WILLIAN|   175|\n",
            "|Argentina|     9|     FW|      HIGUAÍN|   184| Brazil|     9|     FW|     G. JESUS|   175|\n",
            "|Argentina|    11|     MF|     DI MARÍA|   178| Brazil|    11|     MF|  P. COUTINHO|   172|\n",
            "|Argentina|    20|     MF|     LO CELSO|   177| Brazil|    20|     FW|      FIRMINO|   181|\n",
            "|Argentina|    13|     MF|         MEZA|   180| Brazil|    13|     DF|   MARQUINHOS|   183|\n",
            "|Argentina|     8|     DF|        ACUÑA|   172| Brazil|     8|     MF|   R. AUGUSTO|   186|\n",
            "|Argentina|    23|     GK|    CABALLERO|   186| Brazil|    23|     GK|      EDERSON|   188|\n",
            "|Argentina|     2|     DF|      MERCADO|   181| Brazil|     2|     DF|     T. SILVA|   183|\n",
            "|Argentina|    17|     DF|     OTAMENDI|   181| Brazil|    17|     MF|  FERNANDINHO|   179|\n",
            "|Argentina|    16|     DF|         ROJO|   189| Brazil|    16|     GK|       CASSIO|   195|\n",
            "+---------+------+-------+-------------+------+-------+------+-------+-------------+------+\n",
            "only showing top 20 rows\n",
            "\n"
          ]
        }
      ]
    },
    {
      "cell_type": "code",
      "source": [
        "arg = arg.withColumn('Numero', col('Numero')+1)"
      ],
      "metadata": {
        "id": "fVfZ5hLE9Zz1"
      },
      "execution_count": 53,
      "outputs": []
    },
    {
      "cell_type": "markdown",
      "source": [
        "#### Inner Join"
      ],
      "metadata": {
        "id": "6-V0-2nc76Ja"
      }
    },
    {
      "cell_type": "code",
      "source": [
        "df_novo = arg.join(bra, arg['Numero'] == bra['Numero'], 'inner')\n",
        "df_novo.show()"
      ],
      "metadata": {
        "colab": {
          "base_uri": "https://localhost:8080/"
        },
        "id": "uWMzbQhj74-O",
        "outputId": "bf41af5a-1dfc-4d06-d6ae-411595b73fd5"
      },
      "execution_count": 54,
      "outputs": [
        {
          "output_type": "stream",
          "name": "stdout",
          "text": [
            "+---------+------+-------+-------------+------+-------+------+-------+-------------+------+\n",
            "|  Selecao|Numero|Posicao|Nome Camiseta|Altura|Selecao|Numero|Posicao|Nome Camiseta|Altura|\n",
            "+---------+------+-------+-------------+------+-------+------+-------+-------------+------+\n",
            "|Argentina|     4|     DF|   TAGLIAFICO|   169| Brazil|     4|     DF|      GEROMEL|   190|\n",
            "|Argentina|    23|     MF|        PAVÓN|   169| Brazil|    23|     GK|      EDERSON|   188|\n",
            "|Argentina|    16|     MF|      LANZINI|   167| Brazil|    16|     GK|       CASSIO|   195|\n",
            "|Argentina|    19|     DF|       SALVIO|   167| Brazil|    19|     MF|      WILLIAN|   175|\n",
            "|Argentina|    11|     FW|        MESSI|   170| Brazil|    11|     MF|  P. COUTINHO|   172|\n",
            "|Argentina|     5|     DF|      ANSALDI|   181| Brazil|     5|     MF|     CASEMIRO|   185|\n",
            "|Argentina|     6|     MF|       BIGLIA|   175| Brazil|     6|     DF|  FILIPE LUIS|   182|\n",
            "|Argentina|     8|     MF|       BANEGA|   175| Brazil|     8|     MF|   R. AUGUSTO|   186|\n",
            "|Argentina|    15|     DF|   MASCHERANO|   174| Brazil|    15|     MF|     PAULINHO|   181|\n",
            "|Argentina|    22|     FW|       DYBALA|   177| Brazil|    22|     DF|       FAGNER|   168|\n",
            "|Argentina|    20|     FW|       AGÜERO|   172| Brazil|    20|     FW|      FIRMINO|   181|\n",
            "|Argentina|    10|     FW|      HIGUAÍN|   184| Brazil|    10|     FW|    NEYMAR JR|   175|\n",
            "|Argentina|    12|     MF|     DI MARÍA|   178| Brazil|    12|     DF|      MARCELO|   174|\n",
            "|Argentina|    21|     MF|     LO CELSO|   177| Brazil|    21|     FW|       TAISON|   172|\n",
            "|Argentina|    14|     MF|         MEZA|   180| Brazil|    14|     DF|       DANILO|   184|\n",
            "|Argentina|     9|     DF|        ACUÑA|   172| Brazil|     9|     FW|     G. JESUS|   175|\n",
            "|Argentina|     3|     DF|      MERCADO|   181| Brazil|     3|     DF|      MIRANDA|   186|\n",
            "|Argentina|    18|     DF|     OTAMENDI|   181| Brazil|    18|     MF|         FRED|   169|\n",
            "|Argentina|    17|     DF|         ROJO|   189| Brazil|    17|     MF|  FERNANDINHO|   179|\n",
            "|Argentina|     7|     DF|        FAZIO|   199| Brazil|     7|     FW|     D. COSTA|   182|\n",
            "+---------+------+-------+-------------+------+-------+------+-------+-------------+------+\n",
            "only showing top 20 rows\n",
            "\n"
          ]
        }
      ]
    },
    {
      "cell_type": "markdown",
      "source": [
        "#### Left Join"
      ],
      "metadata": {
        "id": "air9_ua28ubF"
      }
    },
    {
      "cell_type": "code",
      "source": [
        "df_novo = arg.join(bra, arg['Numero'] == bra['Numero'], 'left')\n",
        "df_novo.show(50)"
      ],
      "metadata": {
        "colab": {
          "base_uri": "https://localhost:8080/"
        },
        "id": "1ReLJJJe8uiO",
        "outputId": "b79562dc-9f11-48e4-ddf3-f100efcc9c3a"
      },
      "execution_count": 55,
      "outputs": [
        {
          "output_type": "stream",
          "name": "stdout",
          "text": [
            "+---------+------+-------+-------------+------+-------+------+-------+-------------+------+\n",
            "|  Selecao|Numero|Posicao|Nome Camiseta|Altura|Selecao|Numero|Posicao|Nome Camiseta|Altura|\n",
            "+---------+------+-------+-------------+------+-------+------+-------+-------------+------+\n",
            "|Argentina|     4|     DF|   TAGLIAFICO|   169| Brazil|     4|     DF|      GEROMEL|   190|\n",
            "|Argentina|    23|     MF|        PAVÓN|   169| Brazil|    23|     GK|      EDERSON|   188|\n",
            "|Argentina|    16|     MF|      LANZINI|   167| Brazil|    16|     GK|       CASSIO|   195|\n",
            "|Argentina|    19|     DF|       SALVIO|   167| Brazil|    19|     MF|      WILLIAN|   175|\n",
            "|Argentina|    11|     FW|        MESSI|   170| Brazil|    11|     MF|  P. COUTINHO|   172|\n",
            "|Argentina|     5|     DF|      ANSALDI|   181| Brazil|     5|     MF|     CASEMIRO|   185|\n",
            "|Argentina|     6|     MF|       BIGLIA|   175| Brazil|     6|     DF|  FILIPE LUIS|   182|\n",
            "|Argentina|     8|     MF|       BANEGA|   175| Brazil|     8|     MF|   R. AUGUSTO|   186|\n",
            "|Argentina|    15|     DF|   MASCHERANO|   174| Brazil|    15|     MF|     PAULINHO|   181|\n",
            "|Argentina|    22|     FW|       DYBALA|   177| Brazil|    22|     DF|       FAGNER|   168|\n",
            "|Argentina|    20|     FW|       AGÜERO|   172| Brazil|    20|     FW|      FIRMINO|   181|\n",
            "|Argentina|    10|     FW|      HIGUAÍN|   184| Brazil|    10|     FW|    NEYMAR JR|   175|\n",
            "|Argentina|    12|     MF|     DI MARÍA|   178| Brazil|    12|     DF|      MARCELO|   174|\n",
            "|Argentina|    21|     MF|     LO CELSO|   177| Brazil|    21|     FW|       TAISON|   172|\n",
            "|Argentina|    14|     MF|         MEZA|   180| Brazil|    14|     DF|       DANILO|   184|\n",
            "|Argentina|     9|     DF|        ACUÑA|   172| Brazil|     9|     FW|     G. JESUS|   175|\n",
            "|Argentina|    24|     GK|    CABALLERO|   186|   null|  null|   null|         null|  null|\n",
            "|Argentina|     3|     DF|      MERCADO|   181| Brazil|     3|     DF|      MIRANDA|   186|\n",
            "|Argentina|    18|     DF|     OTAMENDI|   181| Brazil|    18|     MF|         FRED|   169|\n",
            "|Argentina|    17|     DF|         ROJO|   189| Brazil|    17|     MF|  FERNANDINHO|   179|\n",
            "|Argentina|     7|     DF|        FAZIO|   199| Brazil|     7|     FW|     D. COSTA|   182|\n",
            "|Argentina|    13|     GK|       ARMANI|   189| Brazil|    13|     DF|   MARQUINHOS|   183|\n",
            "|Argentina|     2|     GK|       GUZMÁN|   192| Brazil|     2|     DF|     T. SILVA|   183|\n",
            "+---------+------+-------+-------------+------+-------+------+-------+-------------+------+\n",
            "\n"
          ]
        }
      ]
    },
    {
      "cell_type": "markdown",
      "source": [
        "####Right join"
      ],
      "metadata": {
        "id": "cd1r60Rb9qMs"
      }
    },
    {
      "cell_type": "code",
      "source": [
        "df_novo = arg.join(bra, arg['Numero'] == bra['Numero'], 'right')\n",
        "df_novo.show(50)"
      ],
      "metadata": {
        "colab": {
          "base_uri": "https://localhost:8080/"
        },
        "id": "tuhmDQLd9qfS",
        "outputId": "6346a571-17ce-40b8-9dc1-bfc1b6ea403e"
      },
      "execution_count": 56,
      "outputs": [
        {
          "output_type": "stream",
          "name": "stdout",
          "text": [
            "+---------+------+-------+-------------+------+-------+------+-------+-------------+------+\n",
            "|  Selecao|Numero|Posicao|Nome Camiseta|Altura|Selecao|Numero|Posicao|Nome Camiseta|Altura|\n",
            "+---------+------+-------+-------------+------+-------+------+-------+-------------+------+\n",
            "|Argentina|    18|     DF|     OTAMENDI|   181| Brazil|    18|     MF|         FRED|   169|\n",
            "|Argentina|    21|     MF|     LO CELSO|   177| Brazil|    21|     FW|       TAISON|   172|\n",
            "|Argentina|    17|     DF|         ROJO|   189| Brazil|    17|     MF|  FERNANDINHO|   179|\n",
            "|Argentina|    22|     FW|       DYBALA|   177| Brazil|    22|     DF|       FAGNER|   168|\n",
            "|Argentina|    10|     FW|      HIGUAÍN|   184| Brazil|    10|     FW|    NEYMAR JR|   175|\n",
            "|Argentina|    11|     FW|        MESSI|   170| Brazil|    11|     MF|  P. COUTINHO|   172|\n",
            "|Argentina|     7|     DF|        FAZIO|   199| Brazil|     7|     FW|     D. COSTA|   182|\n",
            "|Argentina|     6|     MF|       BIGLIA|   175| Brazil|     6|     DF|  FILIPE LUIS|   182|\n",
            "|Argentina|     9|     DF|        ACUÑA|   172| Brazil|     9|     FW|     G. JESUS|   175|\n",
            "|Argentina|    13|     GK|       ARMANI|   189| Brazil|    13|     DF|   MARQUINHOS|   183|\n",
            "|Argentina|    20|     FW|       AGÜERO|   172| Brazil|    20|     FW|      FIRMINO|   181|\n",
            "|Argentina|    19|     DF|       SALVIO|   167| Brazil|    19|     MF|      WILLIAN|   175|\n",
            "|Argentina|     3|     DF|      MERCADO|   181| Brazil|     3|     DF|      MIRANDA|   186|\n",
            "|Argentina|    14|     MF|         MEZA|   180| Brazil|    14|     DF|       DANILO|   184|\n",
            "|Argentina|     2|     GK|       GUZMÁN|   192| Brazil|     2|     DF|     T. SILVA|   183|\n",
            "|Argentina|    12|     MF|     DI MARÍA|   178| Brazil|    12|     DF|      MARCELO|   174|\n",
            "|Argentina|    15|     DF|   MASCHERANO|   174| Brazil|    15|     MF|     PAULINHO|   181|\n",
            "|Argentina|     4|     DF|   TAGLIAFICO|   169| Brazil|     4|     DF|      GEROMEL|   190|\n",
            "|Argentina|     5|     DF|      ANSALDI|   181| Brazil|     5|     MF|     CASEMIRO|   185|\n",
            "|Argentina|     8|     MF|       BANEGA|   175| Brazil|     8|     MF|   R. AUGUSTO|   186|\n",
            "|Argentina|    23|     MF|        PAVÓN|   169| Brazil|    23|     GK|      EDERSON|   188|\n",
            "|     null|  null|   null|         null|  null| Brazil|     1|     GK|    A. BECKER|   193|\n",
            "|Argentina|    16|     MF|      LANZINI|   167| Brazil|    16|     GK|       CASSIO|   195|\n",
            "+---------+------+-------+-------------+------+-------+------+-------+-------------+------+\n",
            "\n"
          ]
        }
      ]
    },
    {
      "cell_type": "markdown",
      "source": [
        "Full Join"
      ],
      "metadata": {
        "id": "dw7CN66n99Mg"
      }
    },
    {
      "cell_type": "code",
      "source": [
        "# Mostra todas as linhas tendo ou não correspondência\n",
        "df_novo = arg.join(bra, arg['Numero'] == arg['Numero'], 'full')\n",
        "df_novo.show(50)"
      ],
      "metadata": {
        "colab": {
          "base_uri": "https://localhost:8080/"
        },
        "id": "0roPTtor99iU",
        "outputId": "05b2b6e0-fdb2-4b30-a27b-669929f691f3"
      },
      "execution_count": 57,
      "outputs": [
        {
          "output_type": "stream",
          "name": "stdout",
          "text": [
            "+---------+------+-------+-------------+------+-------+------+-------+-------------+------+\n",
            "|  Selecao|Numero|Posicao|Nome Camiseta|Altura|Selecao|Numero|Posicao|Nome Camiseta|Altura|\n",
            "+---------+------+-------+-------------+------+-------+------+-------+-------------+------+\n",
            "|     null|  null|   null|         null|  null| Brazil|     1|     GK|    A. BECKER|   193|\n",
            "|Argentina|     2|     GK|       GUZMÁN|   192| Brazil|     2|     DF|     T. SILVA|   183|\n",
            "|Argentina|     3|     DF|      MERCADO|   181| Brazil|     3|     DF|      MIRANDA|   186|\n",
            "|Argentina|     4|     DF|   TAGLIAFICO|   169| Brazil|     4|     DF|      GEROMEL|   190|\n",
            "|Argentina|     5|     DF|      ANSALDI|   181| Brazil|     5|     MF|     CASEMIRO|   185|\n",
            "|Argentina|     6|     MF|       BIGLIA|   175| Brazil|     6|     DF|  FILIPE LUIS|   182|\n",
            "|Argentina|     7|     DF|        FAZIO|   199| Brazil|     7|     FW|     D. COSTA|   182|\n",
            "|Argentina|     8|     MF|       BANEGA|   175| Brazil|     8|     MF|   R. AUGUSTO|   186|\n",
            "|Argentina|     9|     DF|        ACUÑA|   172| Brazil|     9|     FW|     G. JESUS|   175|\n",
            "|Argentina|    10|     FW|      HIGUAÍN|   184| Brazil|    10|     FW|    NEYMAR JR|   175|\n",
            "|Argentina|    11|     FW|        MESSI|   170| Brazil|    11|     MF|  P. COUTINHO|   172|\n",
            "|Argentina|    12|     MF|     DI MARÍA|   178| Brazil|    12|     DF|      MARCELO|   174|\n",
            "|Argentina|    13|     GK|       ARMANI|   189| Brazil|    13|     DF|   MARQUINHOS|   183|\n",
            "|Argentina|    14|     MF|         MEZA|   180| Brazil|    14|     DF|       DANILO|   184|\n",
            "|Argentina|    15|     DF|   MASCHERANO|   174| Brazil|    15|     MF|     PAULINHO|   181|\n",
            "|Argentina|    16|     MF|      LANZINI|   167| Brazil|    16|     GK|       CASSIO|   195|\n",
            "|Argentina|    17|     DF|         ROJO|   189| Brazil|    17|     MF|  FERNANDINHO|   179|\n",
            "|Argentina|    18|     DF|     OTAMENDI|   181| Brazil|    18|     MF|         FRED|   169|\n",
            "|Argentina|    19|     DF|       SALVIO|   167| Brazil|    19|     MF|      WILLIAN|   175|\n",
            "|Argentina|    20|     FW|       AGÜERO|   172| Brazil|    20|     FW|      FIRMINO|   181|\n",
            "|Argentina|    21|     MF|     LO CELSO|   177| Brazil|    21|     FW|       TAISON|   172|\n",
            "|Argentina|    22|     FW|       DYBALA|   177| Brazil|    22|     DF|       FAGNER|   168|\n",
            "|Argentina|    23|     MF|        PAVÓN|   169| Brazil|    23|     GK|      EDERSON|   188|\n",
            "|Argentina|    24|     GK|    CABALLERO|   186|   null|  null|   null|         null|  null|\n",
            "+---------+------+-------+-------------+------+-------+------+-------+-------------+------+\n",
            "\n"
          ]
        }
      ]
    },
    {
      "cell_type": "markdown",
      "source": [
        "Semi Join"
      ],
      "metadata": {
        "id": "1hqQLvfX-CGf"
      }
    },
    {
      "cell_type": "code",
      "source": [
        "# Similar ao inner join, porém apenas os dados do dataframe esquerdo é mostrado\n",
        "df_novo = arg.join(bra, arg['Numero'] == bra['Numero'], 'semi')\n",
        "df_novo.show(40)"
      ],
      "metadata": {
        "colab": {
          "base_uri": "https://localhost:8080/"
        },
        "id": "KVEMVvhO-CPp",
        "outputId": "b48d8c56-9f0c-4eab-ab6f-32b4077c4c7e"
      },
      "execution_count": 58,
      "outputs": [
        {
          "output_type": "stream",
          "name": "stdout",
          "text": [
            "+---------+------+-------+-------------+------+\n",
            "|  Selecao|Numero|Posicao|Nome Camiseta|Altura|\n",
            "+---------+------+-------+-------------+------+\n",
            "|Argentina|     4|     DF|   TAGLIAFICO|   169|\n",
            "|Argentina|    23|     MF|        PAVÓN|   169|\n",
            "|Argentina|    16|     MF|      LANZINI|   167|\n",
            "|Argentina|    19|     DF|       SALVIO|   167|\n",
            "|Argentina|    11|     FW|        MESSI|   170|\n",
            "|Argentina|     5|     DF|      ANSALDI|   181|\n",
            "|Argentina|     6|     MF|       BIGLIA|   175|\n",
            "|Argentina|     8|     MF|       BANEGA|   175|\n",
            "|Argentina|    15|     DF|   MASCHERANO|   174|\n",
            "|Argentina|    22|     FW|       DYBALA|   177|\n",
            "|Argentina|    20|     FW|       AGÜERO|   172|\n",
            "|Argentina|    10|     FW|      HIGUAÍN|   184|\n",
            "|Argentina|    12|     MF|     DI MARÍA|   178|\n",
            "|Argentina|    21|     MF|     LO CELSO|   177|\n",
            "|Argentina|    14|     MF|         MEZA|   180|\n",
            "|Argentina|     9|     DF|        ACUÑA|   172|\n",
            "|Argentina|     3|     DF|      MERCADO|   181|\n",
            "|Argentina|    18|     DF|     OTAMENDI|   181|\n",
            "|Argentina|    17|     DF|         ROJO|   189|\n",
            "|Argentina|     7|     DF|        FAZIO|   199|\n",
            "|Argentina|    13|     GK|       ARMANI|   189|\n",
            "|Argentina|     2|     GK|       GUZMÁN|   192|\n",
            "+---------+------+-------+-------------+------+\n",
            "\n"
          ]
        }
      ]
    },
    {
      "cell_type": "markdown",
      "source": [
        "Anti Join"
      ],
      "metadata": {
        "id": "7M4VsH0L-D57"
      }
    },
    {
      "cell_type": "code",
      "source": [
        "# mostra os dados do DF do lado esquerdo que não possuem correspondências com o df do brasil\n",
        "df_novo = arg.join(bra, arg['Numero'] == bra['Numero'], 'anti')\n",
        "df_novo.show(50)"
      ],
      "metadata": {
        "colab": {
          "base_uri": "https://localhost:8080/"
        },
        "id": "BRW36XaV-EBH",
        "outputId": "cd546912-f6b2-40b6-9865-1e48f20d3bee"
      },
      "execution_count": 59,
      "outputs": [
        {
          "output_type": "stream",
          "name": "stdout",
          "text": [
            "+---------+------+-------+-------------+------+\n",
            "|  Selecao|Numero|Posicao|Nome Camiseta|Altura|\n",
            "+---------+------+-------+-------------+------+\n",
            "|Argentina|    24|     GK|    CABALLERO|   186|\n",
            "+---------+------+-------+-------------+------+\n",
            "\n"
          ]
        }
      ]
    },
    {
      "cell_type": "code",
      "source": [
        "df_novo = bra.join(arg, arg['Numero'] == bra['Numero'], 'anti')\n",
        "df_novo.show(50)"
      ],
      "metadata": {
        "colab": {
          "base_uri": "https://localhost:8080/"
        },
        "id": "pC0WRQz7_lyO",
        "outputId": "0007cdbb-41ef-49b0-ba2f-c2e3af08e164"
      },
      "execution_count": 60,
      "outputs": [
        {
          "output_type": "stream",
          "name": "stdout",
          "text": [
            "+-------+------+-------+-------------+------+\n",
            "|Selecao|Numero|Posicao|Nome Camiseta|Altura|\n",
            "+-------+------+-------+-------------+------+\n",
            "| Brazil|     1|     GK|    A. BECKER|   193|\n",
            "+-------+------+-------+-------------+------+\n",
            "\n"
          ]
        }
      ]
    }
  ]
}