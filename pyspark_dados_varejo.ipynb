{
  "nbformat": 4,
  "nbformat_minor": 0,
  "metadata": {
    "colab": {
      "provenance": [],
      "collapsed_sections": []
    },
    "kernelspec": {
      "name": "python3",
      "display_name": "Python 3"
    },
    "language_info": {
      "name": "python"
    }
  },
  "cells": [
    {
      "cell_type": "code",
      "execution_count": null,
      "metadata": {
        "colab": {
          "base_uri": "https://localhost:8080/"
        },
        "id": "tKJyR3aQ4gig",
        "outputId": "0ec2e019-bd1f-40c7-d3ed-78f3f2206168"
      },
      "outputs": [
        {
          "output_type": "stream",
          "name": "stdout",
          "text": [
            "Looking in indexes: https://pypi.org/simple, https://us-python.pkg.dev/colab-wheels/public/simple/\n",
            "Collecting spark\n",
            "  Downloading spark-0.2.1.tar.gz (41 kB)\n",
            "\u001b[?25l\r\u001b[K     |████████                        | 10 kB 34.7 MB/s eta 0:00:01\r\u001b[K     |████████████████                | 20 kB 42.4 MB/s eta 0:00:01\r\u001b[K     |████████████████████████        | 30 kB 45.0 MB/s eta 0:00:01\r\u001b[K     |████████████████████████████████| 40 kB 33.4 MB/s eta 0:00:01\r\u001b[K     |████████████████████████████████| 41 kB 84 kB/s \n",
            "\u001b[?25hBuilding wheels for collected packages: spark\n",
            "  Building wheel for spark (setup.py) ... \u001b[?25l\u001b[?25hdone\n",
            "  Created wheel for spark: filename=spark-0.2.1-py3-none-any.whl size=58762 sha256=3e522d6409f3a045d5920c6de92b4805b8a69076c787d49f97b4ecf612ade625\n",
            "  Stored in directory: /root/.cache/pip/wheels/4e/0e/f1/164619f9920fb447d294afaae11a7715bd442ded7225953d72\n",
            "Successfully built spark\n",
            "Installing collected packages: spark\n",
            "Successfully installed spark-0.2.1\n",
            "Looking in indexes: https://pypi.org/simple, https://us-python.pkg.dev/colab-wheels/public/simple/\n",
            "Collecting pyspark\n",
            "  Downloading pyspark-3.3.0.tar.gz (281.3 MB)\n",
            "\u001b[K     |████████████████████████████████| 281.3 MB 63 kB/s \n",
            "\u001b[?25hCollecting py4j==0.10.9.5\n",
            "  Downloading py4j-0.10.9.5-py2.py3-none-any.whl (199 kB)\n",
            "\u001b[K     |████████████████████████████████| 199 kB 96.4 MB/s \n",
            "\u001b[?25hBuilding wheels for collected packages: pyspark\n",
            "  Building wheel for pyspark (setup.py) ... \u001b[?25l\u001b[?25hdone\n",
            "  Created wheel for pyspark: filename=pyspark-3.3.0-py2.py3-none-any.whl size=281764026 sha256=a2a76db90ff25480f1b4390b9c772ea3b9cab9ceb889e4bfdf39cf303f6022e9\n",
            "  Stored in directory: /root/.cache/pip/wheels/7a/8e/1b/f73a52650d2e5f337708d9f6a1750d451a7349a867f928b885\n",
            "Successfully built pyspark\n",
            "Installing collected packages: py4j, pyspark\n",
            "Successfully installed py4j-0.10.9.5 pyspark-3.3.0\n"
          ]
        }
      ],
      "source": [
        "!pip install spark\n",
        "!pip install pyspark"
      ]
    },
    {
      "cell_type": "markdown",
      "source": [
        "### Importando as bibliotecas"
      ],
      "metadata": {
        "id": "71zVsz3H6wT9"
      }
    },
    {
      "cell_type": "code",
      "source": [
        "import os\n",
        "import sys\n",
        "from pyspark.sql import SparkSession\n",
        "from pyspark.sql.functions import *\n",
        "from pyspark.sql.types import *"
      ],
      "metadata": {
        "id": "OMVMznof6PIc"
      },
      "execution_count": null,
      "outputs": []
    },
    {
      "cell_type": "markdown",
      "source": [
        "### Criando uma sessão spark"
      ],
      "metadata": {
        "id": "cS-uIYcc6zwq"
      }
    },
    {
      "cell_type": "code",
      "source": [
        "spark = (\n",
        "    SparkSession.builder\n",
        "    .master('local')\n",
        "    .appName('arq_parquet')\n",
        "    .getOrCreate()  \n",
        ")"
      ],
      "metadata": {
        "id": "5EzICXE463yP"
      },
      "execution_count": null,
      "outputs": []
    },
    {
      "cell_type": "code",
      "source": [
        "df_clientes = spark.read.format('parquet').load('/content/arquivos/Clientes.parquet')\n",
        "df_clientes.show()"
      ],
      "metadata": {
        "colab": {
          "base_uri": "https://localhost:8080/"
        },
        "id": "BgTE-Q0S-rbF",
        "outputId": "c6b49442-562b-403f-ab63-a3f791a9e099"
      },
      "execution_count": null,
      "outputs": [
        {
          "output_type": "stream",
          "name": "stdout",
          "text": [
            "+---------+--------------------+------+------+--------+\n",
            "|ClienteID|             Cliente|Estado|Genero|  Status|\n",
            "+---------+--------------------+------+------+--------+\n",
            "|        1|Adelina Buenaventura|    RJ|     M|  Silver|\n",
            "|        2|        Adelino Gago|    RJ|     M|  Silver|\n",
            "|        3|     Adolfo Patrício|    PE|     M|  Silver|\n",
            "|        4|    Adriana Guedelha|    RO|     F|Platinum|\n",
            "|        5|       Adélio Lisboa|    SE|     M|  Silver|\n",
            "|        6|       Adérito Bahía|    MA|     M|  Silver|\n",
            "|        7|       Aida Dorneles|    RN|     F|  Silver|\n",
            "|        8|   Alarico Quinterno|    AC|     M|  Silver|\n",
            "|        9|    Alberto Cezimbra|    AM|     M|  Silver|\n",
            "|       10|    Alberto Monsanto|    RN|     M|    Gold|\n",
            "|       11|       Albino Canela|    AC|     M|  Silver|\n",
            "|       12|     Alceste Varanda|    RR|     F|  Silver|\n",
            "|       13|  Alcides Carvalhais|    RO|     M|  Silver|\n",
            "|       14|        Aldo Martins|    GO|     M|  Silver|\n",
            "|       15|   Alexandra Tabares|    MG|     F|  Silver|\n",
            "|       16|      Alfredo Cotrim|    SC|     M|  Silver|\n",
            "|       17|     Almeno Figueira|    SC|     M|  Silver|\n",
            "|       18|      Alvito Peralta|    AM|     M|  Silver|\n",
            "|       19|     Amadeu Martinho|    RN|     M|  Silver|\n",
            "|       20|      Amélia Estévez|    PE|     F|  Silver|\n",
            "+---------+--------------------+------+------+--------+\n",
            "only showing top 20 rows\n",
            "\n"
          ]
        }
      ]
    },
    {
      "cell_type": "code",
      "source": [
        "df_itens_vendas = spark.read.format('parquet').load('/content/arquivos/ItensVendas.parquet')\n",
        "df_itens_vendas.show()"
      ],
      "metadata": {
        "colab": {
          "base_uri": "https://localhost:8080/"
        },
        "id": "o2hp8BdnCT2C",
        "outputId": "30b4b560-cf08-45b8-ad52-14dca29796d4"
      },
      "execution_count": null,
      "outputs": [
        {
          "output_type": "stream",
          "name": "stdout",
          "text": [
            "+---------+--------+----------+-------------+----------+--------+----------------+\n",
            "|ProdutoID|VendasID|Quantidade|ValorUnitario|ValorTotal|Desconto|TotalComDesconto|\n",
            "+---------+--------+----------+-------------+----------+--------+----------------+\n",
            "|        2|     400|         2|       9201.0|   18402.0| 6256,68|        12145.32|\n",
            "|        2|     385|         2|       9201.0|   18402.0| 5704,62|        12697.38|\n",
            "|        4|     395|         2|       6892.2|   13784.4| 5100,23|         8684.17|\n",
            "|        4|     367|         2|       6509.3|   13018.6| 4816,88|         8201.72|\n",
            "|        2|     380|         2|      7038.77|  14077.54| 4364,04|          9713.5|\n",
            "|        2|     346|         2|       8280.9|   16561.8| 4140,45|        12421.35|\n",
            "|        2|     339|         2|       8280.9|   16561.8| 3312,36|        13249.44|\n",
            "|        2|     397|         1|       9201.0|    9201.0| 3312,36|         5888.64|\n",
            "|        1|     346|         2|       7966.8|   15933.6| 3186,72|        12746.88|\n",
            "|        2|     264|         2|       8280.9|   16561.8| 3146,74|        13415.06|\n",
            "|        4|     355|         2|      5858.37|  11716.74| 3046,35|         8670.39|\n",
            "|        2|     376|         1|       8280.9|    8280.9| 2981,12|         5299.78|\n",
            "|        2|     374|         1|       9201.0|    9201.0| 2944,32|         6256.68|\n",
            "|        1|     397|         1|       7524.2|    7524.2| 2859,20|          4665.0|\n",
            "|        2|     303|         2|       8280.9|   16561.8| 2815,51|        13746.29|\n",
            "|        4|     358|         2|       6509.3|   13018.6| 2733,91|        10284.69|\n",
            "|        4|     374|         1|       7658.0|    7658.0| 2527,14|         5130.86|\n",
            "|        3|     336|         2|       4255.0|    8510.0| 2467,90|          6042.1|\n",
            "|        1|     399|         1|      6771.78|   6771.78| 2437,84|         4333.94|\n",
            "|        1|     292|         2|      6771.78|  13543.56| 2437,84|        11105.72|\n",
            "+---------+--------+----------+-------------+----------+--------+----------------+\n",
            "only showing top 20 rows\n",
            "\n"
          ]
        }
      ]
    },
    {
      "cell_type": "code",
      "source": [
        "df_produtos = spark.read.format('parquet').load('/content/arquivos/Produtos.parquet')\n",
        "df_produtos.show()"
      ],
      "metadata": {
        "colab": {
          "base_uri": "https://localhost:8080/"
        },
        "id": "u7PE1isjCT8g",
        "outputId": "712696b0-85bd-40c7-d35b-8972cb2939c5"
      },
      "execution_count": null,
      "outputs": [
        {
          "output_type": "stream",
          "name": "stdout",
          "text": [
            "+---------+--------------------+---------+\n",
            "|ProdutoID|             Produto|    Preco|\n",
            "+---------+--------------------+---------+\n",
            "|        1|Bicicleta Aro 29 ...|8.852,00 |\n",
            "|        2|Bicicleta Altools...|9.201,00 |\n",
            "|        3|Bicicleta Gts Adv...|4.255,00 |\n",
            "|        4|Bicicleta Trinc C...|7.658,00 |\n",
            "|        5|Bicicleta Gometws...|2.966,00 |\n",
            "|        6|Bicicleta Gometws...|2.955,00 |\n",
            "|        7|Capacete Gometws ...|  155,00 |\n",
            "|        8|Luva De Ciclismo ...|  188,00 |\n",
            "|        9|Bermuda Predactor...|  115,00 |\n",
            "|       10|Camiseta Predacto...|  135,00 |\n",
            "+---------+--------------------+---------+\n",
            "\n"
          ]
        }
      ]
    },
    {
      "cell_type": "code",
      "source": [
        "df_vendas = spark.read.format('parquet').load('/content/arquivos/Vendas.parquet')\n",
        "df_vendas.show()"
      ],
      "metadata": {
        "colab": {
          "base_uri": "https://localhost:8080/"
        },
        "id": "XXOYcu0ECUDC",
        "outputId": "e182d0c8-0c4a-4819-9b6d-5e6b41f11448"
      },
      "execution_count": null,
      "outputs": [
        {
          "output_type": "stream",
          "name": "stdout",
          "text": [
            "+--------+----------+---------+---------+--------+\n",
            "|VendasID|VendedorID|ClienteID|     Data|   Total|\n",
            "+--------+----------+---------+---------+--------+\n",
            "|       1|         1|       91| 1/1/2019|  8053.6|\n",
            "|       2|         6|      185| 1/1/2020|   150.4|\n",
            "|       3|         7|       31| 2/1/2020|  6087.0|\n",
            "|       4|         5|       31| 2/1/2019| 13828.6|\n",
            "|       5|         5|       31| 3/1/2018|26096.66|\n",
            "|       6|         5|       31| 4/1/2020| 18402.0|\n",
            "|       7|         5|       31| 6/1/2019|  7524.2|\n",
            "|       8|         5|      186| 6/1/2019| 12036.6|\n",
            "|       9|         7|       91| 6/1/2020| 2804.75|\n",
            "|      10|         2|      202| 6/1/2020|  8852.0|\n",
            "|      11|         7|       58| 8/1/2019|16545.25|\n",
            "|      12|         7|       58| 9/1/2018|11411.88|\n",
            "|      13|         7|       58|10/1/2019| 15829.7|\n",
            "|      14|         3|      249|12/1/2020| 6154.36|\n",
            "|      15|         4|      249|12/1/2018| 3255.08|\n",
            "|      16|         7|      192|13/1/2020| 2901.25|\n",
            "|      17|         2|       79|13/1/2019| 15829.7|\n",
            "|      18|        10|       79|14/1/2019|16996.36|\n",
            "|      19|        10|      191|14/1/2019|   155.0|\n",
            "|      20|         9|      218|15/1/2018|  131.75|\n",
            "+--------+----------+---------+---------+--------+\n",
            "only showing top 20 rows\n",
            "\n"
          ]
        }
      ]
    },
    {
      "cell_type": "code",
      "source": [
        "df_vendedores = spark.read.format('parquet').load('/content/arquivos/Vendedores.parquet')\n",
        "df_vendedores.show()"
      ],
      "metadata": {
        "colab": {
          "base_uri": "https://localhost:8080/"
        },
        "id": "XYP-PwGZ_Vrd",
        "outputId": "8b435335-be29-4d4f-8d41-fa02cdde7988"
      },
      "execution_count": null,
      "outputs": [
        {
          "output_type": "stream",
          "name": "stdout",
          "text": [
            "+----------+----------------+\n",
            "|VendedorID|        Vendedor|\n",
            "+----------+----------------+\n",
            "|         1|    Armando Lago|\n",
            "|         2|Capitolino Bahía|\n",
            "|         3|   Daniel Pirajá|\n",
            "|         4| Godo Capiperibe|\n",
            "|         5|  Hélio Liberato|\n",
            "|         6|   Iberê Lacerda|\n",
            "|         7|Jéssica Castelão|\n",
            "|         8| Napoleão Méndez|\n",
            "|         9|    Simão Rivero|\n",
            "|        10|  Tobias Furtado|\n",
            "+----------+----------------+\n",
            "\n"
          ]
        }
      ]
    },
    {
      "cell_type": "code",
      "source": [
        "df_clientes.select('Cliente', 'Estado', 'Status').show()"
      ],
      "metadata": {
        "colab": {
          "base_uri": "https://localhost:8080/"
        },
        "id": "s7SKS-v7FFWx",
        "outputId": "158676cb-8b19-4873-97cf-3fbdcbab6374"
      },
      "execution_count": null,
      "outputs": [
        {
          "output_type": "stream",
          "name": "stdout",
          "text": [
            "+--------------------+------+--------+\n",
            "|             Cliente|Estado|  Status|\n",
            "+--------------------+------+--------+\n",
            "|Adelina Buenaventura|    RJ|  Silver|\n",
            "|        Adelino Gago|    RJ|  Silver|\n",
            "|     Adolfo Patrício|    PE|  Silver|\n",
            "|    Adriana Guedelha|    RO|Platinum|\n",
            "|       Adélio Lisboa|    SE|  Silver|\n",
            "|       Adérito Bahía|    MA|  Silver|\n",
            "|       Aida Dorneles|    RN|  Silver|\n",
            "|   Alarico Quinterno|    AC|  Silver|\n",
            "|    Alberto Cezimbra|    AM|  Silver|\n",
            "|    Alberto Monsanto|    RN|    Gold|\n",
            "|       Albino Canela|    AC|  Silver|\n",
            "|     Alceste Varanda|    RR|  Silver|\n",
            "|  Alcides Carvalhais|    RO|  Silver|\n",
            "|        Aldo Martins|    GO|  Silver|\n",
            "|   Alexandra Tabares|    MG|  Silver|\n",
            "|      Alfredo Cotrim|    SC|  Silver|\n",
            "|     Almeno Figueira|    SC|  Silver|\n",
            "|      Alvito Peralta|    AM|  Silver|\n",
            "|     Amadeu Martinho|    RN|  Silver|\n",
            "|      Amélia Estévez|    PE|  Silver|\n",
            "+--------------------+------+--------+\n",
            "only showing top 20 rows\n",
            "\n"
          ]
        }
      ]
    },
    {
      "cell_type": "code",
      "source": [
        "df_clientes.select(df_clientes.Status).distinct().show()"
      ],
      "metadata": {
        "colab": {
          "base_uri": "https://localhost:8080/"
        },
        "id": "uR59-w2pHHUJ",
        "outputId": "0916696c-ea6e-428a-ee1e-bb48ba7a0239"
      },
      "execution_count": null,
      "outputs": [
        {
          "output_type": "stream",
          "name": "stdout",
          "text": [
            "+--------+\n",
            "|  Status|\n",
            "+--------+\n",
            "|Platinum|\n",
            "|  Silver|\n",
            "|    Gold|\n",
            "+--------+\n",
            "\n"
          ]
        }
      ]
    },
    {
      "cell_type": "code",
      "source": [
        "df_clientes.where(df_clientes.Status != 'Silver').show()"
      ],
      "metadata": {
        "colab": {
          "base_uri": "https://localhost:8080/"
        },
        "id": "qVZFGJDTGoZa",
        "outputId": "9675a686-b941-4f2c-bae6-ac63b60a5e35"
      },
      "execution_count": null,
      "outputs": [
        {
          "output_type": "stream",
          "name": "stdout",
          "text": [
            "+---------+-------------------+------+------+--------+\n",
            "|ClienteID|            Cliente|Estado|Genero|  Status|\n",
            "+---------+-------------------+------+------+--------+\n",
            "|        4|   Adriana Guedelha|    RO|     F|Platinum|\n",
            "|       10|   Alberto Monsanto|    RN|     M|    Gold|\n",
            "|       28|      Anna Carvajal|    RS|     F|    Gold|\n",
            "|       49|      Bento Quintão|    SP|     M|    Gold|\n",
            "|       68|      Carminda Dias|    AM|     F|    Gold|\n",
            "|       83|      Cláudio Jorge|    TO|     M|    Gold|\n",
            "|      121|    Dionísio Saltão|    PR|     M|    Gold|\n",
            "|      166|   Firmino Meireles|    AM|     M|    Gold|\n",
            "|      170|      Flor Vilanova|    CE|     M|Platinum|\n",
            "|      220|Honorina Villaverde|    PE|     F|    Gold|\n",
            "|      230|    Ibijara Botelho|    RR|     F|Platinum|\n",
            "|      237|  Iracema Rodríguez|    BA|     F|    Gold|\n",
            "|      247|         Joana Ataí|    GO|     F|Platinum|\n",
            "+---------+-------------------+------+------+--------+\n",
            "\n"
          ]
        }
      ]
    },
    {
      "cell_type": "code",
      "source": [
        "df_vendas.show()"
      ],
      "metadata": {
        "colab": {
          "base_uri": "https://localhost:8080/"
        },
        "id": "4jvoigHXGNnv",
        "outputId": "cf9dffa7-3173-40d4-def6-c24e7ea8eaaf"
      },
      "execution_count": null,
      "outputs": [
        {
          "output_type": "stream",
          "name": "stdout",
          "text": [
            "+--------+----------+---------+---------+--------+\n",
            "|VendasID|VendedorID|ClienteID|     Data|   Total|\n",
            "+--------+----------+---------+---------+--------+\n",
            "|       1|         1|       91| 1/1/2019|  8053.6|\n",
            "|       2|         6|      185| 1/1/2020|   150.4|\n",
            "|       3|         7|       31| 2/1/2020|  6087.0|\n",
            "|       4|         5|       31| 2/1/2019| 13828.6|\n",
            "|       5|         5|       31| 3/1/2018|26096.66|\n",
            "|       6|         5|       31| 4/1/2020| 18402.0|\n",
            "|       7|         5|       31| 6/1/2019|  7524.2|\n",
            "|       8|         5|      186| 6/1/2019| 12036.6|\n",
            "|       9|         7|       91| 6/1/2020| 2804.75|\n",
            "|      10|         2|      202| 6/1/2020|  8852.0|\n",
            "|      11|         7|       58| 8/1/2019|16545.25|\n",
            "|      12|         7|       58| 9/1/2018|11411.88|\n",
            "|      13|         7|       58|10/1/2019| 15829.7|\n",
            "|      14|         3|      249|12/1/2020| 6154.36|\n",
            "|      15|         4|      249|12/1/2018| 3255.08|\n",
            "|      16|         7|      192|13/1/2020| 2901.25|\n",
            "|      17|         2|       79|13/1/2019| 15829.7|\n",
            "|      18|        10|       79|14/1/2019|16996.36|\n",
            "|      19|        10|      191|14/1/2019|   155.0|\n",
            "|      20|         9|      218|15/1/2018|  131.75|\n",
            "+--------+----------+---------+---------+--------+\n",
            "only showing top 20 rows\n",
            "\n"
          ]
        }
      ]
    },
    {
      "cell_type": "code",
      "source": [
        "df_clientes.join(df_vendas, df_clientes.ClienteID == df_vendas.ClienteID).groupBy(df_clientes.Status).agg(sum(df_vendas.Total)).show()"
      ],
      "metadata": {
        "colab": {
          "base_uri": "https://localhost:8080/"
        },
        "id": "XUmNdBCwIbn2",
        "outputId": "f0f65a7f-4bd0-4a27-92d3-f1719e773a7c"
      },
      "execution_count": null,
      "outputs": [
        {
          "output_type": "stream",
          "name": "stdout",
          "text": [
            "+--------+------------------+\n",
            "|  Status|        sum(Total)|\n",
            "+--------+------------------+\n",
            "|Platinum|          12584.68|\n",
            "|  Silver|        3014291.36|\n",
            "|    Gold|27286.690000000002|\n",
            "+--------+------------------+\n",
            "\n"
          ]
        }
      ]
    },
    {
      "cell_type": "code",
      "source": [],
      "metadata": {
        "id": "mcov58CGJvvC"
      },
      "execution_count": null,
      "outputs": []
    }
  ]
}