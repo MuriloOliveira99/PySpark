{
  "nbformat": 4,
  "nbformat_minor": 0,
  "metadata": {
    "colab": {
      "provenance": []
    },
    "kernelspec": {
      "name": "python3",
      "display_name": "Python 3"
    },
    "language_info": {
      "name": "python"
    }
  },
  "cells": [
    {
      "cell_type": "markdown",
      "source": [
        "# Python: PySpark - Parquet"
      ],
      "metadata": {
        "id": "Bws4FGNMSq3N"
      }
    },
    {
      "cell_type": "code",
      "source": [
        "from pyspark.sql.session import SparkSession\n",
        "from pyspark.sql.functions import lit"
      ],
      "metadata": {
        "id": "iZai23vzYHYW"
      },
      "execution_count": null,
      "outputs": []
    },
    {
      "cell_type": "code",
      "source": [
        "spark = (\n",
        "    SparkSession.builder\n",
        "    .master('local')\n",
        "    .appName('parquet')\n",
        "    .getOrCreate()\n",
        ")"
      ],
      "metadata": {
        "id": "U3ZDgNBfX1KP"
      },
      "execution_count": null,
      "outputs": []
    },
    {
      "cell_type": "code",
      "source": [
        "# criando um df\n",
        "dados = [\n",
        "    ('Murilo', 'Oliveira', 'Brasileiro(a)', 'Engenheiro de Dados', 'M', 3000),\n",
        "    ('Maria', 'Santana', 'Italiana', 'ADM', 'F', 3600),\n",
        "    ('Paulo', 'Andrade', 'Francesa', 'Engenheiro de Dados', 'M', 3700),\n",
        "    ('Ana', 'Clara', 'Portuguesa', 'Médico', 'F', 4000),\n",
        "    ('Mario', 'Fernandes', 'Alemã', 'Jogador', 'M', 5000),\n",
        "    ('Catarina', 'Silva', 'Brasileiro(a)', 'Advogado', 'F', 4500),\n",
        "    ('Lucas', 'Pereira', 'Brasileiro(a)', 'Analista de Sistemas', 'M', 3800),\n",
        "    ('Carolina', 'Costa', 'Portuguesa', 'Designer', 'F', 4200),\n",
        "    ('Gabriel', 'Martins', 'Brasileiro(a)', 'Arquiteto', 'M', 4800),\n",
        "    ('Larissa', 'Rocha', 'Brasileiro(a)', 'Enfermeira', 'F', 3700)\n",
        "]\n",
        "\n",
        "colunas = [\n",
        "    'nome',\n",
        "    'sobrenome',\n",
        "    'nacionalidade',\n",
        "    'trabalho',\n",
        "    'genero',\n",
        "    'salario'\n",
        "]\n",
        "\n",
        "df = spark.createDataFrame(dados, colunas)\n",
        "df.show()"
      ],
      "metadata": {
        "colab": {
          "base_uri": "https://localhost:8080/"
        },
        "id": "9HbHejdzYbUw",
        "outputId": "2f93fe60-554a-4eb0-8d48-d15926b640ec"
      },
      "execution_count": null,
      "outputs": [
        {
          "output_type": "stream",
          "name": "stdout",
          "text": [
            "+--------+---------+-------------+--------------------+------+-------+\n",
            "|    nome|sobrenome|nacionalidade|            trabalho|genero|salario|\n",
            "+--------+---------+-------------+--------------------+------+-------+\n",
            "|  Murilo| Oliveira|Brasileiro(a)| Engenheiro de Dados|     M|   3000|\n",
            "|   Maria|  Santana|     Italiana|                 ADM|     F|   3600|\n",
            "|   Paulo|  Andrade|     Francesa| Engenheiro de Dados|     M|   3700|\n",
            "|     Ana|    Clara|   Portuguesa|              Médico|     F|   4000|\n",
            "|   Mario|Fernandes|        Alemã|             Jogador|     M|   5000|\n",
            "|Catarina|    Silva|Brasileiro(a)|            Advogado|     F|   4500|\n",
            "|   Lucas|  Pereira|Brasileiro(a)|Analista de Sistemas|     M|   3800|\n",
            "|Carolina|    Costa|   Portuguesa|            Designer|     F|   4200|\n",
            "| Gabriel|  Martins|Brasileiro(a)|           Arquiteto|     M|   4800|\n",
            "| Larissa|    Rocha|Brasileiro(a)|          Enfermeira|     F|   3700|\n",
            "+--------+---------+-------------+--------------------+------+-------+\n",
            "\n"
          ]
        }
      ]
    },
    {
      "cell_type": "markdown",
      "source": [
        "### Salvando o df no formato parquet"
      ],
      "metadata": {
        "id": "839AYBO0bANN"
      }
    },
    {
      "cell_type": "code",
      "source": [
        "df.write.parquet('/content/novo_df.parquet')"
      ],
      "metadata": {
        "id": "ag9L1ZPwZ8NS"
      },
      "execution_count": null,
      "outputs": []
    },
    {
      "cell_type": "markdown",
      "source": [
        "### Subscrevendo o arquivo parquet"
      ],
      "metadata": {
        "id": "U-h0c_JycLzQ"
      }
    },
    {
      "cell_type": "code",
      "source": [
        "# permite atualizar o arquivo parquet\n",
        "df = df.withColumn('status', lit('OK'))\n",
        "\n",
        "df.write.mode('overwrite').parquet('/content/novo_df.parquet')"
      ],
      "metadata": {
        "id": "Ua-XB9Fnb4xZ"
      },
      "execution_count": null,
      "outputs": []
    },
    {
      "cell_type": "markdown",
      "source": [
        "### Lendo o arquivo parquet"
      ],
      "metadata": {
        "id": "HO8xjupPdvEC"
      }
    },
    {
      "cell_type": "code",
      "source": [
        "df_parquet = spark.read.parquet('/content/novo_df.parquet')\n",
        "df_parquet.show()"
      ],
      "metadata": {
        "colab": {
          "base_uri": "https://localhost:8080/"
        },
        "id": "ConjaG16ckFR",
        "outputId": "5f8f8b2d-fc68-47c3-f872-27b79dbd67f4"
      },
      "execution_count": null,
      "outputs": [
        {
          "output_type": "stream",
          "name": "stdout",
          "text": [
            "+--------+---------+-------------+--------------------+------+-------+------+\n",
            "|    nome|sobrenome|nacionalidade|            trabalho|genero|salario|status|\n",
            "+--------+---------+-------------+--------------------+------+-------+------+\n",
            "|  Murilo| Oliveira|   Brasileiro| Engenheiro de Dados|     M|   3000|    OK|\n",
            "|   Maria|  Santana|     Italiana|                 ADM|     F|   3600|    OK|\n",
            "|   Paulo|  Andrade|     Francesa| Engenheiro de Dados|     M|   3700|    OK|\n",
            "|     Ana|    Clara|   Portuguesa|              Médico|     F|   4000|    OK|\n",
            "|   Mario|Fernandes|        Alemã|             Jogador|     M|   5000|    OK|\n",
            "|Catarina|    Silva|   Brasileira|            Advogado|     F|   4500|    OK|\n",
            "|   Lucas|  Pereira|   Brasileiro|Analista de Sistemas|     M|   3800|    OK|\n",
            "|Carolina|    Costa|   Portuguesa|            Designer|     F|   4200|    OK|\n",
            "| Gabriel|  Martins|   Brasileiro|           Arquiteto|     M|   4800|    OK|\n",
            "| Larissa|    Rocha|   Brasileira|          Enfermeira|     F|   3700|    OK|\n",
            "+--------+---------+-------------+--------------------+------+-------+------+\n",
            "\n"
          ]
        }
      ]
    },
    {
      "cell_type": "markdown",
      "source": [
        "### Particionando os dados parquet"
      ],
      "metadata": {
        "id": "sRJwFNHyfHhn"
      }
    },
    {
      "cell_type": "code",
      "source": [
        "df.write\\\n",
        ".partitionBy('nacionalidade', 'genero')\\\n",
        ".mode('overwrite')\\\n",
        ".parquet('/content/novo_df.parquet')"
      ],
      "metadata": {
        "id": "dxXFJiE5d41v"
      },
      "execution_count": null,
      "outputs": []
    },
    {
      "cell_type": "markdown",
      "source": [
        "#### Exibindo os dados do parquet cuja a nacionalidade é brasileiro(a)"
      ],
      "metadata": {
        "id": "FOMTXE9kf5cV"
      }
    },
    {
      "cell_type": "code",
      "source": [
        "df_br = spark.read.parquet('/content/novo_df.parquet/nacionalidade=Brasileiro(a)')\n",
        "df_br.show()"
      ],
      "metadata": {
        "colab": {
          "base_uri": "https://localhost:8080/"
        },
        "id": "C7BpSVgtgCtJ",
        "outputId": "e64a50a4-4344-428e-e36b-dbe8437fa220"
      },
      "execution_count": null,
      "outputs": [
        {
          "output_type": "stream",
          "name": "stdout",
          "text": [
            "+--------+---------+--------------------+-------+------+\n",
            "|    nome|sobrenome|            trabalho|salario|genero|\n",
            "+--------+---------+--------------------+-------+------+\n",
            "|  Murilo| Oliveira| Engenheiro de Dados|   3000|     M|\n",
            "|   Lucas|  Pereira|Analista de Sistemas|   3800|     M|\n",
            "| Gabriel|  Martins|           Arquiteto|   4800|     M|\n",
            "|Catarina|    Silva|            Advogado|   4500|     F|\n",
            "| Larissa|    Rocha|          Enfermeira|   3700|     F|\n",
            "+--------+---------+--------------------+-------+------+\n",
            "\n"
          ]
        }
      ]
    },
    {
      "cell_type": "code",
      "source": [
        "# somente M\n",
        "df_br_masc = spark.read.parquet('/content/novo_df.parquet/nacionalidade=Brasileiro(a)/genero=M')\n",
        "df_br_masc.show()"
      ],
      "metadata": {
        "colab": {
          "base_uri": "https://localhost:8080/"
        },
        "id": "_0Z3lFPrgR1p",
        "outputId": "9a1c3439-5b82-44d6-ec40-31d0cf8817c2"
      },
      "execution_count": null,
      "outputs": [
        {
          "output_type": "stream",
          "name": "stdout",
          "text": [
            "+-------+---------+--------------------+-------+\n",
            "|   nome|sobrenome|            trabalho|salario|\n",
            "+-------+---------+--------------------+-------+\n",
            "| Murilo| Oliveira| Engenheiro de Dados|   3000|\n",
            "|  Lucas|  Pereira|Analista de Sistemas|   3800|\n",
            "|Gabriel|  Martins|           Arquiteto|   4800|\n",
            "+-------+---------+--------------------+-------+\n",
            "\n"
          ]
        }
      ]
    },
    {
      "cell_type": "code",
      "source": [
        "# somente F\n",
        "df_br_fem = spark.read.parquet('/content/novo_df.parquet/nacionalidade=Brasileiro(a)/genero=F')\n",
        "df_br_fem.show()"
      ],
      "metadata": {
        "colab": {
          "base_uri": "https://localhost:8080/"
        },
        "id": "WsDEU7Qgh0nK",
        "outputId": "9d2fdf92-6054-4243-83cb-32a5f6ec7a23"
      },
      "execution_count": null,
      "outputs": [
        {
          "output_type": "stream",
          "name": "stdout",
          "text": [
            "+--------+---------+----------+-------+\n",
            "|    nome|sobrenome|  trabalho|salario|\n",
            "+--------+---------+----------+-------+\n",
            "|Catarina|    Silva|  Advogado|   4500|\n",
            "| Larissa|    Rocha|Enfermeira|   3700|\n",
            "+--------+---------+----------+-------+\n",
            "\n"
          ]
        }
      ]
    },
    {
      "cell_type": "markdown",
      "source": [
        "### Realizando uma pesquisa via SQL no arquivo parquet particionado"
      ],
      "metadata": {
        "id": "DIw9sDTliL7F"
      }
    },
    {
      "cell_type": "code",
      "source": [
        "spark.sql('''\n",
        "    CREATE OR REPLACE TEMPORARY VIEW funcionario\n",
        "    USING parquet OPTIONS (path\\\"/content/novo_df.parquet/nacionalidade=Brasileiro(a)\")\n",
        "    '''\n",
        ")\n",
        "\n",
        "spark.sql('''\n",
        "    SELECT *\n",
        "    FROM funcionario\n",
        "'''\n",
        ").show()"
      ],
      "metadata": {
        "colab": {
          "base_uri": "https://localhost:8080/"
        },
        "id": "7_B0u8VBiPq3",
        "outputId": "125d10d2-4046-4742-e46f-e620b5e7914d"
      },
      "execution_count": null,
      "outputs": [
        {
          "output_type": "stream",
          "name": "stdout",
          "text": [
            "+--------+---------+--------------------+-------+------+\n",
            "|    nome|sobrenome|            trabalho|salario|genero|\n",
            "+--------+---------+--------------------+-------+------+\n",
            "|  Murilo| Oliveira| Engenheiro de Dados|   3000|     M|\n",
            "|   Lucas|  Pereira|Analista de Sistemas|   3800|     M|\n",
            "| Gabriel|  Martins|           Arquiteto|   4800|     M|\n",
            "|Catarina|    Silva|            Advogado|   4500|     F|\n",
            "| Larissa|    Rocha|          Enfermeira|   3700|     F|\n",
            "+--------+---------+--------------------+-------+------+\n",
            "\n"
          ]
        }
      ]
    }
  ]
}