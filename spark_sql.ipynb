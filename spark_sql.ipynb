{
  "nbformat": 4,
  "nbformat_minor": 0,
  "metadata": {
    "colab": {
      "provenance": [],
      "collapsed_sections": []
    },
    "kernelspec": {
      "name": "python3",
      "display_name": "Python 3"
    },
    "language_info": {
      "name": "python"
    }
  },
  "cells": [
    {
      "cell_type": "markdown",
      "source": [
        "# Spark SQL\n",
        "# Spark DataFrame"
      ],
      "metadata": {
        "id": "xw4bv8fPKVtQ"
      }
    },
    {
      "cell_type": "code",
      "execution_count": null,
      "metadata": {
        "colab": {
          "base_uri": "https://localhost:8080/"
        },
        "id": "H9L5zkLjqk4Z",
        "outputId": "8c9cdc59-f00f-4241-e714-b87531db1d85"
      },
      "outputs": [
        {
          "output_type": "stream",
          "name": "stdout",
          "text": [
            "Looking in indexes: https://pypi.org/simple, https://us-python.pkg.dev/colab-wheels/public/simple/\n",
            "Collecting spark\n",
            "  Downloading spark-0.2.1.tar.gz (41 kB)\n",
            "Building wheels for collected packages: spark\n",
            "  Building wheel for spark (setup.py): started\n",
            "  Building wheel for spark (setup.py): finished with status 'done'\n",
            "  Created wheel for spark: filename=spark-0.2.1-py3-none-any.whl size=58762 sha256=99e188629ad3261b68785de0bd91f45a57da967306f0faf985f40670e4595383\n",
            "  Stored in directory: /root/.cache/pip/wheels/4e/0e/f1/164619f9920fb447d294afaae11a7715bd442ded7225953d72\n",
            "Successfully built spark\n",
            "Installing collected packages: spark\n",
            "Successfully installed spark-0.2.1\n",
            "Looking in indexes: https://pypi.org/simple, https://us-python.pkg.dev/colab-wheels/public/simple/\n",
            "Collecting pyspark\n",
            "  Downloading pyspark-3.3.0.tar.gz (281.3 MB)\n",
            "Collecting py4j==0.10.9.5\n",
            "  Downloading py4j-0.10.9.5-py2.py3-none-any.whl (199 kB)\n",
            "Building wheels for collected packages: pyspark\n",
            "  Building wheel for pyspark (setup.py): started\n",
            "  Building wheel for pyspark (setup.py): finished with status 'done'\n",
            "  Created wheel for pyspark: filename=pyspark-3.3.0-py2.py3-none-any.whl size=281764026 sha256=7e2438490033d610e267415fcc64acffc9308c790409c388f4c08a52059ac9d8\n",
            "  Stored in directory: /root/.cache/pip/wheels/7a/8e/1b/f73a52650d2e5f337708d9f6a1750d451a7349a867f928b885\n",
            "Successfully built pyspark\n",
            "Installing collected packages: py4j, pyspark\n",
            "Successfully installed py4j-0.10.9.5 pyspark-3.3.0\n"
          ]
        }
      ],
      "source": [
        "%%sh\n",
        "sudo pip install spark\n",
        "sudo pip install pyspark"
      ]
    },
    {
      "cell_type": "code",
      "source": [
        "import pyspark\n",
        "from pyspark.sql import SparkSession\n",
        "from pyspark.sql.functions import *"
      ],
      "metadata": {
        "id": "inAuvQ9Hq0eB"
      },
      "execution_count": null,
      "outputs": []
    },
    {
      "cell_type": "code",
      "source": [
        "spark = SparkSession.builder.appName('pyspark_df').getOrCreate()"
      ],
      "metadata": {
        "id": "C7tVkJt5q07B"
      },
      "execution_count": null,
      "outputs": []
    },
    {
      "cell_type": "code",
      "source": [
        "# mostra todos os databases\n",
        "spark.sql('show databases').show()"
      ],
      "metadata": {
        "colab": {
          "base_uri": "https://localhost:8080/"
        },
        "id": "9OzR53yYrUzc",
        "outputId": "ba59ee16-8757-43e6-a864-a16b580ee0de"
      },
      "execution_count": null,
      "outputs": [
        {
          "output_type": "stream",
          "name": "stdout",
          "text": [
            "+---------+\n",
            "|namespace|\n",
            "+---------+\n",
            "|  default|\n",
            "+---------+\n",
            "\n"
          ]
        }
      ]
    },
    {
      "cell_type": "code",
      "source": [
        "# cria um banco de dados\n",
        "spark.sql('create database desp')\n",
        "spark.sql('show databases').show()"
      ],
      "metadata": {
        "colab": {
          "base_uri": "https://localhost:8080/"
        },
        "id": "ZfynlfdUr3ni",
        "outputId": "2bb9fa58-5278-4561-be4f-e1f91efa519e"
      },
      "execution_count": null,
      "outputs": [
        {
          "output_type": "stream",
          "name": "stdout",
          "text": [
            "+---------+\n",
            "|namespace|\n",
            "+---------+\n",
            "|  default|\n",
            "|     desp|\n",
            "+---------+\n",
            "\n"
          ]
        }
      ]
    },
    {
      "cell_type": "code",
      "source": [
        "# conecta no banco\n",
        "spark.sql('use desp').show()"
      ],
      "metadata": {
        "colab": {
          "base_uri": "https://localhost:8080/"
        },
        "id": "tetp_AeisCoB",
        "outputId": "7da4f9d5-4181-4cee-b56b-0bd336505ffe"
      },
      "execution_count": null,
      "outputs": [
        {
          "output_type": "stream",
          "name": "stdout",
          "text": [
            "++\n",
            "||\n",
            "++\n",
            "++\n",
            "\n"
          ]
        }
      ]
    },
    {
      "cell_type": "code",
      "source": [
        "# criando um schema\n",
        "arqschema = \"\"\"\n",
        "            id INT, \n",
        "            nome STRING, \n",
        "            status STRING, \n",
        "            cidade STRING, \n",
        "            vendas INT, \n",
        "            data STRING\n",
        "            \"\"\""
      ],
      "metadata": {
        "id": "wdJ3KLaosct0"
      },
      "execution_count": null,
      "outputs": []
    },
    {
      "cell_type": "code",
      "source": [
        "# importando a base de dados\n",
        "despachantes = spark.read.csv('/content/despachantes.csv', header=False, schema=arqschema)"
      ],
      "metadata": {
        "id": "UuDrHk4xtOzX"
      },
      "execution_count": null,
      "outputs": []
    },
    {
      "cell_type": "code",
      "source": [
        "despachantes.show()"
      ],
      "metadata": {
        "colab": {
          "base_uri": "https://localhost:8080/"
        },
        "id": "sHj5hNsOtkvO",
        "outputId": "e338697f-fcfb-431f-9358-3fad6027c4f5"
      },
      "execution_count": null,
      "outputs": [
        {
          "output_type": "stream",
          "name": "stdout",
          "text": [
            "+---+-------------------+------+-------------+------+----------+\n",
            "| id|               nome|status|       cidade|vendas|      data|\n",
            "+---+-------------------+------+-------------+------+----------+\n",
            "|  1|   Carminda Pestana| Ativo|  Santa Maria|    23|2020-08-11|\n",
            "|  2|    Deolinda Vilela| Ativo|Novo Hamburgo|    34|2020-03-05|\n",
            "|  3|   Emídio Dornelles| Ativo| Porto Alegre|    34|2020-02-05|\n",
            "|  4|Felisbela Dornelles| Ativo| Porto Alegre|    36|2020-02-05|\n",
            "|  5|     Graça Ornellas| Ativo| Porto Alegre|    12|2020-02-05|\n",
            "|  6|   Matilde Rebouças| Ativo| Porto Alegre|    22|2019-01-05|\n",
            "|  7|    Noêmia   Orriça| Ativo|  Santa Maria|    45|2019-10-05|\n",
            "|  8|      Roque Vásquez| Ativo| Porto Alegre|    65|2020-03-05|\n",
            "|  9|      Uriel Queiroz| Ativo| Porto Alegre|    54|2018-05-05|\n",
            "| 10|   Viviana Sequeira| Ativo| Porto Alegre|     0|2020-09-05|\n",
            "+---+-------------------+------+-------------+------+----------+\n",
            "\n"
          ]
        }
      ]
    },
    {
      "cell_type": "code",
      "source": [
        "# transformar o df em uma tabela\n",
        "despachantes.write.saveAsTable('Despachantes')"
      ],
      "metadata": {
        "id": "OspskclzuYk7"
      },
      "execution_count": null,
      "outputs": []
    },
    {
      "cell_type": "code",
      "source": [
        "# verificar se a tabela existe\n",
        "# sempre retorna um df\n",
        "#spark.sql('show tables').show()\n",
        "spark.sql('SELECT * FROM Despachantes').show()"
      ],
      "metadata": {
        "colab": {
          "base_uri": "https://localhost:8080/"
        },
        "id": "Qe6hVVaXuwvz",
        "outputId": "833926e6-e25c-4fd1-a7bd-0302d6163ad5"
      },
      "execution_count": null,
      "outputs": [
        {
          "output_type": "stream",
          "name": "stdout",
          "text": [
            "+---+-------------------+------+-------------+------+----------+\n",
            "| id|               nome|status|       cidade|vendas|      data|\n",
            "+---+-------------------+------+-------------+------+----------+\n",
            "|  1|   Carminda Pestana| Ativo|  Santa Maria|    23|2020-08-11|\n",
            "|  2|    Deolinda Vilela| Ativo|Novo Hamburgo|    34|2020-03-05|\n",
            "|  3|   Emídio Dornelles| Ativo| Porto Alegre|    34|2020-02-05|\n",
            "|  4|Felisbela Dornelles| Ativo| Porto Alegre|    36|2020-02-05|\n",
            "|  5|     Graça Ornellas| Ativo| Porto Alegre|    12|2020-02-05|\n",
            "|  6|   Matilde Rebouças| Ativo| Porto Alegre|    22|2019-01-05|\n",
            "|  7|    Noêmia   Orriça| Ativo|  Santa Maria|    45|2019-10-05|\n",
            "|  8|      Roque Vásquez| Ativo| Porto Alegre|    65|2020-03-05|\n",
            "|  9|      Uriel Queiroz| Ativo| Porto Alegre|    54|2018-05-05|\n",
            "| 10|   Viviana Sequeira| Ativo| Porto Alegre|     0|2020-09-05|\n",
            "+---+-------------------+------+-------------+------+----------+\n",
            "\n"
          ]
        }
      ]
    },
    {
      "cell_type": "code",
      "source": [
        "spark.sql('use desp').show()"
      ],
      "metadata": {
        "colab": {
          "base_uri": "https://localhost:8080/"
        },
        "id": "VJCBkvrDvR2v",
        "outputId": "84471009-d622-4f7e-9409-39a51430a040"
      },
      "execution_count": null,
      "outputs": [
        {
          "output_type": "stream",
          "name": "stdout",
          "text": [
            "++\n",
            "||\n",
            "++\n",
            "++\n",
            "\n"
          ]
        }
      ]
    },
    {
      "cell_type": "code",
      "source": [
        "# overwrite -> subscreve a tabela.\n",
        "# append -> adiciona mais dados a tabela existente\n",
        "despachantes.write.mode('overwrite').saveAsTable('Despachantes')"
      ],
      "metadata": {
        "id": "My9UHGZSvTiC"
      },
      "execution_count": null,
      "outputs": []
    },
    {
      "cell_type": "markdown",
      "source": [
        "#### Tabelas Gerenciadas e Externas"
      ],
      "metadata": {
        "id": "HCa9oQkQwN2a"
      }
    },
    {
      "cell_type": "code",
      "source": [
        "# Tabela gerenciada\n",
        "despachantes = spark.sql('SELECT * FROM Despachantes')\n",
        "despachantes.show()"
      ],
      "metadata": {
        "colab": {
          "base_uri": "https://localhost:8080/"
        },
        "id": "ZghwwNNyv0EF",
        "outputId": "ba12b9db-8cbd-4777-e4fa-3e9842bd2fba"
      },
      "execution_count": null,
      "outputs": [
        {
          "output_type": "stream",
          "name": "stdout",
          "text": [
            "+---+-------------------+------+-------------+------+----------+\n",
            "| id|               nome|status|       cidade|vendas|      data|\n",
            "+---+-------------------+------+-------------+------+----------+\n",
            "|  1|   Carminda Pestana| Ativo|  Santa Maria|    23|2020-08-11|\n",
            "|  2|    Deolinda Vilela| Ativo|Novo Hamburgo|    34|2020-03-05|\n",
            "|  3|   Emídio Dornelles| Ativo| Porto Alegre|    34|2020-02-05|\n",
            "|  4|Felisbela Dornelles| Ativo| Porto Alegre|    36|2020-02-05|\n",
            "|  5|     Graça Ornellas| Ativo| Porto Alegre|    12|2020-02-05|\n",
            "|  6|   Matilde Rebouças| Ativo| Porto Alegre|    22|2019-01-05|\n",
            "|  7|    Noêmia   Orriça| Ativo|  Santa Maria|    45|2019-10-05|\n",
            "|  8|      Roque Vásquez| Ativo| Porto Alegre|    65|2020-03-05|\n",
            "|  9|      Uriel Queiroz| Ativo| Porto Alegre|    54|2018-05-05|\n",
            "| 10|   Viviana Sequeira| Ativo| Porto Alegre|     0|2020-09-05|\n",
            "+---+-------------------+------+-------------+------+----------+\n",
            "\n"
          ]
        }
      ]
    },
    {
      "cell_type": "code",
      "source": [
        "# Tabela externa\n",
        "despachantes.write.format('parquet').save('desparquet')"
      ],
      "metadata": {
        "id": "AKNq24fexAdc"
      },
      "execution_count": null,
      "outputs": []
    },
    {
      "cell_type": "code",
      "source": [
        "despachantes.write.option('path', '/content/desp_parquet').saveAsTable('desspachantes_ng')"
      ],
      "metadata": {
        "id": "eWX7w94SxitD"
      },
      "execution_count": null,
      "outputs": []
    },
    {
      "cell_type": "code",
      "source": [
        "spark.sql('SELECT * FROM desspachantes_ng').show()"
      ],
      "metadata": {
        "colab": {
          "base_uri": "https://localhost:8080/"
        },
        "id": "NqzTGQ3Vz8Ml",
        "outputId": "1c00a490-3e23-47e4-8655-e22186c631a4"
      },
      "execution_count": null,
      "outputs": [
        {
          "output_type": "stream",
          "name": "stdout",
          "text": [
            "+---+-------------------+------+-------------+------+----------+\n",
            "| id|               nome|status|       cidade|vendas|      data|\n",
            "+---+-------------------+------+-------------+------+----------+\n",
            "|  1|   Carminda Pestana| Ativo|  Santa Maria|    23|2020-08-11|\n",
            "|  2|    Deolinda Vilela| Ativo|Novo Hamburgo|    34|2020-03-05|\n",
            "|  3|   Emídio Dornelles| Ativo| Porto Alegre|    34|2020-02-05|\n",
            "|  4|Felisbela Dornelles| Ativo| Porto Alegre|    36|2020-02-05|\n",
            "|  5|     Graça Ornellas| Ativo| Porto Alegre|    12|2020-02-05|\n",
            "|  6|   Matilde Rebouças| Ativo| Porto Alegre|    22|2019-01-05|\n",
            "|  7|    Noêmia   Orriça| Ativo|  Santa Maria|    45|2019-10-05|\n",
            "|  8|      Roque Vásquez| Ativo| Porto Alegre|    65|2020-03-05|\n",
            "|  9|      Uriel Queiroz| Ativo| Porto Alegre|    54|2018-05-05|\n",
            "| 10|   Viviana Sequeira| Ativo| Porto Alegre|     0|2020-09-05|\n",
            "+---+-------------------+------+-------------+------+----------+\n",
            "\n"
          ]
        }
      ]
    },
    {
      "cell_type": "code",
      "source": [
        "# se existe caminho fisico da tabela = externa não gerenciada\n",
        "# truncate=False -> exibe o comadno de criação\n",
        "spark.sql('show create table Despachantes').show(truncate=False)"
      ],
      "metadata": {
        "colab": {
          "base_uri": "https://localhost:8080/"
        },
        "id": "tt2_CtrI0B52",
        "outputId": "cd33fc22-caf3-4cff-fa29-b39af5eb7617"
      },
      "execution_count": null,
      "outputs": [
        {
          "output_type": "stream",
          "name": "stdout",
          "text": [
            "+-----------------------------------------------------------------------------------------------------------------------------------------------+\n",
            "|createtab_stmt                                                                                                                                 |\n",
            "+-----------------------------------------------------------------------------------------------------------------------------------------------+\n",
            "|CREATE TABLE desp.despachantes (\\n  id INT,\\n  nome STRING,\\n  status STRING,\\n  cidade STRING,\\n  vendas INT,\\n  data STRING)\\nUSING parquet\\n|\n",
            "+-----------------------------------------------------------------------------------------------------------------------------------------------+\n",
            "\n"
          ]
        }
      ]
    },
    {
      "cell_type": "code",
      "source": [
        "# mostra as tabelas do nosso banco de dados\n",
        "spark.catalog.listTables()"
      ],
      "metadata": {
        "colab": {
          "base_uri": "https://localhost:8080/"
        },
        "id": "-_fQU9Ri1UT_",
        "outputId": "a817b8f0-78e8-49c9-de78-4144f735f6f8"
      },
      "execution_count": null,
      "outputs": [
        {
          "output_type": "execute_result",
          "data": {
            "text/plain": [
              "[Table(name='despachantes', database='desp', description=None, tableType='MANAGED', isTemporary=False),\n",
              " Table(name='despachantes_ng', database='desp', description=None, tableType='EXTERNAL', isTemporary=False),\n",
              " Table(name='desspachantes_ng', database='desp', description=None, tableType='EXTERNAL', isTemporary=False)]"
            ]
          },
          "metadata": {},
          "execution_count": 44
        }
      ]
    },
    {
      "cell_type": "markdown",
      "source": [
        "#### VIEWS"
      ],
      "metadata": {
        "id": "bQ4qFAoh2mxV"
      }
    },
    {
      "cell_type": "code",
      "source": [
        "# cria uma view com a api de dataframe do spark\n",
        "despachantes.createOrReplaceTempView('despachantes_view1')"
      ],
      "metadata": {
        "id": "X9NGQP2U2U1U"
      },
      "execution_count": null,
      "outputs": []
    },
    {
      "cell_type": "code",
      "source": [
        "# consulta a view\n",
        "spark.sql('SELECT * FROM despachantes_view1').show()"
      ],
      "metadata": {
        "colab": {
          "base_uri": "https://localhost:8080/"
        },
        "id": "1VSZGMNm2_Ja",
        "outputId": "d9d8700e-4f6a-4efa-92ae-85b831e76eed"
      },
      "execution_count": null,
      "outputs": [
        {
          "output_type": "stream",
          "name": "stdout",
          "text": [
            "+---+-------------------+------+-------------+------+----------+\n",
            "| id|               nome|status|       cidade|vendas|      data|\n",
            "+---+-------------------+------+-------------+------+----------+\n",
            "|  1|   Carminda Pestana| Ativo|  Santa Maria|    23|2020-08-11|\n",
            "|  2|    Deolinda Vilela| Ativo|Novo Hamburgo|    34|2020-03-05|\n",
            "|  3|   Emídio Dornelles| Ativo| Porto Alegre|    34|2020-02-05|\n",
            "|  4|Felisbela Dornelles| Ativo| Porto Alegre|    36|2020-02-05|\n",
            "|  5|     Graça Ornellas| Ativo| Porto Alegre|    12|2020-02-05|\n",
            "|  6|   Matilde Rebouças| Ativo| Porto Alegre|    22|2019-01-05|\n",
            "|  7|    Noêmia   Orriça| Ativo|  Santa Maria|    45|2019-10-05|\n",
            "|  8|      Roque Vásquez| Ativo| Porto Alegre|    65|2020-03-05|\n",
            "|  9|      Uriel Queiroz| Ativo| Porto Alegre|    54|2018-05-05|\n",
            "| 10|   Viviana Sequeira| Ativo| Porto Alegre|     0|2020-09-05|\n",
            "+---+-------------------+------+-------------+------+----------+\n",
            "\n"
          ]
        }
      ]
    },
    {
      "cell_type": "code",
      "source": [
        "# cria uma view global\n",
        "despachantes.createOrReplaceGlobalTempView('despachantes_view2')"
      ],
      "metadata": {
        "id": "fCV-_yIK3DMz"
      },
      "execution_count": null,
      "outputs": []
    },
    {
      "cell_type": "code",
      "source": [
        "# para consultar uma view global, utiliza-se 'global_temp.nomedaview'\n",
        "spark.sql('SELECT * FROM global_temp.despachantes_view2').show()"
      ],
      "metadata": {
        "colab": {
          "base_uri": "https://localhost:8080/"
        },
        "id": "YArmKEZp3aHa",
        "outputId": "8e8b749b-bfc5-4a78-d837-7f1bb475d7ce"
      },
      "execution_count": null,
      "outputs": [
        {
          "output_type": "stream",
          "name": "stdout",
          "text": [
            "+---+-------------------+------+-------------+------+----------+\n",
            "| id|               nome|status|       cidade|vendas|      data|\n",
            "+---+-------------------+------+-------------+------+----------+\n",
            "|  1|   Carminda Pestana| Ativo|  Santa Maria|    23|2020-08-11|\n",
            "|  2|    Deolinda Vilela| Ativo|Novo Hamburgo|    34|2020-03-05|\n",
            "|  3|   Emídio Dornelles| Ativo| Porto Alegre|    34|2020-02-05|\n",
            "|  4|Felisbela Dornelles| Ativo| Porto Alegre|    36|2020-02-05|\n",
            "|  5|     Graça Ornellas| Ativo| Porto Alegre|    12|2020-02-05|\n",
            "|  6|   Matilde Rebouças| Ativo| Porto Alegre|    22|2019-01-05|\n",
            "|  7|    Noêmia   Orriça| Ativo|  Santa Maria|    45|2019-10-05|\n",
            "|  8|      Roque Vásquez| Ativo| Porto Alegre|    65|2020-03-05|\n",
            "|  9|      Uriel Queiroz| Ativo| Porto Alegre|    54|2018-05-05|\n",
            "| 10|   Viviana Sequeira| Ativo| Porto Alegre|     0|2020-09-05|\n",
            "+---+-------------------+------+-------------+------+----------+\n",
            "\n"
          ]
        }
      ]
    },
    {
      "cell_type": "markdown",
      "source": [
        "### Criando view usando clausula SQL"
      ],
      "metadata": {
        "id": "SvU7zQ0u3zrx"
      }
    },
    {
      "cell_type": "code",
      "source": [
        "spark.sql('CREATE OR REPLACE TEMP VIEW desp_view AS select * from despachantes')"
      ],
      "metadata": {
        "colab": {
          "base_uri": "https://localhost:8080/"
        },
        "id": "CCvP1SRQ3sSi",
        "outputId": "1810b81d-fad1-4c3e-8cb1-3dc403999307"
      },
      "execution_count": null,
      "outputs": [
        {
          "output_type": "execute_result",
          "data": {
            "text/plain": [
              "DataFrame[]"
            ]
          },
          "metadata": {},
          "execution_count": 54
        }
      ]
    },
    {
      "cell_type": "code",
      "source": [
        "spark.sql('SELECT * FROM desp_view').show()"
      ],
      "metadata": {
        "colab": {
          "base_uri": "https://localhost:8080/"
        },
        "id": "PzIm8O_E4AFJ",
        "outputId": "7b90d8b8-4a6f-4a1b-ca90-cb226c0f15b4"
      },
      "execution_count": null,
      "outputs": [
        {
          "output_type": "stream",
          "name": "stdout",
          "text": [
            "+---+-------------------+------+-------------+------+----------+\n",
            "| id|               nome|status|       cidade|vendas|      data|\n",
            "+---+-------------------+------+-------------+------+----------+\n",
            "|  1|   Carminda Pestana| Ativo|  Santa Maria|    23|2020-08-11|\n",
            "|  2|    Deolinda Vilela| Ativo|Novo Hamburgo|    34|2020-03-05|\n",
            "|  3|   Emídio Dornelles| Ativo| Porto Alegre|    34|2020-02-05|\n",
            "|  4|Felisbela Dornelles| Ativo| Porto Alegre|    36|2020-02-05|\n",
            "|  5|     Graça Ornellas| Ativo| Porto Alegre|    12|2020-02-05|\n",
            "|  6|   Matilde Rebouças| Ativo| Porto Alegre|    22|2019-01-05|\n",
            "|  7|    Noêmia   Orriça| Ativo|  Santa Maria|    45|2019-10-05|\n",
            "|  8|      Roque Vásquez| Ativo| Porto Alegre|    65|2020-03-05|\n",
            "|  9|      Uriel Queiroz| Ativo| Porto Alegre|    54|2018-05-05|\n",
            "| 10|   Viviana Sequeira| Ativo| Porto Alegre|     0|2020-09-05|\n",
            "+---+-------------------+------+-------------+------+----------+\n",
            "\n"
          ]
        }
      ]
    },
    {
      "cell_type": "code",
      "source": [
        "# criando uma view global utiliando sql\n",
        "spark.sql(\"\"\"CREATE OR REPLACE GLOBAL TEMP VIEW desp_view2 \n",
        "             AS select * from despachantes \"\"\"\n",
        "          )"
      ],
      "metadata": {
        "colab": {
          "base_uri": "https://localhost:8080/"
        },
        "id": "jAhXXlSy4DlU",
        "outputId": "6c14e5aa-7ca2-4cdb-f9bc-d0bebd23a54b"
      },
      "execution_count": null,
      "outputs": [
        {
          "output_type": "execute_result",
          "data": {
            "text/plain": [
              "DataFrame[]"
            ]
          },
          "metadata": {},
          "execution_count": 56
        }
      ]
    },
    {
      "cell_type": "code",
      "source": [
        "# consultando uma view global\n",
        "spark.sql('SELECT * FROM global_temp.desp_view2').show()"
      ],
      "metadata": {
        "colab": {
          "base_uri": "https://localhost:8080/"
        },
        "id": "MWhwoTWy4kuP",
        "outputId": "45d5dc93-91d1-467f-c0d4-35cac305d371"
      },
      "execution_count": null,
      "outputs": [
        {
          "output_type": "stream",
          "name": "stdout",
          "text": [
            "+---+-------------------+------+-------------+------+----------+\n",
            "| id|               nome|status|       cidade|vendas|      data|\n",
            "+---+-------------------+------+-------------+------+----------+\n",
            "|  1|   Carminda Pestana| Ativo|  Santa Maria|    23|2020-08-11|\n",
            "|  2|    Deolinda Vilela| Ativo|Novo Hamburgo|    34|2020-03-05|\n",
            "|  3|   Emídio Dornelles| Ativo| Porto Alegre|    34|2020-02-05|\n",
            "|  4|Felisbela Dornelles| Ativo| Porto Alegre|    36|2020-02-05|\n",
            "|  5|     Graça Ornellas| Ativo| Porto Alegre|    12|2020-02-05|\n",
            "|  6|   Matilde Rebouças| Ativo| Porto Alegre|    22|2019-01-05|\n",
            "|  7|    Noêmia   Orriça| Ativo|  Santa Maria|    45|2019-10-05|\n",
            "|  8|      Roque Vásquez| Ativo| Porto Alegre|    65|2020-03-05|\n",
            "|  9|      Uriel Queiroz| Ativo| Porto Alegre|    54|2018-05-05|\n",
            "| 10|   Viviana Sequeira| Ativo| Porto Alegre|     0|2020-09-05|\n",
            "+---+-------------------+------+-------------+------+----------+\n",
            "\n"
          ]
        }
      ]
    },
    {
      "cell_type": "markdown",
      "source": [
        "### Comparando DataFrame com Tabelas SQL"
      ],
      "metadata": {
        "id": "uCuMIX2b49i5"
      }
    },
    {
      "cell_type": "code",
      "source": [
        "from pyspark.sql import functions\n",
        "from pyspark.sql.functions import *"
      ],
      "metadata": {
        "id": "mF7VM-lg4qQ1"
      },
      "execution_count": null,
      "outputs": []
    },
    {
      "cell_type": "code",
      "source": [
        "spark.sql('SELECT * FROM despachantes').show()"
      ],
      "metadata": {
        "colab": {
          "base_uri": "https://localhost:8080/"
        },
        "id": "P79JeyAt5YiM",
        "outputId": "60f8b8e6-3159-4fe5-e956-0863d60db5a8"
      },
      "execution_count": null,
      "outputs": [
        {
          "output_type": "stream",
          "name": "stdout",
          "text": [
            "+---+-------------------+------+-------------+------+----------+\n",
            "| id|               nome|status|       cidade|vendas|      data|\n",
            "+---+-------------------+------+-------------+------+----------+\n",
            "|  1|   Carminda Pestana| Ativo|  Santa Maria|    23|2020-08-11|\n",
            "|  2|    Deolinda Vilela| Ativo|Novo Hamburgo|    34|2020-03-05|\n",
            "|  3|   Emídio Dornelles| Ativo| Porto Alegre|    34|2020-02-05|\n",
            "|  4|Felisbela Dornelles| Ativo| Porto Alegre|    36|2020-02-05|\n",
            "|  5|     Graça Ornellas| Ativo| Porto Alegre|    12|2020-02-05|\n",
            "|  6|   Matilde Rebouças| Ativo| Porto Alegre|    22|2019-01-05|\n",
            "|  7|    Noêmia   Orriça| Ativo|  Santa Maria|    45|2019-10-05|\n",
            "|  8|      Roque Vásquez| Ativo| Porto Alegre|    65|2020-03-05|\n",
            "|  9|      Uriel Queiroz| Ativo| Porto Alegre|    54|2018-05-05|\n",
            "| 10|   Viviana Sequeira| Ativo| Porto Alegre|     0|2020-09-05|\n",
            "+---+-------------------+------+-------------+------+----------+\n",
            "\n"
          ]
        }
      ]
    },
    {
      "cell_type": "code",
      "source": [
        "# selecionando nome e vendas com spark sql\n",
        "spark.sql('SELECT nome, vendas FROM despachantes').show()"
      ],
      "metadata": {
        "colab": {
          "base_uri": "https://localhost:8080/"
        },
        "id": "yydfZ5M05bU5",
        "outputId": "15a8f15e-b4a3-4036-c990-45f8a033fc4a"
      },
      "execution_count": null,
      "outputs": [
        {
          "output_type": "stream",
          "name": "stdout",
          "text": [
            "+-------------------+------+\n",
            "|               nome|vendas|\n",
            "+-------------------+------+\n",
            "|   Carminda Pestana|    23|\n",
            "|    Deolinda Vilela|    34|\n",
            "|   Emídio Dornelles|    34|\n",
            "|Felisbela Dornelles|    36|\n",
            "|     Graça Ornellas|    12|\n",
            "|   Matilde Rebouças|    22|\n",
            "|    Noêmia   Orriça|    45|\n",
            "|      Roque Vásquez|    65|\n",
            "|      Uriel Queiroz|    54|\n",
            "|   Viviana Sequeira|     0|\n",
            "+-------------------+------+\n",
            "\n"
          ]
        }
      ]
    },
    {
      "cell_type": "code",
      "source": [
        "# selecionando nome e vendas com spark df\n",
        "despachantes.select('nome', 'vendas').show()"
      ],
      "metadata": {
        "colab": {
          "base_uri": "https://localhost:8080/"
        },
        "id": "AyzXGB2w5p3B",
        "outputId": "b8454871-b022-4d7c-b053-aa43bf5c6999"
      },
      "execution_count": null,
      "outputs": [
        {
          "output_type": "stream",
          "name": "stdout",
          "text": [
            "+-------------------+------+\n",
            "|               nome|vendas|\n",
            "+-------------------+------+\n",
            "|   Carminda Pestana|    23|\n",
            "|    Deolinda Vilela|    34|\n",
            "|   Emídio Dornelles|    34|\n",
            "|Felisbela Dornelles|    36|\n",
            "|     Graça Ornellas|    12|\n",
            "|   Matilde Rebouças|    22|\n",
            "|    Noêmia   Orriça|    45|\n",
            "|      Roque Vásquez|    65|\n",
            "|      Uriel Queiroz|    54|\n",
            "|   Viviana Sequeira|     0|\n",
            "+-------------------+------+\n",
            "\n"
          ]
        }
      ]
    },
    {
      "cell_type": "code",
      "source": [
        "# limitando as linhas com spark sql\n",
        "spark.sql('SELECT nome, vendas FROM despachantes WHERE vendas > 20').show()\n"
      ],
      "metadata": {
        "colab": {
          "base_uri": "https://localhost:8080/"
        },
        "id": "CklskSxd51of",
        "outputId": "c5e99203-f741-4e92-900f-2db4527a934e"
      },
      "execution_count": null,
      "outputs": [
        {
          "output_type": "stream",
          "name": "stdout",
          "text": [
            "+-------------------+------+\n",
            "|               nome|vendas|\n",
            "+-------------------+------+\n",
            "|   Carminda Pestana|    23|\n",
            "|    Deolinda Vilela|    34|\n",
            "|   Emídio Dornelles|    34|\n",
            "|Felisbela Dornelles|    36|\n",
            "|   Matilde Rebouças|    22|\n",
            "|    Noêmia   Orriça|    45|\n",
            "|      Roque Vásquez|    65|\n",
            "|      Uriel Queiroz|    54|\n",
            "+-------------------+------+\n",
            "\n"
          ]
        }
      ]
    },
    {
      "cell_type": "code",
      "source": [
        "# limitando as linhas com spark df\n",
        "despachantes.select('nome', 'vendas').where(col('vendas') > 20).show()"
      ],
      "metadata": {
        "colab": {
          "base_uri": "https://localhost:8080/"
        },
        "id": "ksGFaxGR6IZY",
        "outputId": "60cfc260-b035-4b95-d5ab-7e7cae783521"
      },
      "execution_count": null,
      "outputs": [
        {
          "output_type": "stream",
          "name": "stdout",
          "text": [
            "+-------------------+------+\n",
            "|               nome|vendas|\n",
            "+-------------------+------+\n",
            "|   Carminda Pestana|    23|\n",
            "|    Deolinda Vilela|    34|\n",
            "|   Emídio Dornelles|    34|\n",
            "|Felisbela Dornelles|    36|\n",
            "|   Matilde Rebouças|    22|\n",
            "|    Noêmia   Orriça|    45|\n",
            "|      Roque Vásquez|    65|\n",
            "|      Uriel Queiroz|    54|\n",
            "+-------------------+------+\n",
            "\n"
          ]
        }
      ]
    },
    {
      "cell_type": "code",
      "source": [
        "# total de vendas por cidades com spark sql\n",
        "# spark.sql('SELECT * FROM despachantes').show()\n",
        "spark.sql(\"\"\"\n",
        "          SELECT cidade, SUM(vendas) AS qtd_vendas\n",
        "          FROM despachantes\n",
        "          GROUP BY cidade\n",
        "          ORDER BY SUM(vendas) DESC\n",
        "          \"\"\"\n",
        "          ).show()"
      ],
      "metadata": {
        "colab": {
          "base_uri": "https://localhost:8080/"
        },
        "id": "xeAtkKDC6YM2",
        "outputId": "d5ae7acf-dc80-4f58-f1bf-b7aa91120753"
      },
      "execution_count": null,
      "outputs": [
        {
          "output_type": "stream",
          "name": "stdout",
          "text": [
            "+-------------+----------+\n",
            "|       cidade|qtd_vendas|\n",
            "+-------------+----------+\n",
            "| Porto Alegre|       223|\n",
            "|  Santa Maria|        68|\n",
            "|Novo Hamburgo|        34|\n",
            "+-------------+----------+\n",
            "\n"
          ]
        }
      ]
    },
    {
      "cell_type": "code",
      "source": [
        "# total de vendas por cidades com spark df\n",
        "despachantes.groupby('cidade')\\\n",
        "            .agg(sum('vendas'))\\\n",
        "            .orderBy(col('sum(vendas)')\\\n",
        "            .desc())\\\n",
        "            .show()"
      ],
      "metadata": {
        "colab": {
          "base_uri": "https://localhost:8080/"
        },
        "id": "s_UACKld7Ykn",
        "outputId": "ec8d830c-7b4c-43a8-f7ef-c544cdd0b33c"
      },
      "execution_count": null,
      "outputs": [
        {
          "output_type": "stream",
          "name": "stdout",
          "text": [
            "+-------------+-----------+\n",
            "|       cidade|sum(vendas)|\n",
            "+-------------+-----------+\n",
            "| Porto Alegre|        223|\n",
            "|  Santa Maria|         68|\n",
            "|Novo Hamburgo|         34|\n",
            "+-------------+-----------+\n",
            "\n"
          ]
        }
      ]
    },
    {
      "cell_type": "code",
      "source": [
        "# api df = consultando objeto temporario\n",
        "# spark sql = consultando uma tabela do spark sql"
      ],
      "metadata": {
        "id": "HzMDT9nc840L"
      },
      "execution_count": null,
      "outputs": []
    },
    {
      "cell_type": "markdown",
      "source": [
        "### joins"
      ],
      "metadata": {
        "id": "grYcwXIB-0a3"
      }
    },
    {
      "cell_type": "code",
      "source": [
        "# criando o schema reclamacoes\n",
        "recschema = \"\"\"\n",
        "            idred INT,\n",
        "            datarec STRING,\n",
        "            iddesp INT\n",
        "            \"\"\""
      ],
      "metadata": {
        "id": "QRDKfTZX-1R3"
      },
      "execution_count": null,
      "outputs": []
    },
    {
      "cell_type": "code",
      "source": [
        "# criando o dataframe\n",
        "reclamacoes = spark.read.csv('/content/reclamacoes.csv', header=False, schema=recschema)"
      ],
      "metadata": {
        "id": "PEWp1HzL_I1M"
      },
      "execution_count": null,
      "outputs": []
    },
    {
      "cell_type": "code",
      "source": [
        "reclamacoes.show()"
      ],
      "metadata": {
        "colab": {
          "base_uri": "https://localhost:8080/"
        },
        "id": "_PV5X7cF_V4n",
        "outputId": "868d8a8f-eac7-41cb-f367-38c683d6840e"
      },
      "execution_count": null,
      "outputs": [
        {
          "output_type": "stream",
          "name": "stdout",
          "text": [
            "+-----+----------+------+\n",
            "|idred|   datarec|iddesp|\n",
            "+-----+----------+------+\n",
            "|    1|2020-09-12|     2|\n",
            "|    2|2020-09-11|     2|\n",
            "|    3|2020-10-05|     4|\n",
            "|    4|2020-10-02|     5|\n",
            "|    5|2020-12-06|     5|\n",
            "|    6|2020-01-09|     5|\n",
            "|    7|2020-01-05|     9|\n",
            "+-----+----------+------+\n",
            "\n"
          ]
        }
      ]
    },
    {
      "cell_type": "code",
      "source": [
        "# criando a tabela no banco de dados\n",
        "reclamacoes.write.saveAsTable('reclamacoes')"
      ],
      "metadata": {
        "id": "TElOwj8-_XgM"
      },
      "execution_count": null,
      "outputs": []
    },
    {
      "cell_type": "markdown",
      "source": [
        "#### inner join"
      ],
      "metadata": {
        "id": "ZfZLVtjHEcch"
      }
    },
    {
      "cell_type": "code",
      "source": [
        "# join com spark sql\n",
        "spark.sql(\"\"\" \n",
        "          SELECT rec.*, desp.id, desp.nome \n",
        "          FROM despachantes AS desp\n",
        "          INNER JOIN reclamacoes AS rec\n",
        "            ON desp.id = rec.iddesp\n",
        "          \"\"\").show()"
      ],
      "metadata": {
        "colab": {
          "base_uri": "https://localhost:8080/"
        },
        "id": "lxj7iF7BAJNK",
        "outputId": "33d2e0ef-2ef5-4f61-b804-f4d408363e79"
      },
      "execution_count": null,
      "outputs": [
        {
          "output_type": "stream",
          "name": "stdout",
          "text": [
            "+-----+----------+------+---+-------------------+\n",
            "|idred|   datarec|iddesp| id|               nome|\n",
            "+-----+----------+------+---+-------------------+\n",
            "|    1|2020-09-12|     2|  2|    Deolinda Vilela|\n",
            "|    2|2020-09-11|     2|  2|    Deolinda Vilela|\n",
            "|    3|2020-10-05|     4|  4|Felisbela Dornelles|\n",
            "|    4|2020-10-02|     5|  5|     Graça Ornellas|\n",
            "|    5|2020-12-06|     5|  5|     Graça Ornellas|\n",
            "|    6|2020-01-09|     5|  5|     Graça Ornellas|\n",
            "|    7|2020-01-05|     9|  9|      Uriel Queiroz|\n",
            "+-----+----------+------+---+-------------------+\n",
            "\n"
          ]
        }
      ]
    },
    {
      "cell_type": "code",
      "source": [
        "# join com spark df\n",
        "despachantes.join(reclamacoes, despachantes.id == reclamacoes.iddesp, 'inner')\\\n",
        "            .select('idred', 'datarec', 'iddesp', 'id', 'nome')\\\n",
        "            .orderBy('idred').show()"
      ],
      "metadata": {
        "colab": {
          "base_uri": "https://localhost:8080/"
        },
        "id": "K4hR_G0eAlOB",
        "outputId": "1791b354-2fd7-4e27-95da-543b926fb99d"
      },
      "execution_count": null,
      "outputs": [
        {
          "output_type": "stream",
          "name": "stdout",
          "text": [
            "+-----+----------+------+---+-------------------+\n",
            "|idred|   datarec|iddesp| id|               nome|\n",
            "+-----+----------+------+---+-------------------+\n",
            "|    1|2020-09-12|     2|  2|    Deolinda Vilela|\n",
            "|    2|2020-09-11|     2|  2|    Deolinda Vilela|\n",
            "|    3|2020-10-05|     4|  4|Felisbela Dornelles|\n",
            "|    4|2020-10-02|     5|  5|     Graça Ornellas|\n",
            "|    5|2020-12-06|     5|  5|     Graça Ornellas|\n",
            "|    6|2020-01-09|     5|  5|     Graça Ornellas|\n",
            "|    7|2020-01-05|     9|  9|      Uriel Queiroz|\n",
            "+-----+----------+------+---+-------------------+\n",
            "\n"
          ]
        }
      ]
    },
    {
      "cell_type": "markdown",
      "source": [
        "#### right join"
      ],
      "metadata": {
        "id": "3ruslO_bEflM"
      }
    },
    {
      "cell_type": "code",
      "source": [
        "# right join com spark sql\n",
        "spark.sql(\"\"\" \n",
        "          SELECT rec.*, desp.id, desp.nome\n",
        "          FROM despachantes AS desp\n",
        "          LEFT JOIN reclamacoes AS rec\n",
        "            ON desp.id = rec.iddesp\n",
        "         \"\"\").show()"
      ],
      "metadata": {
        "colab": {
          "base_uri": "https://localhost:8080/"
        },
        "id": "-mJNlah0GjSa",
        "outputId": "8409b670-71a2-45f9-b01d-39de6397a3bb"
      },
      "execution_count": null,
      "outputs": [
        {
          "output_type": "stream",
          "name": "stdout",
          "text": [
            "+-----+----------+------+---+-------------------+\n",
            "|idred|   datarec|iddesp| id|               nome|\n",
            "+-----+----------+------+---+-------------------+\n",
            "| null|      null|  null|  1|   Carminda Pestana|\n",
            "|    2|2020-09-11|     2|  2|    Deolinda Vilela|\n",
            "|    1|2020-09-12|     2|  2|    Deolinda Vilela|\n",
            "| null|      null|  null|  3|   Emídio Dornelles|\n",
            "|    3|2020-10-05|     4|  4|Felisbela Dornelles|\n",
            "|    6|2020-01-09|     5|  5|     Graça Ornellas|\n",
            "|    5|2020-12-06|     5|  5|     Graça Ornellas|\n",
            "|    4|2020-10-02|     5|  5|     Graça Ornellas|\n",
            "| null|      null|  null|  6|   Matilde Rebouças|\n",
            "| null|      null|  null|  7|    Noêmia   Orriça|\n",
            "| null|      null|  null|  8|      Roque Vásquez|\n",
            "|    7|2020-01-05|     9|  9|      Uriel Queiroz|\n",
            "| null|      null|  null| 10|   Viviana Sequeira|\n",
            "+-----+----------+------+---+-------------------+\n",
            "\n"
          ]
        }
      ]
    },
    {
      "cell_type": "code",
      "source": [
        "# right join com spark df\n",
        "despachantes.join(reclamacoes, despachantes.id == reclamacoes.iddesp, 'left').select('idred', 'datarec', 'iddesp', 'id', 'nome').show()"
      ],
      "metadata": {
        "colab": {
          "base_uri": "https://localhost:8080/"
        },
        "id": "ka9Ykl9aBxY-",
        "outputId": "006794e5-df55-46bc-ae0c-b91657f2feed"
      },
      "execution_count": null,
      "outputs": [
        {
          "output_type": "stream",
          "name": "stdout",
          "text": [
            "+-----+----------+------+---+-------------------+\n",
            "|idred|   datarec|iddesp| id|               nome|\n",
            "+-----+----------+------+---+-------------------+\n",
            "| null|      null|  null|  1|   Carminda Pestana|\n",
            "|    2|2020-09-11|     2|  2|    Deolinda Vilela|\n",
            "|    1|2020-09-12|     2|  2|    Deolinda Vilela|\n",
            "| null|      null|  null|  3|   Emídio Dornelles|\n",
            "|    3|2020-10-05|     4|  4|Felisbela Dornelles|\n",
            "|    6|2020-01-09|     5|  5|     Graça Ornellas|\n",
            "|    5|2020-12-06|     5|  5|     Graça Ornellas|\n",
            "|    4|2020-10-02|     5|  5|     Graça Ornellas|\n",
            "| null|      null|  null|  6|   Matilde Rebouças|\n",
            "| null|      null|  null|  7|    Noêmia   Orriça|\n",
            "| null|      null|  null|  8|      Roque Vásquez|\n",
            "|    7|2020-01-05|     9|  9|      Uriel Queiroz|\n",
            "| null|      null|  null| 10|   Viviana Sequeira|\n",
            "+-----+----------+------+---+-------------------+\n",
            "\n"
          ]
        }
      ]
    }
  ]
}