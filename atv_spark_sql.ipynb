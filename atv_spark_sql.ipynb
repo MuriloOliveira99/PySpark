{
  "nbformat": 4,
  "nbformat_minor": 0,
  "metadata": {
    "colab": {
      "provenance": []
    },
    "kernelspec": {
      "name": "python3",
      "display_name": "Python 3"
    },
    "language_info": {
      "name": "python"
    }
  },
  "cells": [
    {
      "cell_type": "code",
      "execution_count": null,
      "metadata": {
        "colab": {
          "base_uri": "https://localhost:8080/"
        },
        "id": "RTo6_N8LKNoA",
        "outputId": "4afe3c95-1356-4b9e-d945-f530fe7ea0e3"
      },
      "outputs": [
        {
          "output_type": "stream",
          "name": "stdout",
          "text": [
            "Looking in indexes: https://pypi.org/simple, https://us-python.pkg.dev/colab-wheels/public/simple/\n",
            "Collecting spark\n",
            "  Downloading spark-0.2.1.tar.gz (41 kB)\n",
            "Building wheels for collected packages: spark\n",
            "  Building wheel for spark (setup.py): started\n",
            "  Building wheel for spark (setup.py): finished with status 'done'\n",
            "  Created wheel for spark: filename=spark-0.2.1-py3-none-any.whl size=58762 sha256=092ce85ba9a3c3bf1a7d0b5263bdcb9adb6a5bff9947407bace385343f4c0625\n",
            "  Stored in directory: /root/.cache/pip/wheels/4e/0e/f1/164619f9920fb447d294afaae11a7715bd442ded7225953d72\n",
            "Successfully built spark\n",
            "Installing collected packages: spark\n",
            "Successfully installed spark-0.2.1\n",
            "Looking in indexes: https://pypi.org/simple, https://us-python.pkg.dev/colab-wheels/public/simple/\n",
            "Collecting pyspark\n",
            "  Downloading pyspark-3.3.0.tar.gz (281.3 MB)\n",
            "Collecting py4j==0.10.9.5\n",
            "  Downloading py4j-0.10.9.5-py2.py3-none-any.whl (199 kB)\n",
            "Building wheels for collected packages: pyspark\n",
            "  Building wheel for pyspark (setup.py): started\n",
            "  Building wheel for pyspark (setup.py): finished with status 'done'\n",
            "  Created wheel for pyspark: filename=pyspark-3.3.0-py2.py3-none-any.whl size=281764026 sha256=c38c98b28083233becf8966d43766090661db66056ae3a99b86e634dd1c96b3e\n",
            "  Stored in directory: /root/.cache/pip/wheels/7a/8e/1b/f73a52650d2e5f337708d9f6a1750d451a7349a867f928b885\n",
            "Successfully built pyspark\n",
            "Installing collected packages: py4j, pyspark\n",
            "Successfully installed py4j-0.10.9.5 pyspark-3.3.0\n"
          ]
        }
      ],
      "source": [
        "%%sh\n",
        "sudo pip install spark\n",
        "sudo pip install pyspark"
      ]
    },
    {
      "cell_type": "code",
      "source": [
        "import pyspark\n",
        "from pyspark.sql import SparkSession\n",
        "from pyspark.sql.functions import *\n",
        "from pyspark.sql import functions\n",
        "from pyspark.sql.functions import *"
      ],
      "metadata": {
        "id": "Os4yrBxBKgjM"
      },
      "execution_count": null,
      "outputs": []
    },
    {
      "cell_type": "code",
      "source": [
        "spark = SparkSession.builder.appName('atv_sparksql').getOrCreate()"
      ],
      "metadata": {
        "id": "4_SjCdwSKjeL"
      },
      "execution_count": null,
      "outputs": []
    },
    {
      "cell_type": "markdown",
      "source": [
        "#### 1. Crie um banco de dados no dw do Spark chamado VendasVarejo, e persista todas as tabelas neste banco de dados."
      ],
      "metadata": {
        "id": "TVQiVB0hOV9t"
      }
    },
    {
      "cell_type": "code",
      "source": [
        "# Criando o banco de dados\n",
        "spark.sql('CREATE DATABASE VendasVarejo')"
      ],
      "metadata": {
        "colab": {
          "base_uri": "https://localhost:8080/"
        },
        "id": "q-FHV0WhKmM9",
        "outputId": "e0419819-80a4-4fcf-8595-11e3a66ec0d7"
      },
      "execution_count": null,
      "outputs": [
        {
          "output_type": "execute_result",
          "data": {
            "text/plain": [
              "DataFrame[]"
            ]
          },
          "metadata": {},
          "execution_count": 53
        }
      ]
    },
    {
      "cell_type": "code",
      "source": [
        "# Visualizando todos os bancos de dados\n",
        "spark.sql('SHOW DATABASES').show()"
      ],
      "metadata": {
        "colab": {
          "base_uri": "https://localhost:8080/"
        },
        "id": "C6nXyhCiQNNJ",
        "outputId": "9f95e4db-cf9f-4fce-c068-608e19a4ba98"
      },
      "execution_count": null,
      "outputs": [
        {
          "output_type": "stream",
          "name": "stdout",
          "text": [
            "+------------+\n",
            "|   namespace|\n",
            "+------------+\n",
            "|     default|\n",
            "|vendasvarejo|\n",
            "+------------+\n",
            "\n"
          ]
        }
      ]
    },
    {
      "cell_type": "code",
      "source": [
        "# Conectando no banco de dados\n",
        "spark.sql('USE VendasVarejo')"
      ],
      "metadata": {
        "colab": {
          "base_uri": "https://localhost:8080/"
        },
        "id": "g9bv6ibTQTBh",
        "outputId": "366e3596-af88-4849-ec61-8dbb281dd268"
      },
      "execution_count": null,
      "outputs": [
        {
          "output_type": "execute_result",
          "data": {
            "text/plain": [
              "DataFrame[]"
            ]
          },
          "metadata": {},
          "execution_count": 55
        }
      ]
    },
    {
      "cell_type": "code",
      "source": [
        "# importando a base de dados clientes\n",
        "clientes = spark.read.parquet('/content/Clientes.parquet')\n",
        "clientes.show(5)"
      ],
      "metadata": {
        "colab": {
          "base_uri": "https://localhost:8080/"
        },
        "id": "HdmDAQfwUqyo",
        "outputId": "7982c3d2-f5c7-4261-e52b-d204c335a0a3"
      },
      "execution_count": null,
      "outputs": [
        {
          "output_type": "stream",
          "name": "stdout",
          "text": [
            "+---------+--------------------+------+------+--------+\n",
            "|ClienteID|             Cliente|Estado|Genero|  Status|\n",
            "+---------+--------------------+------+------+--------+\n",
            "|        1|Adelina Buenaventura|    RJ|     M|  Silver|\n",
            "|        2|        Adelino Gago|    RJ|     M|  Silver|\n",
            "|        3|     Adolfo Patrício|    PE|     M|  Silver|\n",
            "|        4|    Adriana Guedelha|    RO|     F|Platinum|\n",
            "|        5|       Adélio Lisboa|    SE|     M|  Silver|\n",
            "+---------+--------------------+------+------+--------+\n",
            "only showing top 5 rows\n",
            "\n"
          ]
        }
      ]
    },
    {
      "cell_type": "code",
      "source": [
        "vendas = spark.read.parquet('/content/Vendas.parquet')\n",
        "vendas.show(5)"
      ],
      "metadata": {
        "colab": {
          "base_uri": "https://localhost:8080/"
        },
        "id": "dZBLQQZLWWHm",
        "outputId": "25be6bd5-8c5c-4625-afe8-e8e95fd66876"
      },
      "execution_count": null,
      "outputs": [
        {
          "output_type": "stream",
          "name": "stdout",
          "text": [
            "+--------+----------+---------+--------+--------+\n",
            "|VendasID|VendedorID|ClienteID|    Data|   Total|\n",
            "+--------+----------+---------+--------+--------+\n",
            "|       1|         1|       91|1/1/2019|  8053.6|\n",
            "|       2|         6|      185|1/1/2020|   150.4|\n",
            "|       3|         7|       31|2/1/2020|  6087.0|\n",
            "|       4|         5|       31|2/1/2019| 13828.6|\n",
            "|       5|         5|       31|3/1/2018|26096.66|\n",
            "+--------+----------+---------+--------+--------+\n",
            "only showing top 5 rows\n",
            "\n"
          ]
        }
      ]
    },
    {
      "cell_type": "code",
      "source": [
        "itensVenda = spark.read.parquet('/content/ItensVendas.parquet')\n",
        "itensVenda.show(5)"
      ],
      "metadata": {
        "colab": {
          "base_uri": "https://localhost:8080/"
        },
        "id": "4ON43hWXW-mU",
        "outputId": "cec20c94-a270-4ed6-c030-9b58af18698d"
      },
      "execution_count": null,
      "outputs": [
        {
          "output_type": "stream",
          "name": "stdout",
          "text": [
            "+---------+--------+----------+-------------+----------+--------+----------------+\n",
            "|ProdutoID|VendasID|Quantidade|ValorUnitario|ValorTotal|Desconto|TotalComDesconto|\n",
            "+---------+--------+----------+-------------+----------+--------+----------------+\n",
            "|        2|     400|         2|       9201.0|   18402.0| 6256,68|        12145.32|\n",
            "|        2|     385|         2|       9201.0|   18402.0| 5704,62|        12697.38|\n",
            "|        4|     395|         2|       6892.2|   13784.4| 5100,23|         8684.17|\n",
            "|        4|     367|         2|       6509.3|   13018.6| 4816,88|         8201.72|\n",
            "|        2|     380|         2|      7038.77|  14077.54| 4364,04|          9713.5|\n",
            "+---------+--------+----------+-------------+----------+--------+----------------+\n",
            "only showing top 5 rows\n",
            "\n"
          ]
        }
      ]
    },
    {
      "cell_type": "code",
      "source": [
        "produtos = spark.read.parquet('/content/Produtos.parquet')\n",
        "produtos.show(5)"
      ],
      "metadata": {
        "colab": {
          "base_uri": "https://localhost:8080/"
        },
        "id": "eR37WImTXK1E",
        "outputId": "4759c681-33bf-4797-ccba-31939debb12e"
      },
      "execution_count": null,
      "outputs": [
        {
          "output_type": "stream",
          "name": "stdout",
          "text": [
            "+---------+--------------------+---------+\n",
            "|ProdutoID|             Produto|    Preco|\n",
            "+---------+--------------------+---------+\n",
            "|        1|Bicicleta Aro 29 ...|8.852,00 |\n",
            "|        2|Bicicleta Altools...|9.201,00 |\n",
            "|        3|Bicicleta Gts Adv...|4.255,00 |\n",
            "|        4|Bicicleta Trinc C...|7.658,00 |\n",
            "|        5|Bicicleta Gometws...|2.966,00 |\n",
            "+---------+--------------------+---------+\n",
            "only showing top 5 rows\n",
            "\n"
          ]
        }
      ]
    },
    {
      "cell_type": "code",
      "source": [
        "vendedores = spark.read.parquet('/content/Vendedores.parquet')\n",
        "vendedores.show()"
      ],
      "metadata": {
        "colab": {
          "base_uri": "https://localhost:8080/"
        },
        "id": "bKx9aB68Xg5U",
        "outputId": "bd3f67d0-a01f-4a18-9fb3-58fb97c7535d"
      },
      "execution_count": null,
      "outputs": [
        {
          "output_type": "stream",
          "name": "stdout",
          "text": [
            "+----------+----------------+\n",
            "|VendedorID|        Vendedor|\n",
            "+----------+----------------+\n",
            "|         1|    Armando Lago|\n",
            "|         2|Capitolino Bahía|\n",
            "|         3|   Daniel Pirajá|\n",
            "|         4| Godo Capiperibe|\n",
            "|         5|  Hélio Liberato|\n",
            "|         6|   Iberê Lacerda|\n",
            "|         7|Jéssica Castelão|\n",
            "|         8| Napoleão Méndez|\n",
            "|         9|    Simão Rivero|\n",
            "|        10|  Tobias Furtado|\n",
            "+----------+----------------+\n",
            "\n"
          ]
        }
      ]
    },
    {
      "cell_type": "code",
      "source": [
        "# Transformando os df em tabelas\n",
        "clientes.write.saveAsTable('clientes')\n",
        "vendas.write.saveAsTable('vendas')\n",
        "itensVenda.write.saveAsTable('itensVenda')\n",
        "produtos.write.saveAsTable('produtos')\n",
        "vendedores.write.saveAsTable('vendedores')\n"
      ],
      "metadata": {
        "id": "eX9wcAKRYBzd"
      },
      "execution_count": null,
      "outputs": []
    },
    {
      "cell_type": "code",
      "source": [
        "spark.sql('show tables').show()"
      ],
      "metadata": {
        "colab": {
          "base_uri": "https://localhost:8080/"
        },
        "id": "tmeVqg0kbZcA",
        "outputId": "f1432ff1-a8c4-4569-9b69-d41de5035b36"
      },
      "execution_count": null,
      "outputs": [
        {
          "output_type": "stream",
          "name": "stdout",
          "text": [
            "+------------+----------+-----------+\n",
            "|   namespace| tableName|isTemporary|\n",
            "+------------+----------+-----------+\n",
            "|vendasvarejo|  clientes|      false|\n",
            "|vendasvarejo|itensvenda|      false|\n",
            "|vendasvarejo|  produtos|      false|\n",
            "|vendasvarejo|    vendas|      false|\n",
            "|vendasvarejo|vendedores|      false|\n",
            "+------------+----------+-----------+\n",
            "\n"
          ]
        }
      ]
    },
    {
      "cell_type": "markdown",
      "source": [
        "#### 2. Crie uma consulta que mostre de cada item vendido:<br>\n",
        "<ul>\n",
        "  <li>Nome do Cliente</li>\n",
        "  <li>Data da Venda</li>\n",
        "  <li>Produto</li>\n",
        "  <li>Vendedor</li>\n",
        "  <li>Valor Total do item</li>\n",
        "<ul>"
      ],
      "metadata": {
        "id": "5cx3uX9MOghp"
      }
    },
    {
      "cell_type": "code",
      "source": [
        "spark.sql(\"\"\"\n",
        "          SELECT cli.Cliente,\n",
        "                vd.Data,\n",
        "                prod.Produto,\n",
        "                vend.Vendedor,\n",
        "                iv.ValorTotal\n",
        "          FROM Vendas AS vd\n",
        "          INNER JOIN Clientes AS cli\n",
        "            ON (vd.ClienteID = cli.ClienteID)\n",
        "          INNER JOIN ItensVenda AS iv\n",
        "            ON (vd.VendasID = iv.VendasID)\n",
        "          INNER JOIN Produtos AS prod\n",
        "            ON (iv.ProdutoID = prod.ProdutoID)\n",
        "          INNER JOIN Vendedores AS vend\n",
        "            ON (vd.VendedorID = vend.VendedorID)  \n",
        "         \"\"\").show()"
      ],
      "metadata": {
        "colab": {
          "base_uri": "https://localhost:8080/"
        },
        "id": "EUczyBNMcpkk",
        "outputId": "a4024e99-be84-46c6-d06d-50e4dccd0e81"
      },
      "execution_count": null,
      "outputs": [
        {
          "output_type": "stream",
          "name": "stdout",
          "text": [
            "+-----------------+--------+--------------------+----------------+----------+\n",
            "|          Cliente|    Data|             Produto|        Vendedor|ValorTotal|\n",
            "+-----------------+--------+--------------------+----------------+----------+\n",
            "|   Cosme Zambujal|1/1/2019|Bicicleta Altools...|    Armando Lago|   7820.85|\n",
            "|   Cosme Zambujal|1/1/2019|Bermuda Predactor...|    Armando Lago|     97.75|\n",
            "|   Cosme Zambujal|1/1/2019|Camiseta Predacto...|    Armando Lago|     135.0|\n",
            "|Gertrudes Hidalgo|1/1/2020|Luva De Ciclismo ...|   Iberê Lacerda|     150.4|\n",
            "| Antão Corte-Real|2/1/2020|Capacete Gometws ...|Jéssica Castelão|     155.0|\n",
            "| Antão Corte-Real|2/1/2020|Bicicleta Gometws...|Jéssica Castelão|    5932.0|\n",
            "| Antão Corte-Real|2/1/2019|Bicicleta Altools...|  Hélio Liberato|   7820.85|\n",
            "| Antão Corte-Real|2/1/2019|Bermuda Predactor...|  Hélio Liberato|     97.75|\n",
            "| Antão Corte-Real|2/1/2019|Bicicleta Gometws...|  Hélio Liberato|    5910.0|\n",
            "| Antão Corte-Real|3/1/2018|Bicicleta Gometws...|  Hélio Liberato|    2955.0|\n",
            "| Antão Corte-Real|3/1/2018|Bicicleta Trinc C...|  Hélio Liberato|    7658.0|\n",
            "| Antão Corte-Real|3/1/2018|Bicicleta Aro 29 ...|  Hélio Liberato|    8852.0|\n",
            "| Antão Corte-Real|3/1/2018|Camiseta Predacto...|  Hélio Liberato|     121.5|\n",
            "| Antão Corte-Real|3/1/2018|Bicicleta Gts Adv...|  Hélio Liberato|   6510.16|\n",
            "| Antão Corte-Real|4/1/2020|Bicicleta Altools...|  Hélio Liberato|   18402.0|\n",
            "| Antão Corte-Real|6/1/2019|Bicicleta Aro 29 ...|  Hélio Liberato|    7524.2|\n",
            "|Gertrudes Infante|6/1/2019|Luva De Ciclismo ...|  Hélio Liberato|     376.0|\n",
            "|Gertrudes Infante|6/1/2019|Bicicleta Gts Adv...|  Hélio Liberato|   3616.75|\n",
            "|Gertrudes Infante|6/1/2019|Camiseta Predacto...|  Hélio Liberato|     108.0|\n",
            "|Gertrudes Infante|6/1/2019|Bermuda Predactor...|  Hélio Liberato|     115.0|\n",
            "+-----------------+--------+--------------------+----------------+----------+\n",
            "only showing top 20 rows\n",
            "\n"
          ]
        }
      ]
    }
  ]
}