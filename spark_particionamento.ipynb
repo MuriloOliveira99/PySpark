{
  "nbformat": 4,
  "nbformat_minor": 0,
  "metadata": {
    "colab": {
      "provenance": [],
      "collapsed_sections": []
    },
    "kernelspec": {
      "name": "python3",
      "display_name": "Python 3"
    },
    "language_info": {
      "name": "python"
    }
  },
  "cells": [
    {
      "cell_type": "markdown",
      "source": [
        "# Spark\n",
        "  - Processa dados em memória\n",
        "  - Opera em Cluster\n",
        "  - Particionamento (divisão de dados)\n",
        "  - Paralelismo\n",
        "  - Redundância"
      ],
      "metadata": {
        "id": "Uwdvt_fH7pb-"
      }
    },
    {
      "cell_type": "markdown",
      "source": [
        "# Particionamento\n",
        "  - Por padrão dados são particionados de acordo com o número de núcleos\n",
        "  - Cada partição fica em um nó e tem uma task\n",
        "  - Dados são particionados por padrão e dependem de vários fatores e configurações\n",
        "  - Podemos particionar explicitament em disco (partitionBy)\n",
        "  - Ou em memória repartition() ou coalesce()\n",
        "  - Spark Shuffle \n",
        "    - É um mecanismo para redistribuir ou  é um mecanismo para redistribuir ou re-particionar dados para que os dados sejam agrupados de forma diferente nas partições. O Spark shuffle é uma operação muito cara, pois move os dados entre executores ou mesmo entre nós do trabalhador em um cluster.\n",
        "  - Bucketing\n",
        "    - Semelhante a particionamento, porém com número fixo de partições\n",
        "    - Ideal para coluna com alta cardinalidade\n",
        "    - Pode ser usado com conjunto Particionamento"
      ],
      "metadata": {
        "id": "KIYh5_vA7eLe"
      }
    },
    {
      "cell_type": "code",
      "source": [
        "%%sh\n",
        "pip install spark\n",
        "pip install pyspark"
      ],
      "metadata": {
        "colab": {
          "base_uri": "https://localhost:8080/"
        },
        "id": "P0ZLfx2o-Ksm",
        "outputId": "0eef2246-dc6b-4509-cc5e-15994810526e"
      },
      "execution_count": null,
      "outputs": [
        {
          "output_type": "stream",
          "name": "stdout",
          "text": [
            "Looking in indexes: https://pypi.org/simple, https://us-python.pkg.dev/colab-wheels/public/simple/\n",
            "Collecting spark\n",
            "  Downloading spark-0.2.1.tar.gz (41 kB)\n",
            "Building wheels for collected packages: spark\n",
            "  Building wheel for spark (setup.py): started\n",
            "  Building wheel for spark (setup.py): finished with status 'done'\n",
            "  Created wheel for spark: filename=spark-0.2.1-py3-none-any.whl size=58762 sha256=26ab3a4bc8777549de8202967432864243d8cabd8969fe814c977d82ca901865\n",
            "  Stored in directory: /root/.cache/pip/wheels/4e/0e/f1/164619f9920fb447d294afaae11a7715bd442ded7225953d72\n",
            "Successfully built spark\n",
            "Installing collected packages: spark\n",
            "Successfully installed spark-0.2.1\n",
            "Looking in indexes: https://pypi.org/simple, https://us-python.pkg.dev/colab-wheels/public/simple/\n",
            "Collecting pyspark\n",
            "  Downloading pyspark-3.3.0.tar.gz (281.3 MB)\n",
            "Collecting py4j==0.10.9.5\n",
            "  Downloading py4j-0.10.9.5-py2.py3-none-any.whl (199 kB)\n",
            "Building wheels for collected packages: pyspark\n",
            "  Building wheel for pyspark (setup.py): started\n",
            "  Building wheel for pyspark (setup.py): finished with status 'done'\n",
            "  Created wheel for pyspark: filename=pyspark-3.3.0-py2.py3-none-any.whl size=281764026 sha256=e04c4a73cdab2578d65936eb676605c4620c5db2f22c3d38798be54f88f9e664\n",
            "  Stored in directory: /root/.cache/pip/wheels/7a/8e/1b/f73a52650d2e5f337708d9f6a1750d451a7349a867f928b885\n",
            "Successfully built pyspark\n",
            "Installing collected packages: py4j, pyspark\n",
            "Successfully installed py4j-0.10.9.5 pyspark-3.3.0\n"
          ]
        }
      ]
    },
    {
      "cell_type": "code",
      "source": [
        "import pyspark\n",
        "from pyspark.sql import SparkSession"
      ],
      "metadata": {
        "id": "QJIXwRtF_SLr"
      },
      "execution_count": null,
      "outputs": []
    },
    {
      "cell_type": "code",
      "source": [
        "spark = SparkSession.builder.appName('spark_particionamento').getOrCreate()"
      ],
      "metadata": {
        "id": "8mnzUOzd-j3z"
      },
      "execution_count": null,
      "outputs": []
    },
    {
      "cell_type": "code",
      "source": [
        "# Criando o database desp\n",
        "spark.sql('CREATE DATABASE desp').show()"
      ],
      "metadata": {
        "colab": {
          "base_uri": "https://localhost:8080/"
        },
        "id": "Vnm84Oyb_Yz2",
        "outputId": "165886eb-b559-4f74-eba0-a01709b39d51"
      },
      "execution_count": null,
      "outputs": [
        {
          "output_type": "stream",
          "name": "stdout",
          "text": [
            "++\n",
            "||\n",
            "++\n",
            "++\n",
            "\n"
          ]
        }
      ]
    },
    {
      "cell_type": "code",
      "source": [
        "# entrando no banco desp\n",
        "spark.sql('USE desp').show()"
      ],
      "metadata": {
        "colab": {
          "base_uri": "https://localhost:8080/"
        },
        "id": "Y1nX6n9v_eJY",
        "outputId": "00f02113-8181-45c4-8f82-d32d22c8aeba"
      },
      "execution_count": null,
      "outputs": [
        {
          "output_type": "stream",
          "name": "stdout",
          "text": [
            "++\n",
            "||\n",
            "++\n",
            "++\n",
            "\n"
          ]
        }
      ]
    },
    {
      "cell_type": "code",
      "source": [
        "churn = spark.read.csv('/content/Churn.csv', header=True, inferSchema=True, sep=';')\n",
        "churn.show()"
      ],
      "metadata": {
        "colab": {
          "base_uri": "https://localhost:8080/"
        },
        "id": "QhtmX2Aq_kMs",
        "outputId": "caa2dd1c-7260-4345-f3cd-d008507d9f39"
      },
      "execution_count": null,
      "outputs": [
        {
          "output_type": "stream",
          "name": "stdout",
          "text": [
            "+-----------+---------+------+---+------+--------+-------------+---------+--------------+---------------+------+\n",
            "|CreditScore|Geography|Gender|Age|Tenure| Balance|NumOfProducts|HasCrCard|IsActiveMember|EstimatedSalary|Exited|\n",
            "+-----------+---------+------+---+------+--------+-------------+---------+--------------+---------------+------+\n",
            "|        619|   France|Female| 42|     2|       0|            1|        1|             1|       10134888|     1|\n",
            "|        608|    Spain|Female| 41|     1| 8380786|            1|        0|             1|       11254258|     0|\n",
            "|        502|   France|Female| 42|     8| 1596608|            3|        1|             0|       11393157|     1|\n",
            "|        699|   France|Female| 39|     1|       0|            2|        0|             0|        9382663|     0|\n",
            "|        850|    Spain|Female| 43|     2|12551082|            1|        1|             1|         790841|     0|\n",
            "|        645|    Spain|  Male| 44|     8|11375578|            2|        1|             0|       14975671|     1|\n",
            "|        822|   France|  Male| 50|     7|       0|            2|        1|             1|         100628|     0|\n",
            "|        376|  Germany|Female| 29|     4|11504674|            4|        1|             0|       11934688|     1|\n",
            "|        501|   France|  Male| 44|     4|14205107|            2|        0|             1|         749405|     0|\n",
            "|        684|   France|  Male| 27|     2|13460388|            1|        1|             1|        7172573|     0|\n",
            "|        528|   France|  Male| 31|     6|10201672|            2|        0|             0|        8018112|     0|\n",
            "|        497|    Spain|  Male| 24|     3|       0|            2|        1|             0|        7639001|     0|\n",
            "|        476|   France|Female| 34|    10|       0|            2|        1|             0|        2626098|     0|\n",
            "|        549|   France|Female| 25|     5|       0|            2|        0|             0|       19085779|     0|\n",
            "|        635|    Spain|Female| 35|     7|       0|            2|        1|             1|        6595165|     0|\n",
            "|        616|  Germany|  Male| 45|     3|14312941|            2|        0|             1|        6432726|     0|\n",
            "|        653|  Germany|  Male| 58|     1|13260288|            1|        1|             0|         509767|     1|\n",
            "|        549|    Spain|Female| 24|     9|       0|            2|        1|             1|        1440641|     0|\n",
            "|        587|    Spain|  Male| 45|     6|       0|            1|        0|             0|       15868481|     0|\n",
            "|        726|   France|Female| 24|     6|       0|            2|        1|             1|        5472403|     0|\n",
            "+-----------+---------+------+---+------+--------+-------------+---------+--------------+---------------+------+\n",
            "only showing top 20 rows\n",
            "\n"
          ]
        }
      ]
    },
    {
      "cell_type": "code",
      "source": [
        "# Cria uma tabela fisica no nosso banco de dados desp\n",
        "# Cria um particionamento atráves da coluna Geography\n",
        "churn.write.partitionBy('Geography').saveAsTable('churn_geo')"
      ],
      "metadata": {
        "id": "h_8rj-p8AHIf"
      },
      "execution_count": null,
      "outputs": []
    },
    {
      "cell_type": "code",
      "source": [
        "# consultando a tabela churn_geo\n",
        "# na pasta desp.db/churn_geo\n",
        "# foi criado 3 pastas para cada geography\n",
        "# https://prnt.sc/ZvvEXlx4KfeM\n",
        "spark.sql('SELECT * FROM churn_geo').show(5)"
      ],
      "metadata": {
        "colab": {
          "base_uri": "https://localhost:8080/"
        },
        "id": "BMcMbeFeBJ6F",
        "outputId": "d265f801-f047-4e02-dd39-1a1dafae0adf"
      },
      "execution_count": null,
      "outputs": [
        {
          "output_type": "stream",
          "name": "stdout",
          "text": [
            "+-----------+------+---+------+--------+-------------+---------+--------------+---------------+------+---------+\n",
            "|CreditScore|Gender|Age|Tenure| Balance|NumOfProducts|HasCrCard|IsActiveMember|EstimatedSalary|Exited|Geography|\n",
            "+-----------+------+---+------+--------+-------------+---------+--------------+---------------+------+---------+\n",
            "|        619|Female| 42|     2|       0|            1|        1|             1|       10134888|     1|   France|\n",
            "|        502|Female| 42|     8| 1596608|            3|        1|             0|       11393157|     1|   France|\n",
            "|        699|Female| 39|     1|       0|            2|        0|             0|        9382663|     0|   France|\n",
            "|        822|  Male| 50|     7|       0|            2|        1|             1|         100628|     0|   France|\n",
            "|        501|  Male| 44|     4|14205107|            2|        0|             1|         749405|     0|   France|\n",
            "+-----------+------+---+------+--------+-------------+---------+--------------+---------------+------+---------+\n",
            "only showing top 5 rows\n",
            "\n"
          ]
        }
      ]
    },
    {
      "cell_type": "markdown",
      "source": [
        "# Criando um Bucket"
      ],
      "metadata": {
        "id": "npkej-sYDpfk"
      }
    },
    {
      "cell_type": "code",
      "source": [
        "# Bucket é usado quando a cardinalidade é muito alta\n",
        "# bucketBy: 1º param: número de partições; 2º tabela\n",
        "# estrutura churn_geo_2: https://prnt.sc/Ae-BYQH1emnR\n",
        "# apesar de termos definido 3 partições, ele criou apenas 2, porque o número de dados é pequeno\n",
        "churn.write.bucketBy(3, 'Geography').saveAsTable('churn_geo_2')"
      ],
      "metadata": {
        "id": "DCKjwOmmCMf4"
      },
      "execution_count": null,
      "outputs": []
    },
    {
      "cell_type": "code",
      "source": [
        "spark.sql('SELECT * FROM churn_geo_2').show(5)"
      ],
      "metadata": {
        "colab": {
          "base_uri": "https://localhost:8080/"
        },
        "id": "iQVBD66oEvBe",
        "outputId": "bfdffb4c-7496-4616-a756-83d9338baf8a"
      },
      "execution_count": null,
      "outputs": [
        {
          "output_type": "stream",
          "name": "stdout",
          "text": [
            "+-----------+---------+------+---+------+--------+-------------+---------+--------------+---------------+------+\n",
            "|CreditScore|Geography|Gender|Age|Tenure| Balance|NumOfProducts|HasCrCard|IsActiveMember|EstimatedSalary|Exited|\n",
            "+-----------+---------+------+---+------+--------+-------------+---------+--------------+---------------+------+\n",
            "|        619|   France|Female| 42|     2|       0|            1|        1|             1|       10134888|     1|\n",
            "|        608|    Spain|Female| 41|     1| 8380786|            1|        0|             1|       11254258|     0|\n",
            "|        502|   France|Female| 42|     8| 1596608|            3|        1|             0|       11393157|     1|\n",
            "|        699|   France|Female| 39|     1|       0|            2|        0|             0|        9382663|     0|\n",
            "|        850|    Spain|Female| 43|     2|12551082|            1|        1|             1|         790841|     0|\n",
            "+-----------+---------+------+---+------+--------+-------------+---------+--------------+---------------+------+\n",
            "only showing top 5 rows\n",
            "\n"
          ]
        }
      ]
    },
    {
      "cell_type": "markdown",
      "source": [
        "# Cache e Persist\n",
        " - Cache - padrão em memória, ou seja, coloca o objeto em memória\n",
        " - Persist - definido pelo usuário\n",
        "\n",
        "# StorageLevel\n",
        " \n",
        " \n",
        " - DISK_ONLY\n",
        " - DISK_ONLY_2\n",
        " - DISK_ONLY_3\n",
        " - MEMORY_AND_DISK: Padrão para DataFrame. Armazena as partiçõesq ue não    cabem em memória em disco\n",
        " - MEMORY_AND_DISK_2\n",
        " - MEMORY_AND_DISK_SER\n",
        " - MEMORY_AND_DISK_SER_2\n",
        " - MEMORY_ONLY: Padrão para RDD, porém se não caber na memória será reprocessado a cada consulta\n",
        " - MEMORY_ONLY_2\n",
        " - MEMORY_ONLY_SER\n",
        " - MEMORY_ONLY_SER_2\n",
        " - OFF_HEAP"
      ],
      "metadata": {
        "id": "OXJ3LwvCFlnC"
      }
    },
    {
      "cell_type": "code",
      "source": [
        "from pyspark import StorageLevel"
      ],
      "metadata": {
        "id": "W5iO9xp6HCuP"
      },
      "execution_count": null,
      "outputs": []
    },
    {
      "cell_type": "code",
      "source": [
        "spark.sql('USE desp').show()"
      ],
      "metadata": {
        "colab": {
          "base_uri": "https://localhost:8080/"
        },
        "id": "ZJCXmJPUHFA3",
        "outputId": "629c146c-db0f-443e-d127-6b29b8f4ebf1"
      },
      "execution_count": null,
      "outputs": [
        {
          "output_type": "stream",
          "name": "stdout",
          "text": [
            "++\n",
            "||\n",
            "++\n",
            "++\n",
            "\n"
          ]
        }
      ]
    },
    {
      "cell_type": "code",
      "source": [
        "spark.sql('SHOW TABLES').show()"
      ],
      "metadata": {
        "colab": {
          "base_uri": "https://localhost:8080/"
        },
        "id": "pasYui3tIL9r",
        "outputId": "343a3de6-bb4a-4d0c-e996-02049d09bf1f"
      },
      "execution_count": null,
      "outputs": [
        {
          "output_type": "stream",
          "name": "stdout",
          "text": [
            "+---------+------------+-----------+\n",
            "|namespace|   tableName|isTemporary|\n",
            "+---------+------------+-----------+\n",
            "|     desp|   churn_geo|      false|\n",
            "|     desp|  churn_geo2|      false|\n",
            "|     desp| churn_geo_2|      false|\n",
            "|     desp|despachantes|      false|\n",
            "+---------+------------+-----------+\n",
            "\n"
          ]
        }
      ]
    },
    {
      "cell_type": "code",
      "source": [
        "# Ler a tabela despachantes e transformar em um df\n",
        "df = spark.sql('SELECT * FROM despachantes')\n",
        "df.show(5)"
      ],
      "metadata": {
        "colab": {
          "base_uri": "https://localhost:8080/"
        },
        "id": "5ZNQ3B3iIPin",
        "outputId": "b72d2b1b-8e4a-40cd-e695-5ed2abeaad42"
      },
      "execution_count": null,
      "outputs": [
        {
          "output_type": "stream",
          "name": "stdout",
          "text": [
            "+---+-------------------+-----+-------------+---+-------------------+\n",
            "|  1|   Carminda Pestana|Ativo|  Santa Maria| 23|         2020-08-11|\n",
            "+---+-------------------+-----+-------------+---+-------------------+\n",
            "|  2|    Deolinda Vilela|Ativo|Novo Hamburgo| 34|2020-03-05 00:00:00|\n",
            "|  3|   Emídio Dornelles|Ativo| Porto Alegre| 34|2020-02-05 00:00:00|\n",
            "|  4|Felisbela Dornelles|Ativo| Porto Alegre| 36|2020-02-05 00:00:00|\n",
            "|  5|     Graça Ornellas|Ativo| Porto Alegre| 12|2020-02-05 00:00:00|\n",
            "|  6|   Matilde Rebouças|Ativo| Porto Alegre| 22|2019-01-05 00:00:00|\n",
            "+---+-------------------+-----+-------------+---+-------------------+\n",
            "only showing top 5 rows\n",
            "\n"
          ]
        }
      ]
    },
    {
      "cell_type": "code",
      "source": [
        "# verificar o storageLevel\n",
        "\n",
        "# 1º False: Não está em disco\n",
        "# 2º False: Não está em memória\n",
        "# 3º False: Não está em OFFHEAP\n",
        "# 4º False: Não está serializado\n",
        "# 5º False: Quantidade de repliacao\n",
        "df.storageLevel"
      ],
      "metadata": {
        "colab": {
          "base_uri": "https://localhost:8080/"
        },
        "id": "srfk9EC6JYVe",
        "outputId": "0fe74008-a237-421a-dc85-152cd150bf4d"
      },
      "execution_count": null,
      "outputs": [
        {
          "output_type": "execute_result",
          "data": {
            "text/plain": [
              "StorageLevel(True, True, False, True, 1)"
            ]
          },
          "metadata": {},
          "execution_count": 31
        }
      ]
    },
    {
      "cell_type": "code",
      "source": [
        "# Cria o cache para o df\n",
        "df.cache()"
      ],
      "metadata": {
        "colab": {
          "base_uri": "https://localhost:8080/"
        },
        "id": "YE_MjLxTJdTj",
        "outputId": "b25fd22b-cb0e-478b-a614-526fe9979474"
      },
      "execution_count": null,
      "outputs": [
        {
          "output_type": "execute_result",
          "data": {
            "text/plain": [
              "DataFrame[1: int, Carminda Pestana: string, Ativo: string, Santa Maria: string, 23: int, 2020-08-11: timestamp]"
            ]
          },
          "metadata": {},
          "execution_count": 29
        }
      ]
    },
    {
      "cell_type": "code",
      "source": [
        "# consultando novamente o storageLevel\n",
        "\n",
        "# 1º False: Está em disco\n",
        "# 2º False: Está em memória\n",
        "# 3º False: Não está em OFFHEAP\n",
        "# 4º False: Eestá serializado\n",
        "# 5º False: Quantidade de repliacao\n",
        "df.storageLevel"
      ],
      "metadata": {
        "colab": {
          "base_uri": "https://localhost:8080/"
        },
        "id": "s7_x0UXBJ84A",
        "outputId": "b4fc831b-fd78-4e32-bfa4-1d692119f971"
      },
      "execution_count": null,
      "outputs": [
        {
          "output_type": "execute_result",
          "data": {
            "text/plain": [
              "StorageLevel(True, True, False, True, 1)"
            ]
          },
          "metadata": {},
          "execution_count": 30
        }
      ]
    },
    {
      "cell_type": "code",
      "source": [
        "df.persist(StorageLevel.DISK_ONLY)"
      ],
      "metadata": {
        "colab": {
          "base_uri": "https://localhost:8080/"
        },
        "id": "co6S31wTKAW3",
        "outputId": "0db9e1b5-4c5c-44da-f50f-b62b442c98d5"
      },
      "execution_count": null,
      "outputs": [
        {
          "output_type": "execute_result",
          "data": {
            "text/plain": [
              "DataFrame[1: int, Carminda Pestana: string, Ativo: string, Santa Maria: string, 23: int, 2020-08-11: timestamp]"
            ]
          },
          "metadata": {},
          "execution_count": 32
        }
      ]
    },
    {
      "cell_type": "code",
      "source": [
        "# Remove o dado em cache\n",
        "df.unpersist()"
      ],
      "metadata": {
        "colab": {
          "base_uri": "https://localhost:8080/"
        },
        "id": "IwmPh_rRKjp1",
        "outputId": "dc4106a4-67fc-435b-a2f2-e2764991f920"
      },
      "execution_count": null,
      "outputs": [
        {
          "output_type": "execute_result",
          "data": {
            "text/plain": [
              "DataFrame[1: int, Carminda Pestana: string, Ativo: string, Santa Maria: string, 23: int, 2020-08-11: timestamp]"
            ]
          },
          "metadata": {},
          "execution_count": 33
        }
      ]
    },
    {
      "cell_type": "code",
      "source": [
        "df.persist(StorageLevel.DISK_ONLY)"
      ],
      "metadata": {
        "colab": {
          "base_uri": "https://localhost:8080/"
        },
        "id": "bLzcbFK4KnZi",
        "outputId": "3cf7437e-eb88-4744-e877-ef62f0750118"
      },
      "execution_count": null,
      "outputs": [
        {
          "output_type": "execute_result",
          "data": {
            "text/plain": [
              "DataFrame[1: int, Carminda Pestana: string, Ativo: string, Santa Maria: string, 23: int, 2020-08-11: timestamp]"
            ]
          },
          "metadata": {},
          "execution_count": 34
        }
      ]
    },
    {
      "cell_type": "code",
      "source": [
        "df.storageLevel"
      ],
      "metadata": {
        "colab": {
          "base_uri": "https://localhost:8080/"
        },
        "id": "8b8FvEM7KpgU",
        "outputId": "f83254fa-13b4-41bd-8164-5f85039b0f0f"
      },
      "execution_count": null,
      "outputs": [
        {
          "output_type": "execute_result",
          "data": {
            "text/plain": [
              "StorageLevel(True, False, False, False, 1)"
            ]
          },
          "metadata": {},
          "execution_count": 35
        }
      ]
    }
  ]
}