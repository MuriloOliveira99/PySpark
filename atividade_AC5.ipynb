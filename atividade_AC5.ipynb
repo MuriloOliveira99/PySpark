{
  "nbformat": 4,
  "nbformat_minor": 0,
  "metadata": {
    "colab": {
      "name": "AC5_ENG.ipynb",
      "provenance": [],
      "collapsed_sections": []
    },
    "kernelspec": {
      "name": "python3",
      "display_name": "Python 3"
    },
    "language_info": {
      "name": "python"
    }
  },
  "cells": [
    {
      "cell_type": "markdown",
      "source": [
        "###Murilo Oliveira Rocha\n",
        "#Atividade Contínua 05\n",
        "<ul> \n",
        "  <li>https://docs.google.com/document/d/1xHGGvZ1pBuCi0zTbo5qb2M2Lg86dYO0NPDNqaxeKvag/edit</li>\n",
        "</ul>\n",
        "\n",
        "\n"
      ],
      "metadata": {
        "id": "vJmzvKORtmw6"
      }
    },
    {
      "cell_type": "code",
      "execution_count": 1,
      "metadata": {
        "colab": {
          "base_uri": "https://localhost:8080/"
        },
        "id": "_N92eW1WSpj5",
        "outputId": "3d9a9568-951b-4154-b7b0-45ce8dd6848d"
      },
      "outputs": [
        {
          "output_type": "stream",
          "name": "stdout",
          "text": [
            "Collecting spark\n",
            "  Downloading spark-0.2.1.tar.gz (41 kB)\n",
            "Building wheels for collected packages: spark\n",
            "  Building wheel for spark (setup.py): started\n",
            "  Building wheel for spark (setup.py): finished with status 'done'\n",
            "  Created wheel for spark: filename=spark-0.2.1-py3-none-any.whl size=58762 sha256=0d27c24a8d189e6ee3ecb2f5d80032bd81f15c3914c662ae3156c4b2e42536ac\n",
            "  Stored in directory: /root/.cache/pip/wheels/4e/0e/f1/164619f9920fb447d294afaae11a7715bd442ded7225953d72\n",
            "Successfully built spark\n",
            "Installing collected packages: spark\n",
            "Successfully installed spark-0.2.1\n",
            "Collecting pyspark\n",
            "  Downloading pyspark-3.2.1.tar.gz (281.4 MB)\n",
            "Collecting py4j==0.10.9.3\n",
            "  Downloading py4j-0.10.9.3-py2.py3-none-any.whl (198 kB)\n",
            "Building wheels for collected packages: pyspark\n",
            "  Building wheel for pyspark (setup.py): started\n",
            "  Building wheel for pyspark (setup.py): finished with status 'done'\n",
            "  Created wheel for pyspark: filename=pyspark-3.2.1-py2.py3-none-any.whl size=281853642 sha256=f09c4c542ba6d3686cf3ebb88a44d3139c7366a1b39f6f34bb6981e9e92ad88d\n",
            "  Stored in directory: /root/.cache/pip/wheels/9f/f5/07/7cd8017084dce4e93e84e92efd1e1d5334db05f2e83bcef74f\n",
            "Successfully built pyspark\n",
            "Installing collected packages: py4j, pyspark\n",
            "Successfully installed py4j-0.10.9.3 pyspark-3.2.1\n"
          ]
        }
      ],
      "source": [
        "%%sh\n",
        "sudo pip install spark\n",
        "sudo pip install pyspark"
      ]
    },
    {
      "cell_type": "code",
      "source": [
        "import pandas as pd\n",
        "\n",
        "# Importando o spark e o pyspark\n",
        "import spark,pyspark\n",
        "\n",
        "# Importando as bibliotecas do pyspark.sql \n",
        "from pyspark.sql import *\n",
        "\n",
        "# Importando as funções sql do spark\n",
        "# Documentação: https://spark.apache.org/docs/latest/api/sql/index.html\n",
        "from pyspark.sql import functions as f\n",
        "\n",
        "# Importando os tipos de dados do spark\n",
        "# Documentação: https://spark.apache.org/docs/latest/sql-ref-datatypes.html\n",
        "from pyspark.sql import types as t \n",
        "\n",
        "# Biblioteca datetime\n",
        "from datetime import datetime, date"
      ],
      "metadata": {
        "id": "KO0OYkC5T11I"
      },
      "execution_count": 2,
      "outputs": []
    },
    {
      "cell_type": "code",
      "source": [
        "# Criando uma Sessão do Spark (Spark Session)\n",
        "spark = SparkSession.builder.master(\"local\").appName(\"AC5 DataEng\").getOrCreate()"
      ],
      "metadata": {
        "id": "ZqNRwtuTUNb2"
      },
      "execution_count": 3,
      "outputs": []
    },
    {
      "cell_type": "code",
      "source": [
        "# Ler um parquet, passando opções de delimitador e cabeçalho\n",
        "df= spark.read.format(\"parquet\")\\\n",
        ".option(\"header\",\"true\")\\\n",
        ".option(\"delimiter\",\";\")\\\n",
        ".load(\"/content/vendas.parquet\")\n",
        "df.show()"
      ],
      "metadata": {
        "colab": {
          "base_uri": "https://localhost:8080/"
        },
        "id": "44EFgm40Uicc",
        "outputId": "d615ab75-8541-4d09-986c-2409721ac2ee"
      },
      "execution_count": 4,
      "outputs": [
        {
          "output_type": "stream",
          "name": "stdout",
          "text": [
            "+-------------+----------+-------------+----------+---+---+----------+----+-----+------+----+----------------+--------------------+-----------+------------+-------------+-----------------+-----------------+\n",
            "|      cod_ean|cod_pessoa|cod_transacao|      data|vlr|qtd|      nome| sms|email|classe|sexo|          cidade|         des_produto|des_familia|   des_secao|des_categoria|des_sub_categoria|__index_level_0__|\n",
            "+-------------+----------+-------------+----------+---+---+----------+----+-----+------+----+----------------+--------------------+-----------+------------+-------------+-----------------+-----------------+\n",
            "|7896901200013|      4644|      8064284|2020-10-26| 67|  3|NOME_a4644|true|false|  Ouro|   F|       São Paulo|                null|       null|        null|         null|             null|                0|\n",
            "|7897001010014|      3578|      8067745|2020-10-26| 54|  7|NOME_o3578|true|false|  Ouro|   M|  Belo Horizonte|                null|       null|        null|         null|             null|                1|\n",
            "|         8555|      6505|      8301911|2020-12-18|  6|  1|NOME_i6505|true|false|  Ouro|   F|  Rio de Janeiro|PAO DA CASA FRANC...| PERECIVEIS|PADARIA LOJA|PRODUCAO PAES|                 |                2|\n",
            "|         2325|      3982|      8194983|2020-11-25| 22|  1|NOME_s3982|true| true|  Ouro|   F|São Bento do Sul|                null|       null|        null|         null|             null|                3|\n",
            "|          666|      1195|      8109606|2020-11-05| 32|  1|NOME_a1195|true| true|  Ouro|   M|    Campo Alegre| ACEM BOVINO KG PECA| PERECIVEIS|     ACOUGUE| CARNE BOVINA|                 |                4|\n",
            "|         3087|     36979|      8123367|2020-11-08| 64|  5|      null|null| null|  null|null|            null|                null|       null|        null|         null|             null|                5|\n",
            "|7894900011517|     14173|      8027160|2020-10-17| 41|  6|NOME_14173|true|false|  Ouro|   F|  Rio de Janeiro|                null|       null|        null|         null|             null|                6|\n",
            "|         3690|      3618|      8025931|2020-10-17|  3|  1|NOME_e3618|true| true|  Ouro|   F|          Manaus| TOMATE PIZZADORO KG| PERECIVEIS|       F L V|      LEGUMES|                 |                7|\n",
            "|         5623|      4860|      8026361|2020-10-17|  3|  1|NOME_a4860|true|false|  Ouro|   F|          Manaus|  CEBOLA NACIONAL KG| PERECIVEIS|       F L V|       CEBOLA|                 |                8|\n",
            "|         5623|     23792|      8270907|2020-12-11|  6|  2|      null|null| null|  null|null|            null|  CEBOLA NACIONAL KG| PERECIVEIS|       F L V|       CEBOLA|                 |                9|\n",
            "|         9591|     42057|      8114968|2020-11-06|  6|  0|NOME_42057|true|false|  Ouro|   M|São Bento do Sul|   ALHO GRANEL T6 KG| PERECIVEIS|       F L V|         ALHO|                 |               10|\n",
            "|         3690|     12539|      8174079|2020-11-20| 13|  4|NOME_12539|true| true|  Ouro|   F|          Recife| TOMATE PIZZADORO KG| PERECIVEIS|       F L V|      LEGUMES|                 |               11|\n",
            "|7897001010014|     23881|      8188049|2020-11-23|  8|  1|NOME_23881|true|false|  Ouro|   F|          Manaus|                null|       null|        null|         null|             null|               12|\n",
            "|         1663|     12539|      8232779|2020-12-03|  6|  1|NOME_12539|true| true|  Ouro|   F|          Recife|    BANANA NANICA KG| PERECIVEIS|       F L V|       FRUTAS|                 |               13|\n",
            "|7896864400178|      1195|      7917141|2020-09-22| 35|  5|NOME_a1195|true| true|  Ouro|   M|    Campo Alegre|                null|       null|        null|         null|             null|               14|\n",
            "|         1663|     14173|      7916639|2020-09-22|  7|  1|NOME_14173|true|false|  Ouro|   F|  Rio de Janeiro|    BANANA NANICA KG| PERECIVEIS|       F L V|       FRUTAS|                 |               15|\n",
            "|         1663|      2274|      8036529|2020-10-19|  9|  3|NOME_e2274|true|false|  Ouro|   M|          Manaus|    BANANA NANICA KG| PERECIVEIS|       F L V|       FRUTAS|                 |               16|\n",
            "|7897001010014|      1364|      8121027|2020-11-07| 15|  2|NOME_n1364|true| true|  Ouro|   F|          Manaus|                null|       null|        null|         null|             null|               17|\n",
            "|         5623|     23792|      8136281|2020-11-11|  5|  1|      null|null| null|  null|null|            null|  CEBOLA NACIONAL KG| PERECIVEIS|       F L V|       CEBOLA|                 |               18|\n",
            "|         5623|      1324|      8308469|2020-12-19|  5|  1|NOME_r1324|true| true|  Ouro|   F|     Campo Largo|  CEBOLA NACIONAL KG| PERECIVEIS|       F L V|       CEBOLA|                 |               19|\n",
            "+-------------+----------+-------------+----------+---+---+----------+----+-----+------+----+----------------+--------------------+-----------+------------+-------------+-----------------+-----------------+\n",
            "only showing top 20 rows\n",
            "\n"
          ]
        }
      ]
    },
    {
      "cell_type": "code",
      "source": [
        "# Convertendo a coluna data para DateType\n",
        "df = df.withColumn(\"data\",df.data.cast(t.DateType()))\n",
        "\n",
        "df.printSchema()"
      ],
      "metadata": {
        "colab": {
          "base_uri": "https://localhost:8080/"
        },
        "id": "MWAIYrWDU8Ba",
        "outputId": "b3e4cec4-f3cd-44f0-b2f1-d725cab86778"
      },
      "execution_count": 7,
      "outputs": [
        {
          "output_type": "stream",
          "name": "stdout",
          "text": [
            "root\n",
            " |-- cod_ean: string (nullable = true)\n",
            " |-- cod_pessoa: long (nullable = true)\n",
            " |-- cod_transacao: long (nullable = true)\n",
            " |-- data: date (nullable = true)\n",
            " |-- vlr: long (nullable = true)\n",
            " |-- qtd: long (nullable = true)\n",
            " |-- nome: string (nullable = true)\n",
            " |-- sms: boolean (nullable = true)\n",
            " |-- email: boolean (nullable = true)\n",
            " |-- classe: string (nullable = true)\n",
            " |-- sexo: string (nullable = true)\n",
            " |-- cidade: string (nullable = true)\n",
            " |-- des_produto: string (nullable = true)\n",
            " |-- des_familia: string (nullable = true)\n",
            " |-- des_secao: string (nullable = true)\n",
            " |-- des_categoria: string (nullable = true)\n",
            " |-- des_sub_categoria: string (nullable = true)\n",
            " |-- __index_level_0__: long (nullable = true)\n",
            "\n"
          ]
        }
      ]
    },
    {
      "cell_type": "code",
      "source": [
        "# Criar as colunas, utilizando as funções spark.sql.functions.year, spark.sql.functions.month , spark.sql.functions.dayofMonth\n",
        "df = df.withColumn(\"ano\",f.year(\"data\"))\n",
        "df = df.withColumn(\"mes\",f.month(\"data\"))\n",
        "df = df.withColumn(\"dia\",f.dayofmonth(\"data\"))\n",
        "df.show()"
      ],
      "metadata": {
        "colab": {
          "base_uri": "https://localhost:8080/"
        },
        "id": "86bMy_l_VsUA",
        "outputId": "a9e4f9ea-3225-4757-f0fe-63413b8602ff"
      },
      "execution_count": 17,
      "outputs": [
        {
          "output_type": "stream",
          "name": "stdout",
          "text": [
            "+-------------+----------+-------------+----------+---+---+----------+----+-----+------+----+----------------+--------------------+-----------+------------+-------------+-----------------+-----------------+----+---+---+\n",
            "|      cod_ean|cod_pessoa|cod_transacao|      data|vlr|qtd|      nome| sms|email|classe|sexo|          cidade|         des_produto|des_familia|   des_secao|des_categoria|des_sub_categoria|__index_level_0__| ano|mes|dia|\n",
            "+-------------+----------+-------------+----------+---+---+----------+----+-----+------+----+----------------+--------------------+-----------+------------+-------------+-----------------+-----------------+----+---+---+\n",
            "|7896901200013|      4644|      8064284|2020-10-26| 67|  3|NOME_a4644|true|false|  Ouro|   F|       São Paulo|                null|       null|        null|         null|             null|                0|2020| 10| 26|\n",
            "|7897001010014|      3578|      8067745|2020-10-26| 54|  7|NOME_o3578|true|false|  Ouro|   M|  Belo Horizonte|                null|       null|        null|         null|             null|                1|2020| 10| 26|\n",
            "|         8555|      6505|      8301911|2020-12-18|  6|  1|NOME_i6505|true|false|  Ouro|   F|  Rio de Janeiro|PAO DA CASA FRANC...| PERECIVEIS|PADARIA LOJA|PRODUCAO PAES|                 |                2|2020| 12| 18|\n",
            "|         2325|      3982|      8194983|2020-11-25| 22|  1|NOME_s3982|true| true|  Ouro|   F|São Bento do Sul|                null|       null|        null|         null|             null|                3|2020| 11| 25|\n",
            "|          666|      1195|      8109606|2020-11-05| 32|  1|NOME_a1195|true| true|  Ouro|   M|    Campo Alegre| ACEM BOVINO KG PECA| PERECIVEIS|     ACOUGUE| CARNE BOVINA|                 |                4|2020| 11|  5|\n",
            "|         3087|     36979|      8123367|2020-11-08| 64|  5|      null|null| null|  null|null|            null|                null|       null|        null|         null|             null|                5|2020| 11|  8|\n",
            "|7894900011517|     14173|      8027160|2020-10-17| 41|  6|NOME_14173|true|false|  Ouro|   F|  Rio de Janeiro|                null|       null|        null|         null|             null|                6|2020| 10| 17|\n",
            "|         3690|      3618|      8025931|2020-10-17|  3|  1|NOME_e3618|true| true|  Ouro|   F|          Manaus| TOMATE PIZZADORO KG| PERECIVEIS|       F L V|      LEGUMES|                 |                7|2020| 10| 17|\n",
            "|         5623|      4860|      8026361|2020-10-17|  3|  1|NOME_a4860|true|false|  Ouro|   F|          Manaus|  CEBOLA NACIONAL KG| PERECIVEIS|       F L V|       CEBOLA|                 |                8|2020| 10| 17|\n",
            "|         5623|     23792|      8270907|2020-12-11|  6|  2|      null|null| null|  null|null|            null|  CEBOLA NACIONAL KG| PERECIVEIS|       F L V|       CEBOLA|                 |                9|2020| 12| 11|\n",
            "|         9591|     42057|      8114968|2020-11-06|  6|  0|NOME_42057|true|false|  Ouro|   M|São Bento do Sul|   ALHO GRANEL T6 KG| PERECIVEIS|       F L V|         ALHO|                 |               10|2020| 11|  6|\n",
            "|         3690|     12539|      8174079|2020-11-20| 13|  4|NOME_12539|true| true|  Ouro|   F|          Recife| TOMATE PIZZADORO KG| PERECIVEIS|       F L V|      LEGUMES|                 |               11|2020| 11| 20|\n",
            "|7897001010014|     23881|      8188049|2020-11-23|  8|  1|NOME_23881|true|false|  Ouro|   F|          Manaus|                null|       null|        null|         null|             null|               12|2020| 11| 23|\n",
            "|         1663|     12539|      8232779|2020-12-03|  6|  1|NOME_12539|true| true|  Ouro|   F|          Recife|    BANANA NANICA KG| PERECIVEIS|       F L V|       FRUTAS|                 |               13|2020| 12|  3|\n",
            "|7896864400178|      1195|      7917141|2020-09-22| 35|  5|NOME_a1195|true| true|  Ouro|   M|    Campo Alegre|                null|       null|        null|         null|             null|               14|2020|  9| 22|\n",
            "|         1663|     14173|      7916639|2020-09-22|  7|  1|NOME_14173|true|false|  Ouro|   F|  Rio de Janeiro|    BANANA NANICA KG| PERECIVEIS|       F L V|       FRUTAS|                 |               15|2020|  9| 22|\n",
            "|         1663|      2274|      8036529|2020-10-19|  9|  3|NOME_e2274|true|false|  Ouro|   M|          Manaus|    BANANA NANICA KG| PERECIVEIS|       F L V|       FRUTAS|                 |               16|2020| 10| 19|\n",
            "|7897001010014|      1364|      8121027|2020-11-07| 15|  2|NOME_n1364|true| true|  Ouro|   F|          Manaus|                null|       null|        null|         null|             null|               17|2020| 11|  7|\n",
            "|         5623|     23792|      8136281|2020-11-11|  5|  1|      null|null| null|  null|null|            null|  CEBOLA NACIONAL KG| PERECIVEIS|       F L V|       CEBOLA|                 |               18|2020| 11| 11|\n",
            "|         5623|      1324|      8308469|2020-12-19|  5|  1|NOME_r1324|true| true|  Ouro|   F|     Campo Largo|  CEBOLA NACIONAL KG| PERECIVEIS|       F L V|       CEBOLA|                 |               19|2020| 12| 19|\n",
            "+-------------+----------+-------------+----------+---+---+----------+----+-----+------+----+----------------+--------------------+-----------+------------+-------------+-----------------+-----------------+----+---+---+\n",
            "only showing top 20 rows\n",
            "\n"
          ]
        }
      ]
    },
    {
      "cell_type": "code",
      "source": [
        "# Na coluna sms, se caso o valor for null , troque por False (use a função spark.sql.functions.when (df.sms.isNull(),False).otherwise(df.sms)) \n",
        "df = df.withColumn(\"sms\",f.when(df.sms.isNull(),False).otherwise(df.sms))\n",
        "df.show()"
      ],
      "metadata": {
        "colab": {
          "base_uri": "https://localhost:8080/"
        },
        "id": "oJPa_KF8ZY8u",
        "outputId": "3a4a279b-050a-4ce3-e5eb-439cf615af69"
      },
      "execution_count": 18,
      "outputs": [
        {
          "output_type": "stream",
          "name": "stdout",
          "text": [
            "+-------------+----------+-------------+----------+---+---+----------+-----+-----+------+----+----------------+--------------------+-----------+------------+-------------+-----------------+-----------------+----+---+---+\n",
            "|      cod_ean|cod_pessoa|cod_transacao|      data|vlr|qtd|      nome|  sms|email|classe|sexo|          cidade|         des_produto|des_familia|   des_secao|des_categoria|des_sub_categoria|__index_level_0__| ano|mes|dia|\n",
            "+-------------+----------+-------------+----------+---+---+----------+-----+-----+------+----+----------------+--------------------+-----------+------------+-------------+-----------------+-----------------+----+---+---+\n",
            "|7896901200013|      4644|      8064284|2020-10-26| 67|  3|NOME_a4644| true|false|  Ouro|   F|       São Paulo|                null|       null|        null|         null|             null|                0|2020| 10| 26|\n",
            "|7897001010014|      3578|      8067745|2020-10-26| 54|  7|NOME_o3578| true|false|  Ouro|   M|  Belo Horizonte|                null|       null|        null|         null|             null|                1|2020| 10| 26|\n",
            "|         8555|      6505|      8301911|2020-12-18|  6|  1|NOME_i6505| true|false|  Ouro|   F|  Rio de Janeiro|PAO DA CASA FRANC...| PERECIVEIS|PADARIA LOJA|PRODUCAO PAES|                 |                2|2020| 12| 18|\n",
            "|         2325|      3982|      8194983|2020-11-25| 22|  1|NOME_s3982| true| true|  Ouro|   F|São Bento do Sul|                null|       null|        null|         null|             null|                3|2020| 11| 25|\n",
            "|          666|      1195|      8109606|2020-11-05| 32|  1|NOME_a1195| true| true|  Ouro|   M|    Campo Alegre| ACEM BOVINO KG PECA| PERECIVEIS|     ACOUGUE| CARNE BOVINA|                 |                4|2020| 11|  5|\n",
            "|         3087|     36979|      8123367|2020-11-08| 64|  5|      null|false| null|  null|null|            null|                null|       null|        null|         null|             null|                5|2020| 11|  8|\n",
            "|7894900011517|     14173|      8027160|2020-10-17| 41|  6|NOME_14173| true|false|  Ouro|   F|  Rio de Janeiro|                null|       null|        null|         null|             null|                6|2020| 10| 17|\n",
            "|         3690|      3618|      8025931|2020-10-17|  3|  1|NOME_e3618| true| true|  Ouro|   F|          Manaus| TOMATE PIZZADORO KG| PERECIVEIS|       F L V|      LEGUMES|                 |                7|2020| 10| 17|\n",
            "|         5623|      4860|      8026361|2020-10-17|  3|  1|NOME_a4860| true|false|  Ouro|   F|          Manaus|  CEBOLA NACIONAL KG| PERECIVEIS|       F L V|       CEBOLA|                 |                8|2020| 10| 17|\n",
            "|         5623|     23792|      8270907|2020-12-11|  6|  2|      null|false| null|  null|null|            null|  CEBOLA NACIONAL KG| PERECIVEIS|       F L V|       CEBOLA|                 |                9|2020| 12| 11|\n",
            "|         9591|     42057|      8114968|2020-11-06|  6|  0|NOME_42057| true|false|  Ouro|   M|São Bento do Sul|   ALHO GRANEL T6 KG| PERECIVEIS|       F L V|         ALHO|                 |               10|2020| 11|  6|\n",
            "|         3690|     12539|      8174079|2020-11-20| 13|  4|NOME_12539| true| true|  Ouro|   F|          Recife| TOMATE PIZZADORO KG| PERECIVEIS|       F L V|      LEGUMES|                 |               11|2020| 11| 20|\n",
            "|7897001010014|     23881|      8188049|2020-11-23|  8|  1|NOME_23881| true|false|  Ouro|   F|          Manaus|                null|       null|        null|         null|             null|               12|2020| 11| 23|\n",
            "|         1663|     12539|      8232779|2020-12-03|  6|  1|NOME_12539| true| true|  Ouro|   F|          Recife|    BANANA NANICA KG| PERECIVEIS|       F L V|       FRUTAS|                 |               13|2020| 12|  3|\n",
            "|7896864400178|      1195|      7917141|2020-09-22| 35|  5|NOME_a1195| true| true|  Ouro|   M|    Campo Alegre|                null|       null|        null|         null|             null|               14|2020|  9| 22|\n",
            "|         1663|     14173|      7916639|2020-09-22|  7|  1|NOME_14173| true|false|  Ouro|   F|  Rio de Janeiro|    BANANA NANICA KG| PERECIVEIS|       F L V|       FRUTAS|                 |               15|2020|  9| 22|\n",
            "|         1663|      2274|      8036529|2020-10-19|  9|  3|NOME_e2274| true|false|  Ouro|   M|          Manaus|    BANANA NANICA KG| PERECIVEIS|       F L V|       FRUTAS|                 |               16|2020| 10| 19|\n",
            "|7897001010014|      1364|      8121027|2020-11-07| 15|  2|NOME_n1364| true| true|  Ouro|   F|          Manaus|                null|       null|        null|         null|             null|               17|2020| 11|  7|\n",
            "|         5623|     23792|      8136281|2020-11-11|  5|  1|      null|false| null|  null|null|            null|  CEBOLA NACIONAL KG| PERECIVEIS|       F L V|       CEBOLA|                 |               18|2020| 11| 11|\n",
            "|         5623|      1324|      8308469|2020-12-19|  5|  1|NOME_r1324| true| true|  Ouro|   F|     Campo Largo|  CEBOLA NACIONAL KG| PERECIVEIS|       F L V|       CEBOLA|                 |               19|2020| 12| 19|\n",
            "+-------------+----------+-------------+----------+---+---+----------+-----+-----+------+----+----------------+--------------------+-----------+------------+-------------+-----------------+-----------------+----+---+---+\n",
            "only showing top 20 rows\n",
            "\n"
          ]
        }
      ]
    },
    {
      "cell_type": "code",
      "source": [
        "# Crie uma coluna chamada “total” que deve ser a multiplicação das colunas “vlr” e “qtd”.\n",
        "df = df.withColumn(\"total\", df.vlr * df.qtd)\n",
        "df.show()"
      ],
      "metadata": {
        "colab": {
          "base_uri": "https://localhost:8080/"
        },
        "id": "qq1x7WmZZzfA",
        "outputId": "7d9e3798-dbd0-4e2a-e53c-5eb5190a7a0b"
      },
      "execution_count": 21,
      "outputs": [
        {
          "output_type": "stream",
          "name": "stdout",
          "text": [
            "+-------------+----------+-------------+----------+---+---+----------+-----+-----+------+----+----------------+--------------------+-----------+------------+-------------+-----------------+-----------------+----+---+---+-----+\n",
            "|      cod_ean|cod_pessoa|cod_transacao|      data|vlr|qtd|      nome|  sms|email|classe|sexo|          cidade|         des_produto|des_familia|   des_secao|des_categoria|des_sub_categoria|__index_level_0__| ano|mes|dia|total|\n",
            "+-------------+----------+-------------+----------+---+---+----------+-----+-----+------+----+----------------+--------------------+-----------+------------+-------------+-----------------+-----------------+----+---+---+-----+\n",
            "|7896901200013|      4644|      8064284|2020-10-26| 67|  3|NOME_a4644| true|false|  Ouro|   F|       São Paulo|                null|       null|        null|         null|             null|                0|2020| 10| 26|  201|\n",
            "|7897001010014|      3578|      8067745|2020-10-26| 54|  7|NOME_o3578| true|false|  Ouro|   M|  Belo Horizonte|                null|       null|        null|         null|             null|                1|2020| 10| 26|  378|\n",
            "|         8555|      6505|      8301911|2020-12-18|  6|  1|NOME_i6505| true|false|  Ouro|   F|  Rio de Janeiro|PAO DA CASA FRANC...| PERECIVEIS|PADARIA LOJA|PRODUCAO PAES|                 |                2|2020| 12| 18|    6|\n",
            "|         2325|      3982|      8194983|2020-11-25| 22|  1|NOME_s3982| true| true|  Ouro|   F|São Bento do Sul|                null|       null|        null|         null|             null|                3|2020| 11| 25|   22|\n",
            "|          666|      1195|      8109606|2020-11-05| 32|  1|NOME_a1195| true| true|  Ouro|   M|    Campo Alegre| ACEM BOVINO KG PECA| PERECIVEIS|     ACOUGUE| CARNE BOVINA|                 |                4|2020| 11|  5|   32|\n",
            "|         3087|     36979|      8123367|2020-11-08| 64|  5|      null|false| null|  null|null|            null|                null|       null|        null|         null|             null|                5|2020| 11|  8|  320|\n",
            "|7894900011517|     14173|      8027160|2020-10-17| 41|  6|NOME_14173| true|false|  Ouro|   F|  Rio de Janeiro|                null|       null|        null|         null|             null|                6|2020| 10| 17|  246|\n",
            "|         3690|      3618|      8025931|2020-10-17|  3|  1|NOME_e3618| true| true|  Ouro|   F|          Manaus| TOMATE PIZZADORO KG| PERECIVEIS|       F L V|      LEGUMES|                 |                7|2020| 10| 17|    3|\n",
            "|         5623|      4860|      8026361|2020-10-17|  3|  1|NOME_a4860| true|false|  Ouro|   F|          Manaus|  CEBOLA NACIONAL KG| PERECIVEIS|       F L V|       CEBOLA|                 |                8|2020| 10| 17|    3|\n",
            "|         5623|     23792|      8270907|2020-12-11|  6|  2|      null|false| null|  null|null|            null|  CEBOLA NACIONAL KG| PERECIVEIS|       F L V|       CEBOLA|                 |                9|2020| 12| 11|   12|\n",
            "|         9591|     42057|      8114968|2020-11-06|  6|  0|NOME_42057| true|false|  Ouro|   M|São Bento do Sul|   ALHO GRANEL T6 KG| PERECIVEIS|       F L V|         ALHO|                 |               10|2020| 11|  6|    0|\n",
            "|         3690|     12539|      8174079|2020-11-20| 13|  4|NOME_12539| true| true|  Ouro|   F|          Recife| TOMATE PIZZADORO KG| PERECIVEIS|       F L V|      LEGUMES|                 |               11|2020| 11| 20|   52|\n",
            "|7897001010014|     23881|      8188049|2020-11-23|  8|  1|NOME_23881| true|false|  Ouro|   F|          Manaus|                null|       null|        null|         null|             null|               12|2020| 11| 23|    8|\n",
            "|         1663|     12539|      8232779|2020-12-03|  6|  1|NOME_12539| true| true|  Ouro|   F|          Recife|    BANANA NANICA KG| PERECIVEIS|       F L V|       FRUTAS|                 |               13|2020| 12|  3|    6|\n",
            "|7896864400178|      1195|      7917141|2020-09-22| 35|  5|NOME_a1195| true| true|  Ouro|   M|    Campo Alegre|                null|       null|        null|         null|             null|               14|2020|  9| 22|  175|\n",
            "|         1663|     14173|      7916639|2020-09-22|  7|  1|NOME_14173| true|false|  Ouro|   F|  Rio de Janeiro|    BANANA NANICA KG| PERECIVEIS|       F L V|       FRUTAS|                 |               15|2020|  9| 22|    7|\n",
            "|         1663|      2274|      8036529|2020-10-19|  9|  3|NOME_e2274| true|false|  Ouro|   M|          Manaus|    BANANA NANICA KG| PERECIVEIS|       F L V|       FRUTAS|                 |               16|2020| 10| 19|   27|\n",
            "|7897001010014|      1364|      8121027|2020-11-07| 15|  2|NOME_n1364| true| true|  Ouro|   F|          Manaus|                null|       null|        null|         null|             null|               17|2020| 11|  7|   30|\n",
            "|         5623|     23792|      8136281|2020-11-11|  5|  1|      null|false| null|  null|null|            null|  CEBOLA NACIONAL KG| PERECIVEIS|       F L V|       CEBOLA|                 |               18|2020| 11| 11|    5|\n",
            "|         5623|      1324|      8308469|2020-12-19|  5|  1|NOME_r1324| true| true|  Ouro|   F|     Campo Largo|  CEBOLA NACIONAL KG| PERECIVEIS|       F L V|       CEBOLA|                 |               19|2020| 12| 19|    5|\n",
            "+-------------+----------+-------------+----------+---+---+----------+-----+-----+------+----+----------------+--------------------+-----------+------------+-------------+-----------------+-----------------+----+---+---+-----+\n",
            "only showing top 20 rows\n",
            "\n"
          ]
        }
      ]
    },
    {
      "cell_type": "code",
      "source": [
        "# Grave o dataframe particionado por ano, mes e dia no formato “parquet” de nome “vendas_tratadas”.\n",
        "df.write.partitionBy(\"ano\",\"mes\",\"dia\").parquet(\"/content/vendas_tratadas\")"
      ],
      "metadata": {
        "id": "DagItiXWaYev"
      },
      "execution_count": 23,
      "outputs": []
    },
    {
      "cell_type": "code",
      "source": [
        "# Crie uma tabela temporaria chamada “vendas_table” (df.registerTempTable(“vendas_table”)).\n",
        "df_temp = df.createOrReplaceTempView(\"vendas_table\")\n",
        "df_temp"
      ],
      "metadata": {
        "id": "QUc3XtGsbPwU"
      },
      "execution_count": 25,
      "outputs": []
    },
    {
      "cell_type": "code",
      "source": [
        "# Crie um dataframe spark.sql utilizando a query spark.sql(“select distinct cidade from vendas_table”)\n",
        "df_cidade = spark.sql(\"select distinct cidade from vendas_table\")\n",
        "df_cidade.show()"
      ],
      "metadata": {
        "colab": {
          "base_uri": "https://localhost:8080/"
        },
        "id": "bV41r6VNcBG1",
        "outputId": "36c54ca2-901a-4dfa-9d9f-3f547f5b6710"
      },
      "execution_count": 27,
      "outputs": [
        {
          "output_type": "stream",
          "name": "stdout",
          "text": [
            "+----------------+\n",
            "|          cidade|\n",
            "+----------------+\n",
            "|          Santos|\n",
            "|        Curitiba|\n",
            "|            null|\n",
            "|        Campinas|\n",
            "|  Belo Horizonte|\n",
            "|        Salvador|\n",
            "|     Campo Largo|\n",
            "|       São Paulo|\n",
            "|          Recife|\n",
            "|          Manaus|\n",
            "|  Rio de Janeiro|\n",
            "|    Campo Alegre|\n",
            "|São Bento do Sul|\n",
            "|    Porto Alegre|\n",
            "+----------------+\n",
            "\n"
          ]
        }
      ]
    },
    {
      "cell_type": "code",
      "source": [
        "# Grave esse dataframe no formato “parquet” de nome “cidade”.\n",
        "df_cidade.write.mode(\"overwrite\").parquet(\"/content/cidade\")"
      ],
      "metadata": {
        "id": "rmPPqP7kcL9k"
      },
      "execution_count": 28,
      "outputs": []
    },
    {
      "cell_type": "code",
      "source": [
        "from pyspark.sql.functions import trim\n",
        "# Crie um novo dataframe chamado “produto” selecionando as colunas: “des_produto”,”des_familia”, “des_secao”, “des_categoria”,”des_sub_categoria”. \n",
        "# df_produto = df.select(\"des_produto\",\"des_familia\", \"des_secao\", \"des_categoria\", \"des_sub_categoria\")\n",
        "df_produto = df.select(f.trim(df['des_produto']).alias('des_produto'),\n",
        "                f.trim(df['des_secao']).alias('des_secao'),\n",
        "                f.trim(df['des_categoria']).alias('des_categoria'),\n",
        "                f.trim(df['des_sub_categoria']).alias('des_sub_categoria')\n",
        "                )\n",
        "df_produto.show()"
      ],
      "metadata": {
        "colab": {
          "base_uri": "https://localhost:8080/"
        },
        "id": "r_k5maq7c3fJ",
        "outputId": "f7a1863b-4306-401b-b1b7-20e1034503c8"
      },
      "execution_count": 63,
      "outputs": [
        {
          "output_type": "stream",
          "name": "stdout",
          "text": [
            "+--------------------+------------+-------------+-----------------+\n",
            "|         des_produto|   des_secao|des_categoria|des_sub_categoria|\n",
            "+--------------------+------------+-------------+-----------------+\n",
            "|                null|        null|         null|             null|\n",
            "|                null|        null|         null|             null|\n",
            "|PAO DA CASA FRANC...|PADARIA LOJA|PRODUCAO PAES|                 |\n",
            "|                null|        null|         null|             null|\n",
            "| ACEM BOVINO KG PECA|     ACOUGUE| CARNE BOVINA|                 |\n",
            "|                null|        null|         null|             null|\n",
            "|                null|        null|         null|             null|\n",
            "| TOMATE PIZZADORO KG|       F L V|      LEGUMES|                 |\n",
            "|  CEBOLA NACIONAL KG|       F L V|       CEBOLA|                 |\n",
            "|  CEBOLA NACIONAL KG|       F L V|       CEBOLA|                 |\n",
            "|   ALHO GRANEL T6 KG|       F L V|         ALHO|                 |\n",
            "| TOMATE PIZZADORO KG|       F L V|      LEGUMES|                 |\n",
            "|                null|        null|         null|             null|\n",
            "|    BANANA NANICA KG|       F L V|       FRUTAS|                 |\n",
            "|                null|        null|         null|             null|\n",
            "|    BANANA NANICA KG|       F L V|       FRUTAS|                 |\n",
            "|    BANANA NANICA KG|       F L V|       FRUTAS|                 |\n",
            "|                null|        null|         null|             null|\n",
            "|  CEBOLA NACIONAL KG|       F L V|       CEBOLA|                 |\n",
            "|  CEBOLA NACIONAL KG|       F L V|       CEBOLA|                 |\n",
            "+--------------------+------------+-------------+-----------------+\n",
            "only showing top 20 rows\n",
            "\n"
          ]
        }
      ]
    },
    {
      "cell_type": "code",
      "source": [
        "df_produto.distinct()"
      ],
      "metadata": {
        "colab": {
          "base_uri": "https://localhost:8080/"
        },
        "id": "FYRf6ELhkxAe",
        "outputId": "5299bf5a-192e-42f1-b126-86dc1f799190"
      },
      "execution_count": 65,
      "outputs": [
        {
          "output_type": "execute_result",
          "data": {
            "text/plain": [
              "DataFrame[des_produto: string, des_secao: string, des_categoria: string, des_sub_categoria: string]"
            ]
          },
          "metadata": {},
          "execution_count": 65
        }
      ]
    },
    {
      "cell_type": "code",
      "source": [
        "# Grave esse dataframe no formato “parquet” de nome produto.\n",
        "df_produto.write.mode(\"overwrite\").parquet(\"/content/produto\")"
      ],
      "metadata": {
        "id": "i4okH8zumAah"
      },
      "execution_count": 67,
      "outputs": []
    },
    {
      "cell_type": "code",
      "source": [
        "# Crie um dataframe chamado “venda_mulheres”, selecionando todas as colunas e filtrando apenas vendas realizadas pelo sexo “F”,\n",
        "df_mulheres = df.where(df.sexo=='F')\n",
        "df_mulheres.show()"
      ],
      "metadata": {
        "colab": {
          "base_uri": "https://localhost:8080/"
        },
        "id": "p84A9glomJU0",
        "outputId": "bcd2ad23-4db6-4ce5-f584-56951501d56e"
      },
      "execution_count": 76,
      "outputs": [
        {
          "output_type": "stream",
          "name": "stdout",
          "text": [
            "+-------------+----------+-------------+----------+---+---+----------+-----+-----+------+----+----------------+--------------------+-----------+------------+-------------------+-----------------+-----------------+----+---+---+-----+\n",
            "|      cod_ean|cod_pessoa|cod_transacao|      data|vlr|qtd|      nome|  sms|email|classe|sexo|          cidade|         des_produto|des_familia|   des_secao|      des_categoria|des_sub_categoria|__index_level_0__| ano|mes|dia|total|\n",
            "+-------------+----------+-------------+----------+---+---+----------+-----+-----+------+----+----------------+--------------------+-----------+------------+-------------------+-----------------+-----------------+----+---+---+-----+\n",
            "|7896901200013|      4644|      8064284|2020-10-26| 67|  3|NOME_a4644| true|false|  Ouro|   F|       São Paulo|                null|       null|        null|               null|             null|                0|2020| 10| 26|  201|\n",
            "|         8555|      6505|      8301911|2020-12-18|  6|  1|NOME_i6505| true|false|  Ouro|   F|  Rio de Janeiro|PAO DA CASA FRANC...| PERECIVEIS|PADARIA LOJA|      PRODUCAO PAES|                 |                2|2020| 12| 18|    6|\n",
            "|         2325|      3982|      8194983|2020-11-25| 22|  1|NOME_s3982| true| true|  Ouro|   F|São Bento do Sul|                null|       null|        null|               null|             null|                3|2020| 11| 25|   22|\n",
            "|7894900011517|     14173|      8027160|2020-10-17| 41|  6|NOME_14173| true|false|  Ouro|   F|  Rio de Janeiro|                null|       null|        null|               null|             null|                6|2020| 10| 17|  246|\n",
            "|         3690|      3618|      8025931|2020-10-17|  3|  1|NOME_e3618| true| true|  Ouro|   F|          Manaus| TOMATE PIZZADORO KG| PERECIVEIS|       F L V|            LEGUMES|                 |                7|2020| 10| 17|    3|\n",
            "|         5623|      4860|      8026361|2020-10-17|  3|  1|NOME_a4860| true|false|  Ouro|   F|          Manaus|  CEBOLA NACIONAL KG| PERECIVEIS|       F L V|             CEBOLA|                 |                8|2020| 10| 17|    3|\n",
            "|         3690|     12539|      8174079|2020-11-20| 13|  4|NOME_12539| true| true|  Ouro|   F|          Recife| TOMATE PIZZADORO KG| PERECIVEIS|       F L V|            LEGUMES|                 |               11|2020| 11| 20|   52|\n",
            "|7897001010014|     23881|      8188049|2020-11-23|  8|  1|NOME_23881| true|false|  Ouro|   F|          Manaus|                null|       null|        null|               null|             null|               12|2020| 11| 23|    8|\n",
            "|         1663|     12539|      8232779|2020-12-03|  6|  1|NOME_12539| true| true|  Ouro|   F|          Recife|    BANANA NANICA KG| PERECIVEIS|       F L V|             FRUTAS|                 |               13|2020| 12|  3|    6|\n",
            "|         1663|     14173|      7916639|2020-09-22|  7|  1|NOME_14173| true|false|  Ouro|   F|  Rio de Janeiro|    BANANA NANICA KG| PERECIVEIS|       F L V|             FRUTAS|                 |               15|2020|  9| 22|    7|\n",
            "|7897001010014|      1364|      8121027|2020-11-07| 15|  2|NOME_n1364| true| true|  Ouro|   F|          Manaus|                null|       null|        null|               null|             null|               17|2020| 11|  7|   30|\n",
            "|         5623|      1324|      8308469|2020-12-19|  5|  1|NOME_r1324| true| true|  Ouro|   F|     Campo Largo|  CEBOLA NACIONAL KG| PERECIVEIS|       F L V|             CEBOLA|                 |               19|2020| 12| 19|    5|\n",
            "|         4099|      1324|      8308469|2020-12-19| 16|  1|NOME_r1324| true| true|  Ouro|   F|     Campo Largo|FILE FRANGO A GRA...| PERECIVEIS|     ACOUGUE|               AVES|                 |               20|2020| 12| 19|   16|\n",
            "|          574|      1455|      8332789|2020-12-24|  4|  1|NOME_l1455| true| true|  Ouro|   F|  Belo Horizonte|     BATATA EXTRA KG| PERECIVEIS|       F L V|TUBERCULOS E RAIZES|                 |               21|2020| 12| 24|    4|\n",
            "|7896086421982|     12539|      7978124|2020-10-06| 21|  3|NOME_12539| true| true|  Ouro|   F|          Recife|                null|       null|        null|               null|             null|               23|2020| 10|  6|   63|\n",
            "|          574|     12539|      8057953|2020-10-24| 27|  7|NOME_12539| true| true|  Ouro|   F|          Recife|     BATATA EXTRA KG| PERECIVEIS|       F L V|TUBERCULOS E RAIZES|                 |               24|2020| 10| 24|  189|\n",
            "|         2257|      2354|      8060082|2020-10-24| 31|  1|NOME_l2354|false|false|  Ouro|   F|     Campo Largo|  COXAO DURO KG BIFE| PERECIVEIS|     ACOUGUE|       CARNE BOVINA|                 |               25|2020| 10| 24|   31|\n",
            "|         4099|      1455|      7964238|2020-10-03| 49|  4|NOME_l1455| true| true|  Ouro|   F|  Belo Horizonte|FILE FRANGO A GRA...| PERECIVEIS|     ACOUGUE|               AVES|                 |               26|2020| 10|  3|  196|\n",
            "|         3690|      6505|      8149123|2020-11-14|  5|  1|NOME_i6505| true|false|  Ouro|   F|  Rio de Janeiro| TOMATE PIZZADORO KG| PERECIVEIS|       F L V|            LEGUMES|                 |               27|2020| 11| 14|    5|\n",
            "|         8555|      2354|      8276389|2020-12-12|  3|  0|NOME_l2354|false|false|  Ouro|   F|     Campo Largo|PAO DA CASA FRANC...| PERECIVEIS|PADARIA LOJA|      PRODUCAO PAES|                 |               28|2020| 12| 12|    0|\n",
            "+-------------+----------+-------------+----------+---+---+----------+-----+-----+------+----+----------------+--------------------+-----------+------------+-------------------+-----------------+-----------------+----+---+---+-----+\n",
            "only showing top 20 rows\n",
            "\n"
          ]
        }
      ]
    },
    {
      "cell_type": "code",
      "source": [
        "# grave esse dataframe no formato json “venda_mulher”. (df.write.format(“json”).save(“venda_mulher”)).\n",
        "df_mulheres.write.format(\"json\").save(\"venda_mulher\")"
      ],
      "metadata": {
        "id": "0YLwSV40qQcH"
      },
      "execution_count": 77,
      "outputs": []
    },
    {
      "cell_type": "code",
      "source": [
        "# Crie um dataframe chamado “venda_unicas”, selecionando todas as colunas e filtrando apenas vendas com a qtd igual 1 e o vlr menor que 10. \n",
        "df_venda_unicas = df.where((df.qtd  == 1) & (df.vlr  < 10))\n",
        "df_venda_unicas.show()"
      ],
      "metadata": {
        "colab": {
          "base_uri": "https://localhost:8080/"
        },
        "id": "GQGOqxKcqRBy",
        "outputId": "6f3ff8b6-10d4-4238-c4a5-2391cf7b04ee"
      },
      "execution_count": 90,
      "outputs": [
        {
          "output_type": "stream",
          "name": "stdout",
          "text": [
            "+-------------+----------+-------------+----------+---+---+----------+-----+-----+------+----+--------------+--------------------+-----------+------------+-------------------+-----------------+-----------------+----+---+---+-----+\n",
            "|      cod_ean|cod_pessoa|cod_transacao|      data|vlr|qtd|      nome|  sms|email|classe|sexo|        cidade|         des_produto|des_familia|   des_secao|      des_categoria|des_sub_categoria|__index_level_0__| ano|mes|dia|total|\n",
            "+-------------+----------+-------------+----------+---+---+----------+-----+-----+------+----+--------------+--------------------+-----------+------------+-------------------+-----------------+-----------------+----+---+---+-----+\n",
            "|         8555|      6505|      8301911|2020-12-18|  6|  1|NOME_i6505| true|false|  Ouro|   F|Rio de Janeiro|PAO DA CASA FRANC...| PERECIVEIS|PADARIA LOJA|      PRODUCAO PAES|                 |                2|2020| 12| 18|    6|\n",
            "|         3690|      3618|      8025931|2020-10-17|  3|  1|NOME_e3618| true| true|  Ouro|   F|        Manaus| TOMATE PIZZADORO KG| PERECIVEIS|       F L V|            LEGUMES|                 |                7|2020| 10| 17|    3|\n",
            "|         5623|      4860|      8026361|2020-10-17|  3|  1|NOME_a4860| true|false|  Ouro|   F|        Manaus|  CEBOLA NACIONAL KG| PERECIVEIS|       F L V|             CEBOLA|                 |                8|2020| 10| 17|    3|\n",
            "|7897001010014|     23881|      8188049|2020-11-23|  8|  1|NOME_23881| true|false|  Ouro|   F|        Manaus|                null|       null|        null|               null|             null|               12|2020| 11| 23|    8|\n",
            "|         1663|     12539|      8232779|2020-12-03|  6|  1|NOME_12539| true| true|  Ouro|   F|        Recife|    BANANA NANICA KG| PERECIVEIS|       F L V|             FRUTAS|                 |               13|2020| 12|  3|    6|\n",
            "|         1663|     14173|      7916639|2020-09-22|  7|  1|NOME_14173| true|false|  Ouro|   F|Rio de Janeiro|    BANANA NANICA KG| PERECIVEIS|       F L V|             FRUTAS|                 |               15|2020|  9| 22|    7|\n",
            "|         5623|     23792|      8136281|2020-11-11|  5|  1|      null|false| null|  null|null|          null|  CEBOLA NACIONAL KG| PERECIVEIS|       F L V|             CEBOLA|                 |               18|2020| 11| 11|    5|\n",
            "|         5623|      1324|      8308469|2020-12-19|  5|  1|NOME_r1324| true| true|  Ouro|   F|   Campo Largo|  CEBOLA NACIONAL KG| PERECIVEIS|       F L V|             CEBOLA|                 |               19|2020| 12| 19|    5|\n",
            "|          574|      1455|      8332789|2020-12-24|  4|  1|NOME_l1455| true| true|  Ouro|   F|Belo Horizonte|     BATATA EXTRA KG| PERECIVEIS|       F L V|TUBERCULOS E RAIZES|                 |               21|2020| 12| 24|    4|\n",
            "|         3690|      6505|      8149123|2020-11-14|  5|  1|NOME_i6505| true|false|  Ouro|   F|Rio de Janeiro| TOMATE PIZZADORO KG| PERECIVEIS|       F L V|            LEGUMES|                 |               27|2020| 11| 14|    5|\n",
            "|         1717|     39243|      8353814|2020-12-29|  4|  1|NOME_39243| true|false| Prata|   F|      Campinas|          CENOURA KG| PERECIVEIS|       F L V|TUBERCULOS E RAIZES|                 |               35|2020| 12| 29|    4|\n",
            "|         3690|     37297|      8368774|2020-12-31|  3|  1|      null|false| null|  null|null|          null| TOMATE PIZZADORO KG| PERECIVEIS|       F L V|            LEGUMES|                 |               45|2020| 12| 31|    3|\n",
            "|7894900011517|     20417|      7942369|2020-09-28|  7|  1|NOME_20417| true|false|  Ouro|   F|      Curitiba|                null|       null|        null|               null|             null|               46|2020|  9| 28|    7|\n",
            "|         5623|      5758|      8017169|2020-10-15|  2|  1|NOME_a5758| true| true|  Ouro|   F|  Campo Alegre|  CEBOLA NACIONAL KG| PERECIVEIS|       F L V|             CEBOLA|                 |               47|2020| 10| 15|    2|\n",
            "|         8555|      5048|      8264232|2020-12-10|  9|  1|NOME_e5048| true|false|  Ouro|   F|      Salvador|PAO DA CASA FRANC...| PERECIVEIS|PADARIA LOJA|      PRODUCAO PAES|                 |               59|2020| 12| 10|    9|\n",
            "|         8555|      6505|      8012774|2020-10-14|  5|  1|NOME_i6505| true|false|  Ouro|   F|Rio de Janeiro|PAO DA CASA FRANC...| PERECIVEIS|PADARIA LOJA|      PRODUCAO PAES|                 |               60|2020| 10| 14|    5|\n",
            "|         3690|      6505|      8012774|2020-10-14|  4|  1|NOME_i6505| true|false|  Ouro|   F|Rio de Janeiro| TOMATE PIZZADORO KG| PERECIVEIS|       F L V|            LEGUMES|                 |               61|2020| 10| 14|    4|\n",
            "|         3690|      1324|      8154077|2020-11-15|  3|  1|NOME_r1324| true| true|  Ouro|   F|   Campo Largo| TOMATE PIZZADORO KG| PERECIVEIS|       F L V|            LEGUMES|                 |               72|2020| 11| 15|    3|\n",
            "|7898187830052|      5758|      6523352|2019-11-26|  8|  1|NOME_a5758| true| true|  Ouro|   F|  Campo Alegre|ACUCAR CRISTAL SA...|  MERCEARIA|   ALTO GIRO|             ACUCAR|                 |               77|2019| 11| 26|    8|\n",
            "|7898908522082|      2274|      6524332|2019-11-26|  4|  1|NOME_e2274| true|false|  Ouro|   M|        Manaus|                null|       null|        null|               null|             null|               78|2019| 11| 26|    4|\n",
            "+-------------+----------+-------------+----------+---+---+----------+-----+-----+------+----+--------------+--------------------+-----------+------------+-------------------+-----------------+-----------------+----+---+---+-----+\n",
            "only showing top 20 rows\n",
            "\n"
          ]
        }
      ]
    },
    {
      "cell_type": "code",
      "source": [
        "# Grave esse dataframe no formato csv “venda_unica”. (df.write.format(“csv”).save(“venda_unica”)).\n",
        "df_venda_unicas.write.format(\"csv\").save(\"venda_unica\")"
      ],
      "metadata": {
        "id": "TCS_oaMmtCbW"
      },
      "execution_count": 92,
      "outputs": []
    }
  ]
}