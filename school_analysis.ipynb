{
  "nbformat": 4,
  "nbformat_minor": 0,
  "metadata": {
    "colab": {
      "provenance": []
    },
    "kernelspec": {
      "name": "python3",
      "display_name": "Python 3"
    },
    "language_info": {
      "name": "python"
    }
  },
  "cells": [
    {
      "cell_type": "markdown",
      "source": [
        "# PySpark - Alcoolismo no Ensino Médio e Desempenho Acadêmico\n"
      ],
      "metadata": {
        "id": "Yza-FdJGlq2c"
      }
    },
    {
      "cell_type": "markdown",
      "source": [
        "## Instalando o pyspark"
      ],
      "metadata": {
        "id": "Z2iUTUEnlw2o"
      }
    },
    {
      "cell_type": "code",
      "source": [
        "!pip install pyspark"
      ],
      "metadata": {
        "colab": {
          "base_uri": "https://localhost:8080/"
        },
        "id": "bPSHKZlYlw7J",
        "outputId": "8fbe70cb-b87f-4026-cb3f-4930870f7f29"
      },
      "execution_count": null,
      "outputs": [
        {
          "output_type": "stream",
          "name": "stdout",
          "text": [
            "Collecting pyspark\n",
            "  Downloading pyspark-3.5.0.tar.gz (316.9 MB)\n",
            "\u001b[2K     \u001b[90m━━━━━━━━━━━━━━━━━━━━━━━━━━━━━━━━━━━━━━━━\u001b[0m \u001b[32m316.9/316.9 MB\u001b[0m \u001b[31m2.6 MB/s\u001b[0m eta \u001b[36m0:00:00\u001b[0m\n",
            "\u001b[?25h  Preparing metadata (setup.py) ... \u001b[?25l\u001b[?25hdone\n",
            "Requirement already satisfied: py4j==0.10.9.7 in /usr/local/lib/python3.10/dist-packages (from pyspark) (0.10.9.7)\n",
            "Building wheels for collected packages: pyspark\n",
            "  Building wheel for pyspark (setup.py) ... \u001b[?25l\u001b[?25hdone\n",
            "  Created wheel for pyspark: filename=pyspark-3.5.0-py2.py3-none-any.whl size=317425345 sha256=10de5fc08acc6d84755e352c3406f759a555f0d103516079056e606b9bbceda2\n",
            "  Stored in directory: /root/.cache/pip/wheels/41/4e/10/c2cf2467f71c678cfc8a6b9ac9241e5e44a01940da8fbb17fc\n",
            "Successfully built pyspark\n",
            "Installing collected packages: pyspark\n",
            "Successfully installed pyspark-3.5.0\n"
          ]
        }
      ]
    },
    {
      "cell_type": "markdown",
      "source": [
        "## Importando as libs"
      ],
      "metadata": {
        "id": "0if7KX7Ylw_h"
      }
    },
    {
      "cell_type": "code",
      "source": [
        "import pyspark\n",
        "from pyspark.sql import SparkSession\n",
        "from pyspark.sql.types import (StructField,\n",
        "                               StructType,\n",
        "                               StringType,\n",
        "                               IntegerType)\n",
        "from pyspark.sql import functions as F\n",
        "import pandas as pd"
      ],
      "metadata": {
        "id": "FFgW3s1ZlxDa"
      },
      "execution_count": null,
      "outputs": []
    },
    {
      "cell_type": "markdown",
      "source": [
        "## Criando a Sessão"
      ],
      "metadata": {
        "id": "ltdNiLhQlxG_"
      }
    },
    {
      "cell_type": "code",
      "source": [
        "spark = (\n",
        "    SparkSession\\\n",
        "    .builder\\\n",
        "    .master('local')\\\n",
        "    .appName('school_analysis')\\\n",
        "    .getOrCreate()\n",
        ")"
      ],
      "metadata": {
        "id": "33BETFtXlxKz"
      },
      "execution_count": null,
      "outputs": []
    },
    {
      "cell_type": "markdown",
      "source": [
        "## Criando o Schema"
      ],
      "metadata": {
        "id": "3bsBCKBllxOl"
      }
    },
    {
      "cell_type": "code",
      "source": [
        "schema_ = StructType([\n",
        "    StructField('escola', StringType(), nullable = True),\n",
        "    StructField('sexo', StringType(), nullable = True),\n",
        "    StructField('idade', IntegerType(), nullable = True),\n",
        "    StructField('tp_moradia', StringType(), nullable = True),\n",
        "    StructField('tamanho_familia', StringType(), nullable = True),\n",
        "    StructField('situacao_pais', StringType(), nullable = True),\n",
        "    StructField('educacao_mae', StringType(), nullable = True),\n",
        "    StructField('educacao_pai', StringType(), nullable = True),\n",
        "    StructField('trabalho_mae', StringType(), nullable = True),\n",
        "    StructField('trabalho_pai', StringType(), nullable = True),\n",
        "    StructField('motivo_escolha_escolar', StringType(), nullable = True),\n",
        "    StructField('responsavel_legal', StringType(), nullable = True),\n",
        "    StructField('tempo_ida_escola', StringType(), nullable = True),\n",
        "    StructField('tempo_estudo_semanal', StringType(), nullable = True),\n",
        "    StructField('apoio_educacao_extra', StringType(), nullable = True),\n",
        "    StructField('apoio_educacao_pais', StringType(), nullable = True),\n",
        "    StructField('aulas_particulares', StringType(), nullable = True),\n",
        "    StructField('atividade_extracurricular', StringType(), nullable = True),\n",
        "    StructField('frequentou_creche', StringType(), nullable = True),\n",
        "    StructField('quer_fazer_graduacao', StringType(), nullable = True),\n",
        "    StructField('tem_internet', StringType(), nullable = True),\n",
        "    StructField('namorando', StringType(), nullable = True),\n",
        "    StructField('boa_convivencia_familiar', StringType(), nullable = True),\n",
        "    StructField('tempo_livre_apos_escola', StringType(), nullable = True),\n",
        "    StructField('tempo_com_amigos', StringType(), nullable = True),\n",
        "    StructField('alcool_dia_util', StringType(), nullable = True),\n",
        "    StructField('alcool_fim_semana', StringType(), nullable = True),\n",
        "    StructField('estado_saude', StringType(), nullable = True),\n",
        "    StructField('falta_escolar', IntegerType(), nullable = True),\n",
        "    StructField('nota_1semestre', IntegerType(), nullable = True),\n",
        "    StructField('nota_2semestre', IntegerType(), nullable = True)\n",
        "])"
      ],
      "metadata": {
        "id": "zjKMn-7BlxSm"
      },
      "execution_count": null,
      "outputs": []
    },
    {
      "cell_type": "markdown",
      "source": [
        "## Importando o dataset"
      ],
      "metadata": {
        "id": "NaBiFvgZlxWF"
      }
    },
    {
      "cell_type": "code",
      "source": [
        "df = spark\\\n",
        "    .read\\\n",
        "    .format('csv')\\\n",
        "    .option('header', 'true')\\\n",
        "    .schema(schema_)\\\n",
        "    .load('/content/lpor_explorer.csv')"
      ],
      "metadata": {
        "id": "fL1cOyoalxZ_"
      },
      "execution_count": null,
      "outputs": []
    },
    {
      "cell_type": "markdown",
      "source": [
        "## Tratamento dos Dados"
      ],
      "metadata": {
        "id": "yFhIpBBnveAa"
      }
    },
    {
      "cell_type": "markdown",
      "source": [
        "### Verificando os dados 5 primeiros dados"
      ],
      "metadata": {
        "id": "EQ9Wmtil3MJI"
      }
    },
    {
      "cell_type": "code",
      "source": [
        "df.show(5)"
      ],
      "metadata": {
        "colab": {
          "base_uri": "https://localhost:8080/"
        },
        "id": "udXrtdC73J3f",
        "outputId": "031dee4b-93b2-4565-84b0-d203a0f81c9b"
      },
      "execution_count": null,
      "outputs": [
        {
          "output_type": "stream",
          "name": "stdout",
          "text": [
            "+---------------+------+-----+----------+---------------+--------------+--------------------+--------------------+------------+------------+----------------------+-----------------+----------------+--------------------+--------------------+-------------------+------------------+-------------------------+-----------------+--------------------+------------+---------+------------------------+-----------------------+----------------+---------------+-----------------+------------+-------------+--------------+--------------+\n",
            "|         escola|  sexo|idade|tp_moradia|tamanho_familia| situacao_pais|        educacao_mae|        educacao_pai|trabalho_mae|trabalho_pai|motivo_escolha_escolar|responsavel_legal|tempo_ida_escola|tempo_estudo_semanal|apoio_educacao_extra|apoio_educacao_pais|aulas_particulares|atividade_extracurricular|frequentou_creche|quer_fazer_graduacao|tem_internet|namorando|boa_convivencia_familiar|tempo_livre_apos_escola|tempo_com_amigos|alcool_dia_util|alcool_fim_semana|estado_saude|falta_escolar|nota_1semestre|nota_2semestre|\n",
            "+---------------+------+-----+----------+---------------+--------------+--------------------+--------------------+------------+------------+----------------------+-----------------+----------------+--------------------+--------------------+-------------------+------------------+-------------------------+-----------------+--------------------+------------+---------+------------------------+-----------------------+----------------+---------------+-----------------+------------+-------------+--------------+--------------+\n",
            "|Gabriel Pereira|Mulher|   18|    Urbano|     Acima de 3|     Separados|     Ensino Superior|     Ensino Superior|      Do Lar|   Professor|  Preferência pelo ...|              Mãe|     15 a 30 min|              2 a 5h|                 Sim|                Não|               Não|                      Não|              Sim|                 Sim|         Não|      Não|                     Bom|               Moderado|            Alto|    Muito Baixo|      Muito Baixo|    Razoavel|            4|             0|            11|\n",
            "|Gabriel Pereira|Mulher|   17|    Urbano|     Acima de 3|Morando Juntos|Ensino Fundamental 1|Ensino Fundamental 1|      Do Lar|       other|  Preferência pelo ...|              Pai|      Até 15 min|              2 a 5h|                 Não|                Sim|               Não|                      Não|              Não|                 Sim|         Sim|      Não|               Excelente|               Moderado|        Moderado|    Muito Baixo|      Muito Baixo|    Razoavel|            2|             9|            11|\n",
            "|Gabriel Pereira|Mulher|   15|    Urbano|          Até 3|Morando Juntos|Ensino Fundamental 1|Ensino Fundamental 1|      Do Lar|       other|                 Outro|              Mãe|      Até 15 min|              2 a 5h|                 Sim|                Não|               Não|                      Não|              Sim|                 Sim|         Sim|      Não|                     Bom|               Moderado|           Baixo|          Baixo|         Moderado|    Razoavel|            6|            12|            13|\n",
            "|Gabriel Pereira|Mulher|   15|    Urbano|     Acima de 3|Morando Juntos|     Ensino Superior|Ensino Fundamental 2|       Saúde|    Serviços|         Perto de Casa|              Mãe|      Até 15 min|             5 a 10h|                 Não|                Sim|               Não|                      Sim|              Sim|                 Sim|         Sim|      Sim|                Razoavel|                  Baixo|           Baixo|    Muito Baixo|      Muito Baixo|   Muito Bom|            0|            14|            14|\n",
            "|Gabriel Pereira|Mulher|   16|    Urbano|     Acima de 3|Morando Juntos|        Ensino Médio|        Ensino Médio|       other|       other|         Perto de Casa|              Pai|      Até 15 min|              2 a 5h|                 Não|                Sim|               Não|                      Não|              Sim|                 Sim|         Não|      Não|                     Bom|               Moderado|           Baixo|    Muito Baixo|            Baixo|   Muito Bom|            0|            11|            13|\n",
            "+---------------+------+-----+----------+---------------+--------------+--------------------+--------------------+------------+------------+----------------------+-----------------+----------------+--------------------+--------------------+-------------------+------------------+-------------------------+-----------------+--------------------+------------+---------+------------------------+-----------------------+----------------+---------------+-----------------+------------+-------------+--------------+--------------+\n",
            "only showing top 5 rows\n",
            "\n"
          ]
        }
      ]
    },
    {
      "cell_type": "markdown",
      "source": [
        "### Verificando a quantidade de dados únicos de cada coluna"
      ],
      "metadata": {
        "id": "2AgiLiIOlxdz"
      }
    },
    {
      "cell_type": "markdown",
      "source": [
        "#### Exemplo 1"
      ],
      "metadata": {
        "id": "XitKzgakKTb6"
      }
    },
    {
      "cell_type": "code",
      "source": [
        "(\n",
        "    df\n",
        "    .select(F.col('escola'))\n",
        "    .groupBy('escola')\n",
        "    .count()\n",
        "    .show()\n",
        ")"
      ],
      "metadata": {
        "colab": {
          "base_uri": "https://localhost:8080/"
        },
        "id": "3sHjexsJlxhy",
        "outputId": "dc63a563-1d2c-400f-9cda-89732b154a85"
      },
      "execution_count": null,
      "outputs": [
        {
          "output_type": "stream",
          "name": "stdout",
          "text": [
            "+--------------------+-----+\n",
            "|              escola|count|\n",
            "+--------------------+-----+\n",
            "|Mousinho da Silveira|  226|\n",
            "|     Gabriel Pereira|  423|\n",
            "+--------------------+-----+\n",
            "\n"
          ]
        }
      ]
    },
    {
      "cell_type": "markdown",
      "source": [
        "#### Exemplo 2"
      ],
      "metadata": {
        "id": "lhPfz4SwKV9n"
      }
    },
    {
      "cell_type": "code",
      "source": [
        "(\n",
        "    df\n",
        "    .groupBy('escola')\n",
        "    .agg(F.count('escola').alias('qtd. alunos'))\n",
        ").show()"
      ],
      "metadata": {
        "colab": {
          "base_uri": "https://localhost:8080/"
        },
        "id": "4-P-9HE1ENUp",
        "outputId": "2b3d9878-eee3-40bd-ef6d-862915fb288a"
      },
      "execution_count": null,
      "outputs": [
        {
          "output_type": "stream",
          "name": "stdout",
          "text": [
            "+--------------------+-----------+\n",
            "|              escola|qtd. alunos|\n",
            "+--------------------+-----------+\n",
            "|Mousinho da Silveira|        226|\n",
            "|     Gabriel Pereira|        423|\n",
            "+--------------------+-----------+\n",
            "\n"
          ]
        }
      ]
    },
    {
      "cell_type": "markdown",
      "source": [
        "#### Exemplo 3"
      ],
      "metadata": {
        "id": "mQ4j0FkdMdXj"
      }
    },
    {
      "cell_type": "code",
      "source": [
        "for coluna in df.columns:\n",
        "    '''Retorna um DataFrame com o nome e a qtd. de dados únicos\n",
        "    coluna: str\n",
        "    '''\n",
        "    print('*' * 10, coluna.upper(), '*' * 10)\n",
        "    (\n",
        "        df\n",
        "        .groupBy(coluna)\n",
        "        .agg(F.count(coluna).alias(f'qtd'))\n",
        "    ).show()"
      ],
      "metadata": {
        "colab": {
          "base_uri": "https://localhost:8080/"
        },
        "id": "F0f2SKfAMdev",
        "outputId": "e0491e15-fa57-4fbc-8954-eee31b722dd1"
      },
      "execution_count": null,
      "outputs": [
        {
          "output_type": "stream",
          "name": "stdout",
          "text": [
            "********** ESCOLA **********\n",
            "+--------------------+---+\n",
            "|              escola|qtd|\n",
            "+--------------------+---+\n",
            "|Mousinho da Silveira|226|\n",
            "|     Gabriel Pereira|423|\n",
            "+--------------------+---+\n",
            "\n",
            "********** SEXO **********\n",
            "+------+---+\n",
            "|  sexo|qtd|\n",
            "+------+---+\n",
            "| Homem|266|\n",
            "|Mulher|383|\n",
            "+------+---+\n",
            "\n",
            "********** IDADE **********\n",
            "+-----+---+\n",
            "|idade|qtd|\n",
            "+-----+---+\n",
            "|   22|  1|\n",
            "|   16|177|\n",
            "|   20|  6|\n",
            "|   19| 32|\n",
            "|   15|112|\n",
            "|   17|179|\n",
            "|   21|  2|\n",
            "|   18|140|\n",
            "+-----+---+\n",
            "\n",
            "********** TP_MORADIA **********\n",
            "+----------+---+\n",
            "|tp_moradia|qtd|\n",
            "+----------+---+\n",
            "|    Urbano|452|\n",
            "|     Rural|197|\n",
            "+----------+---+\n",
            "\n",
            "********** TAMANHO_FAMILIA **********\n",
            "+---------------+---+\n",
            "|tamanho_familia|qtd|\n",
            "+---------------+---+\n",
            "|          Até 3|192|\n",
            "|     Acima de 3|457|\n",
            "+---------------+---+\n",
            "\n",
            "********** SITUACAO_PAIS **********\n",
            "+--------------+---+\n",
            "| situacao_pais|qtd|\n",
            "+--------------+---+\n",
            "|     Separados| 80|\n",
            "|Morando Juntos|569|\n",
            "+--------------+---+\n",
            "\n",
            "********** EDUCACAO_MAE **********\n",
            "+--------------------+---+\n",
            "|        educacao_mae|qtd|\n",
            "+--------------------+---+\n",
            "|     Ensino Superior|175|\n",
            "|Ensino Fundamental 1|143|\n",
            "|             Nenhuma|  6|\n",
            "|        Ensino Médio|139|\n",
            "|Ensino Fundamental 2|186|\n",
            "+--------------------+---+\n",
            "\n",
            "********** EDUCACAO_PAI **********\n",
            "+--------------------+---+\n",
            "|        educacao_pai|qtd|\n",
            "+--------------------+---+\n",
            "|     Ensino Superior|128|\n",
            "|Ensino Fundamental 1|174|\n",
            "|             Nenhuma|  7|\n",
            "|        Ensino Médio|131|\n",
            "|Ensino Fundamental 2|209|\n",
            "+--------------------+---+\n",
            "\n",
            "********** TRABALHO_MAE **********\n",
            "+------------+---+\n",
            "|trabalho_mae|qtd|\n",
            "+------------+---+\n",
            "|       other|258|\n",
            "|      Do Lar|135|\n",
            "|       Saúde| 48|\n",
            "|   Professor| 72|\n",
            "|    Serviços|136|\n",
            "+------------+---+\n",
            "\n",
            "********** TRABALHO_PAI **********\n",
            "+------------+---+\n",
            "|trabalho_pai|qtd|\n",
            "+------------+---+\n",
            "|       other|367|\n",
            "|      Do Lar| 42|\n",
            "|       Saúde| 23|\n",
            "|   Professor| 36|\n",
            "|    Serviços|181|\n",
            "+------------+---+\n",
            "\n",
            "********** MOTIVO_ESCOLHA_ESCOLAR **********\n",
            "+----------------------+---+\n",
            "|motivo_escolha_escolar|qtd|\n",
            "+----------------------+---+\n",
            "|             Reputação|143|\n",
            "|  Preferência pelo ...|285|\n",
            "|                 Outro| 72|\n",
            "|         Perto de Casa|149|\n",
            "+----------------------+---+\n",
            "\n",
            "********** RESPONSAVEL_LEGAL **********\n",
            "+-----------------+---+\n",
            "|responsavel_legal|qtd|\n",
            "+-----------------+---+\n",
            "|              Mãe|455|\n",
            "|              Pai|153|\n",
            "|            Outro| 41|\n",
            "+-----------------+---+\n",
            "\n",
            "********** TEMPO_IDA_ESCOLA **********\n",
            "+----------------+---+\n",
            "|tempo_ida_escola|qtd|\n",
            "+----------------+---+\n",
            "|     15 a 30 min|213|\n",
            "|     30 min a 1h| 54|\n",
            "|      Até 15 min|366|\n",
            "|      Mais de 1h| 16|\n",
            "+----------------+---+\n",
            "\n",
            "********** TEMPO_ESTUDO_SEMANAL **********\n",
            "+--------------------+---+\n",
            "|tempo_estudo_semanal|qtd|\n",
            "+--------------------+---+\n",
            "|         Mais de 10h| 35|\n",
            "|             Até 2h,|212|\n",
            "|              2 a 5h|305|\n",
            "|             5 a 10h| 97|\n",
            "+--------------------+---+\n",
            "\n",
            "********** APOIO_EDUCACAO_EXTRA **********\n",
            "+--------------------+---+\n",
            "|apoio_educacao_extra|qtd|\n",
            "+--------------------+---+\n",
            "|                 Não|581|\n",
            "|                 Sim| 68|\n",
            "+--------------------+---+\n",
            "\n",
            "********** APOIO_EDUCACAO_PAIS **********\n",
            "+-------------------+---+\n",
            "|apoio_educacao_pais|qtd|\n",
            "+-------------------+---+\n",
            "|                Não|251|\n",
            "|                Sim|398|\n",
            "+-------------------+---+\n",
            "\n",
            "********** AULAS_PARTICULARES **********\n",
            "+------------------+---+\n",
            "|aulas_particulares|qtd|\n",
            "+------------------+---+\n",
            "|               Não|610|\n",
            "|               Sim| 39|\n",
            "+------------------+---+\n",
            "\n",
            "********** ATIVIDADE_EXTRACURRICULAR **********\n",
            "+-------------------------+---+\n",
            "|atividade_extracurricular|qtd|\n",
            "+-------------------------+---+\n",
            "|                      Não|334|\n",
            "|                      Sim|315|\n",
            "+-------------------------+---+\n",
            "\n",
            "********** FREQUENTOU_CRECHE **********\n",
            "+-----------------+---+\n",
            "|frequentou_creche|qtd|\n",
            "+-----------------+---+\n",
            "|              Não|128|\n",
            "|              Sim|521|\n",
            "+-----------------+---+\n",
            "\n",
            "********** QUER_FAZER_GRADUACAO **********\n",
            "+--------------------+---+\n",
            "|quer_fazer_graduacao|qtd|\n",
            "+--------------------+---+\n",
            "|                 Não| 69|\n",
            "|                 Sim|580|\n",
            "+--------------------+---+\n",
            "\n",
            "********** TEM_INTERNET **********\n",
            "+------------+---+\n",
            "|tem_internet|qtd|\n",
            "+------------+---+\n",
            "|         Não|151|\n",
            "|         Sim|498|\n",
            "+------------+---+\n",
            "\n",
            "********** NAMORANDO **********\n",
            "+---------+---+\n",
            "|namorando|qtd|\n",
            "+---------+---+\n",
            "|      Não|410|\n",
            "|      Sim|239|\n",
            "+---------+---+\n",
            "\n",
            "********** BOA_CONVIVENCIA_FAMILIAR **********\n",
            "+------------------------+---+\n",
            "|boa_convivencia_familiar|qtd|\n",
            "+------------------------+---+\n",
            "|                     Bom|317|\n",
            "|               Excelente|180|\n",
            "|              Muito Ruim| 22|\n",
            "|                Razoavel|101|\n",
            "|                    Ruim| 29|\n",
            "+------------------------+---+\n",
            "\n",
            "********** TEMPO_LIVRE_APOS_ESCOLA **********\n",
            "+-----------------------+---+\n",
            "|tempo_livre_apos_escola|qtd|\n",
            "+-----------------------+---+\n",
            "|               Moderado|251|\n",
            "|                  Baixo|107|\n",
            "|                   Alto|178|\n",
            "|            Muito Baixo| 45|\n",
            "|             Muito Alto| 68|\n",
            "+-----------------------+---+\n",
            "\n",
            "********** TEMPO_COM_AMIGOS **********\n",
            "+----------------+---+\n",
            "|tempo_com_amigos|qtd|\n",
            "+----------------+---+\n",
            "|        Moderado|205|\n",
            "|           Baixo|145|\n",
            "|            Alto|141|\n",
            "|     Muito Baixo| 48|\n",
            "|      Muito Alto|110|\n",
            "+----------------+---+\n",
            "\n",
            "********** ALCOOL_DIA_UTIL **********\n",
            "+---------------+---+\n",
            "|alcool_dia_util|qtd|\n",
            "+---------------+---+\n",
            "|       Moderado| 43|\n",
            "|          Baixo|121|\n",
            "|    Muito Baixo|451|\n",
            "|           Alto| 17|\n",
            "|     Muito Alto| 17|\n",
            "+---------------+---+\n",
            "\n",
            "********** ALCOOL_FIM_SEMANA **********\n",
            "+-----------------+---+\n",
            "|alcool_fim_semana|qtd|\n",
            "+-----------------+---+\n",
            "|         Moderado|120|\n",
            "|            Baixo|150|\n",
            "|      Muito Baixo|247|\n",
            "|             Alto| 87|\n",
            "|       Muito Alto| 45|\n",
            "+-----------------+---+\n",
            "\n",
            "********** ESTADO_SAUDE **********\n",
            "+------------+---+\n",
            "|estado_saude|qtd|\n",
            "+------------+---+\n",
            "|         Bom|108|\n",
            "|  Muito Ruim| 90|\n",
            "|    Razoavel|124|\n",
            "|   Muito Bom|249|\n",
            "|        Ruim| 78|\n",
            "+------------+---+\n",
            "\n",
            "********** FALTA_ESCOLAR **********\n",
            "+-------------+---+\n",
            "|falta_escolar|qtd|\n",
            "+-------------+---+\n",
            "|           26|  1|\n",
            "|           12| 12|\n",
            "|           22|  2|\n",
            "|            1| 12|\n",
            "|           13|  1|\n",
            "|            6| 49|\n",
            "|           16| 10|\n",
            "|            3|  7|\n",
            "|            5| 12|\n",
            "|           15|  2|\n",
            "|            9|  7|\n",
            "|            4| 93|\n",
            "|            8| 42|\n",
            "|            7|  3|\n",
            "|           10| 21|\n",
            "|           24|  1|\n",
            "|           21|  2|\n",
            "|           32|  1|\n",
            "|           11|  5|\n",
            "|           14|  8|\n",
            "+-------------+---+\n",
            "only showing top 20 rows\n",
            "\n",
            "********** NOTA_1SEMESTRE **********\n",
            "+--------------+---+\n",
            "|nota_1semestre|qtd|\n",
            "+--------------+---+\n",
            "|            12| 82|\n",
            "|            13| 72|\n",
            "|            16| 22|\n",
            "|             6|  9|\n",
            "|             5|  5|\n",
            "|            19|  1|\n",
            "|            15| 35|\n",
            "|             9| 65|\n",
            "|            17| 16|\n",
            "|             4|  2|\n",
            "|             8| 42|\n",
            "|             7| 33|\n",
            "|            10| 95|\n",
            "|            11| 91|\n",
            "|            14| 71|\n",
            "|             0|  1|\n",
            "|            18|  7|\n",
            "+--------------+---+\n",
            "\n",
            "********** NOTA_2SEMESTRE **********\n",
            "+--------------+---+\n",
            "|nota_2semestre|qtd|\n",
            "+--------------+---+\n",
            "|            12| 86|\n",
            "|            13| 80|\n",
            "|            16| 25|\n",
            "|             6|  7|\n",
            "|             5|  3|\n",
            "|            19|  1|\n",
            "|            15| 38|\n",
            "|            17| 20|\n",
            "|             9| 72|\n",
            "|             8| 40|\n",
            "|             7| 16|\n",
            "|            10| 83|\n",
            "|            11|103|\n",
            "|            14| 54|\n",
            "|             0|  7|\n",
            "|            18| 14|\n",
            "+--------------+---+\n",
            "\n"
          ]
        }
      ]
    },
    {
      "cell_type": "markdown",
      "source": [
        "#### Alterando os valores de algumas colunas"
      ],
      "metadata": {
        "id": "heCHVTLSlxll"
      }
    },
    {
      "cell_type": "code",
      "source": [
        "df.show(1)"
      ],
      "metadata": {
        "colab": {
          "base_uri": "https://localhost:8080/"
        },
        "id": "SqmUkVeslxpu",
        "outputId": "ce415207-4098-423a-cb69-9697e9aa2033"
      },
      "execution_count": null,
      "outputs": [
        {
          "output_type": "stream",
          "name": "stdout",
          "text": [
            "+---------------+------+-----+----------+---------------+-------------+---------------+---------------+------------+------------+----------------------+-----------------+----------------+--------------------+--------------------+-------------------+------------------+-------------------------+-----------------+--------------------+------------+---------+------------------------+-----------------------+----------------+---------------+-----------------+------------+-------------+--------------+--------------+\n",
            "|         escola|  sexo|idade|tp_moradia|tamanho_familia|situacao_pais|   educacao_mae|   educacao_pai|trabalho_mae|trabalho_pai|motivo_escolha_escolar|responsavel_legal|tempo_ida_escola|tempo_estudo_semanal|apoio_educacao_extra|apoio_educacao_pais|aulas_particulares|atividade_extracurricular|frequentou_creche|quer_fazer_graduacao|tem_internet|namorando|boa_convivencia_familiar|tempo_livre_apos_escola|tempo_com_amigos|alcool_dia_util|alcool_fim_semana|estado_saude|falta_escolar|nota_1semestre|nota_2semestre|\n",
            "+---------------+------+-----+----------+---------------+-------------+---------------+---------------+------------+------------+----------------------+-----------------+----------------+--------------------+--------------------+-------------------+------------------+-------------------------+-----------------+--------------------+------------+---------+------------------------+-----------------------+----------------+---------------+-----------------+------------+-------------+--------------+--------------+\n",
            "|Gabriel Pereira|Mulher|   18|    Urbano|     Acima de 3|    Separados|Ensino Superior|Ensino Superior|      Do Lar|   Professor|  Preferência pelo ...|              Mãe|     15 a 30 min|              2 a 5h|                 Sim|                Não|               Não|                      Não|              Sim|                 Sim|         Não|      Não|                     Bom|               Moderado|            Alto|    Muito Baixo|      Muito Baixo|    Razoavel|            4|             0|            11|\n",
            "+---------------+------+-----+----------+---------------+-------------+---------------+---------------+------------+------------+----------------------+-----------------+----------------+--------------------+--------------------+-------------------+------------------+-------------------------+-----------------+--------------------+------------+---------+------------------------+-----------------------+----------------+---------------+-----------------+------------+-------------+--------------+--------------+\n",
            "only showing top 1 row\n",
            "\n"
          ]
        }
      ]
    },
    {
      "cell_type": "code",
      "source": [
        "df = df.withColumn('sexo',\n",
        "                  F.when(F.col('sexo') == 'Mulher', 'M')\n",
        "                  .when(F.col('sexo') == 'Homem', 'H')\n",
        "                  .when(F.col('sexo').isNull(), \"O\")\n",
        "                  .otherwise(F.col('sexo')))\\\n",
        "      .withColumn('situacao_pais',\n",
        "                  F.when(F.col('situacao_pais') == 'Morando Juntos', 'Juntos')\n",
        "                  .otherwise(F.col('situacao_pais')))\\\n",
        "      .withColumn('trabalho_mae',\n",
        "                  F.when(F.col('trabalho_mae') == 'other', 'Outros')\n",
        "                  .otherwise(F.col('trabalho_mae')))\\\n",
        "      .withColumn('trabalho_pai',\n",
        "                  F.when(F.col('trabalho_pai') == 'other', 'Outros')\n",
        "                  .otherwise(F.col('trabalho_pai')))\\\n",
        "      .withColumn('tempo_estudo_semanal',\n",
        "                  F.when(F.col('tempo_estudo_semanal') == 'Até 2h,', 'Até 2h')\n",
        "                  .otherwise(F.col('tempo_estudo_semanal')))\n"
      ],
      "metadata": {
        "id": "RXiQvC8rPTAC"
      },
      "execution_count": null,
      "outputs": []
    },
    {
      "cell_type": "markdown",
      "source": [
        "## Análise dos Dados"
      ],
      "metadata": {
        "id": "2fOiNWOXlxtp"
      }
    },
    {
      "cell_type": "markdown",
      "source": [
        "### 1. Qual é o total de escolas registradas na tabela?"
      ],
      "metadata": {
        "id": "LFCFP87zIwky"
      }
    },
    {
      "cell_type": "code",
      "source": [
        "(\n",
        "    df\n",
        "    .select('escola')\n",
        "    .groupBy('escola')\n",
        "    .count()\n",
        "    .show()\n",
        ")"
      ],
      "metadata": {
        "colab": {
          "base_uri": "https://localhost:8080/"
        },
        "id": "Cyi0VpVKI2zD",
        "outputId": "bf308b51-72f9-4f19-90e3-bcbe996b3e29"
      },
      "execution_count": null,
      "outputs": [
        {
          "output_type": "stream",
          "name": "stdout",
          "text": [
            "+--------------------+-----+\n",
            "|              escola|count|\n",
            "+--------------------+-----+\n",
            "|Mousinho da Silveira|  226|\n",
            "|     Gabriel Pereira|  423|\n",
            "+--------------------+-----+\n",
            "\n"
          ]
        }
      ]
    },
    {
      "cell_type": "markdown",
      "source": [
        "### 2. Quantos alunos do sexo masculino foram entrevistados?"
      ],
      "metadata": {
        "id": "hEVFlBxEJ67e"
      }
    },
    {
      "cell_type": "code",
      "source": [
        "(\n",
        "    df\n",
        "    .filter(\n",
        "        F.col('sexo') == 'M'\n",
        "    )\n",
        "    .count()\n",
        ")"
      ],
      "metadata": {
        "colab": {
          "base_uri": "https://localhost:8080/"
        },
        "id": "_ehVOdaIJ7C4",
        "outputId": "8466cbb8-7f25-4145-8aba-84a1c293802e"
      },
      "execution_count": null,
      "outputs": [
        {
          "output_type": "execute_result",
          "data": {
            "text/plain": [
              "383"
            ]
          },
          "metadata": {},
          "execution_count": 80
        }
      ]
    },
    {
      "cell_type": "markdown",
      "source": [
        "### 3. Qual é a média de idade dos alunos entrevistados?"
      ],
      "metadata": {
        "id": "LaOAzdbMJ7I2"
      }
    },
    {
      "cell_type": "code",
      "source": [
        "(\n",
        "    df\n",
        "    .select(\n",
        "        F.mean('idade')\n",
        "        .alias('Média (idade)')\n",
        "    )\n",
        "    .show()\n",
        "    #.agg({'idade': 'mean'})\n",
        ")"
      ],
      "metadata": {
        "colab": {
          "base_uri": "https://localhost:8080/"
        },
        "id": "tE8pWN8XJ7Ot",
        "outputId": "0efcacac-0237-4f1e-e072-a929a38de67e"
      },
      "execution_count": null,
      "outputs": [
        {
          "output_type": "stream",
          "name": "stdout",
          "text": [
            "+----------------+\n",
            "|   Média (idade)|\n",
            "+----------------+\n",
            "|16.7442218798151|\n",
            "+----------------+\n",
            "\n"
          ]
        }
      ]
    },
    {
      "cell_type": "markdown",
      "source": [
        "### 4. Quantos alunos moram em áreas urbanas?"
      ],
      "metadata": {
        "id": "J_yz2ZfRJ7UR"
      }
    },
    {
      "cell_type": "code",
      "source": [
        "(\n",
        "    df\n",
        "    .filter(\n",
        "        F.col('tp_moradia') == 'Urbano'\n",
        "    )\n",
        "    .count()\n",
        ")"
      ],
      "metadata": {
        "colab": {
          "base_uri": "https://localhost:8080/"
        },
        "id": "e8Wnr4TkJ7Z8",
        "outputId": "24fa2c28-ae13-413a-cc56-9a80da94aa43"
      },
      "execution_count": null,
      "outputs": [
        {
          "output_type": "execute_result",
          "data": {
            "text/plain": [
              "452"
            ]
          },
          "metadata": {},
          "execution_count": 82
        }
      ]
    },
    {
      "cell_type": "markdown",
      "source": [
        "### 5. Qual é a proporção de alunos com tamanho de família acima de 3?"
      ],
      "metadata": {
        "id": "suEA8BKkNsrQ"
      }
    },
    {
      "cell_type": "code",
      "source": [
        "total_alunos = df.count()\n",
        "\n",
        "acima_de_3 = (\n",
        "    df.filter(\n",
        "        F.col('tamanho_familia') == 'Acima de 3'\n",
        "    )\n",
        "    .count()\n",
        ")\n",
        "\n",
        "proporcao = acima_de_3 / total_alunos\n",
        "print(f'{proporcao * 100:.2f}%')"
      ],
      "metadata": {
        "colab": {
          "base_uri": "https://localhost:8080/"
        },
        "id": "MaT11U7WNsxu",
        "outputId": "4ef96f7f-0c31-44a6-e314-872c63d76e21"
      },
      "execution_count": null,
      "outputs": [
        {
          "output_type": "stream",
          "name": "stdout",
          "text": [
            "70.42%\n"
          ]
        }
      ]
    },
    {
      "cell_type": "markdown",
      "source": [
        "### 6. Quantos alunos têm pais separados?"
      ],
      "metadata": {
        "id": "ONIQF8DcJ7fh"
      }
    },
    {
      "cell_type": "code",
      "source": [
        "(\n",
        "    df\n",
        "    .filter(\n",
        "        F.col('situacao_pais') == 'Separados'\n",
        "    )\n",
        "    .count()\n",
        ")"
      ],
      "metadata": {
        "colab": {
          "base_uri": "https://localhost:8080/"
        },
        "id": "i0znDVDcP_lE",
        "outputId": "7f8de912-3e76-4718-87fa-102a9f5f87f4"
      },
      "execution_count": null,
      "outputs": [
        {
          "output_type": "execute_result",
          "data": {
            "text/plain": [
              "80"
            ]
          },
          "metadata": {},
          "execution_count": 84
        }
      ]
    },
    {
      "cell_type": "markdown",
      "source": [
        "### 7. Qual é a categoria de educação da maioria das mães dos alunos?"
      ],
      "metadata": {
        "id": "rzF6qERlSFw2"
      }
    },
    {
      "cell_type": "code",
      "source": [
        "(\n",
        "    df\n",
        "    .select(\n",
        "        F.col('educacao_mae')\n",
        "    )\n",
        "    .groupBy(F.col('educacao_mae'))\n",
        "    .count()\n",
        "    .orderBy(F.desc('count'))\n",
        "    .show(1)\n",
        ")"
      ],
      "metadata": {
        "colab": {
          "base_uri": "https://localhost:8080/"
        },
        "id": "wk7QaBRqSF3R",
        "outputId": "8ffae324-37b2-4bb3-e481-4f4ecd117657"
      },
      "execution_count": null,
      "outputs": [
        {
          "output_type": "stream",
          "name": "stdout",
          "text": [
            "+--------------------+-----+\n",
            "|        educacao_mae|count|\n",
            "+--------------------+-----+\n",
            "|Ensino Fundamental 2|  186|\n",
            "+--------------------+-----+\n",
            "only showing top 1 row\n",
            "\n"
          ]
        }
      ]
    },
    {
      "cell_type": "markdown",
      "source": [
        "### 8. Qual é a categoria de educação do pai com menor representação?"
      ],
      "metadata": {
        "id": "eRKXaTW2TH7b"
      }
    },
    {
      "cell_type": "code",
      "source": [
        "(\n",
        "    df\n",
        "    .select(\n",
        "        F.col('educacao_pai')\n",
        "    )\n",
        "    .groupBy(F.col('educacao_pai'))\n",
        "    .count()\n",
        "    .orderBy('educacao_pai', ascending = False)\n",
        "    .show(1)\n",
        ")"
      ],
      "metadata": {
        "colab": {
          "base_uri": "https://localhost:8080/"
        },
        "id": "_dc0VoVZTIB1",
        "outputId": "75cb20ce-08ef-4e5c-dcbb-c4fed70c9807"
      },
      "execution_count": null,
      "outputs": [
        {
          "output_type": "stream",
          "name": "stdout",
          "text": [
            "+------------+-----+\n",
            "|educacao_pai|count|\n",
            "+------------+-----+\n",
            "|     Nenhuma|    7|\n",
            "+------------+-----+\n",
            "only showing top 1 row\n",
            "\n"
          ]
        }
      ]
    },
    {
      "cell_type": "markdown",
      "source": [
        "### 9. Quantos alunos têm as mães trabalhando na área de saúde?"
      ],
      "metadata": {
        "id": "dt24V22IUaws"
      }
    },
    {
      "cell_type": "code",
      "source": [
        "(\n",
        "    df\n",
        "    .filter(\n",
        "        F.col('trabalho_mae') == 'Saúde'\n",
        "    )\n",
        "    .count()\n",
        ")"
      ],
      "metadata": {
        "colab": {
          "base_uri": "https://localhost:8080/"
        },
        "id": "m1mcHC3eUa3H",
        "outputId": "a61709f0-f159-446f-fd2e-955b4d4f2541"
      },
      "execution_count": null,
      "outputs": [
        {
          "output_type": "execute_result",
          "data": {
            "text/plain": [
              "48"
            ]
          },
          "metadata": {},
          "execution_count": 87
        }
      ]
    },
    {
      "cell_type": "markdown",
      "source": [
        "### 10. Qual é o motivo mais comum para a escolha da escola pelos alunos?"
      ],
      "metadata": {
        "id": "yX3Ek31WVeCW"
      }
    },
    {
      "cell_type": "code",
      "source": [
        "(\n",
        "    df\n",
        "    .select(\n",
        "        F.col('motivo_escolha_escolar')\n",
        "    )\n",
        "    .groupby(F.col('motivo_escolha_escolar'))\n",
        "    .count()\n",
        "    .orderBy(F.desc('count'))\n",
        "    .show(1, truncate=False)\n",
        ")"
      ],
      "metadata": {
        "colab": {
          "base_uri": "https://localhost:8080/"
        },
        "id": "dVQGs5c2VeHv",
        "outputId": "f0dc0fb6-6a58-4afc-9c46-a5493e83e116"
      },
      "execution_count": null,
      "outputs": [
        {
          "output_type": "stream",
          "name": "stdout",
          "text": [
            "+----------------------+-----+\n",
            "|motivo_escolha_escolar|count|\n",
            "+----------------------+-----+\n",
            "|Preferência pelo Curso|285  |\n",
            "+----------------------+-----+\n",
            "only showing top 1 row\n",
            "\n"
          ]
        }
      ]
    },
    {
      "cell_type": "markdown",
      "source": [
        "### 11. Quem é o responsável legal pela maioria dos alunos?"
      ],
      "metadata": {
        "id": "fhQ60DofVePb"
      }
    },
    {
      "cell_type": "code",
      "source": [
        "(\n",
        "    df\n",
        "    .select(\n",
        "        F.col('responsavel_legal')\n",
        "    )\n",
        "    .groupBy('responsavel_legal')\n",
        "    .count()\n",
        "    .orderBy('responsavel_legal', ascending=True)\n",
        "    .show(1)\n",
        ")"
      ],
      "metadata": {
        "colab": {
          "base_uri": "https://localhost:8080/"
        },
        "id": "oFwZzu1gVeVy",
        "outputId": "4246e20d-1c32-4513-dc10-2ec5b4b5e1de"
      },
      "execution_count": null,
      "outputs": [
        {
          "output_type": "stream",
          "name": "stdout",
          "text": [
            "+-----------------+-----+\n",
            "|responsavel_legal|count|\n",
            "+-----------------+-----+\n",
            "|              Mãe|  455|\n",
            "+-----------------+-----+\n",
            "only showing top 1 row\n",
            "\n"
          ]
        }
      ]
    },
    {
      "cell_type": "markdown",
      "source": [
        "### 12. Quantos alunos gastam mais de 30 minutos para ir à escola?"
      ],
      "metadata": {
        "id": "-S-E_JnAVeb9"
      }
    },
    {
      "cell_type": "code",
      "source": [
        "(\n",
        "    df\n",
        "    .filter(\n",
        "        ~F.col('tempo_ida_escola')\n",
        "        .isin(['Até 15 min', '15 a 30 min'])\n",
        "    )\n",
        "    .count()\n",
        ")"
      ],
      "metadata": {
        "colab": {
          "base_uri": "https://localhost:8080/"
        },
        "id": "Kbb9BoBHVeiI",
        "outputId": "5228b99a-04de-475d-cb4a-db51414af4d4"
      },
      "execution_count": null,
      "outputs": [
        {
          "output_type": "execute_result",
          "data": {
            "text/plain": [
              "70"
            ]
          },
          "metadata": {},
          "execution_count": 90
        }
      ]
    },
    {
      "cell_type": "markdown",
      "source": [
        "### 13. Quantos alunos recebem apoio de educação extra?"
      ],
      "metadata": {
        "id": "2A-RB8RQazXR"
      }
    },
    {
      "cell_type": "code",
      "source": [
        "(\n",
        "    df\n",
        "    .filter(\n",
        "        F.col('apoio_educacao_extra') == 'Sim'\n",
        "    )\n",
        "    .count()\n",
        ")"
      ],
      "metadata": {
        "colab": {
          "base_uri": "https://localhost:8080/"
        },
        "id": "BCYo2mFgazc2",
        "outputId": "12567a3c-a813-476f-8fed-c7fe0b726af4"
      },
      "execution_count": null,
      "outputs": [
        {
          "output_type": "execute_result",
          "data": {
            "text/plain": [
              "68"
            ]
          },
          "metadata": {},
          "execution_count": 91
        }
      ]
    },
    {
      "cell_type": "markdown",
      "source": [
        "### 14. Quantos alunos frequentaram creche?"
      ],
      "metadata": {
        "id": "HQImih6tclqO"
      }
    },
    {
      "cell_type": "code",
      "source": [
        "(\n",
        "    df\n",
        "    .filter(\n",
        "        F.col('frequentou_creche') == 'Sim'\n",
        "    )\n",
        "    .count()\n",
        ")"
      ],
      "metadata": {
        "colab": {
          "base_uri": "https://localhost:8080/"
        },
        "id": "wZk0kbobclvV",
        "outputId": "41cc170a-bcd1-4753-8fc7-e77e2750b858"
      },
      "execution_count": null,
      "outputs": [
        {
          "output_type": "execute_result",
          "data": {
            "text/plain": [
              "521"
            ]
          },
          "metadata": {},
          "execution_count": 92
        }
      ]
    },
    {
      "cell_type": "markdown",
      "source": [
        "### 15. Qual é a porcentagem de alunos que desejam fazer graduação?\n",
        "    "
      ],
      "metadata": {
        "id": "zxn5vOQnc_DS"
      }
    },
    {
      "cell_type": "code",
      "source": [
        "(\n",
        "    round(\n",
        "        df\n",
        "        .filter(\n",
        "            F.col('quer_fazer_graduacao') == 'Sim'\n",
        "        )\n",
        "        .count() / (total_alunos / 100), 2\n",
        "    )\n",
        ")"
      ],
      "metadata": {
        "colab": {
          "base_uri": "https://localhost:8080/"
        },
        "id": "lqdKbxjwc_KB",
        "outputId": "0a35ecd6-ba95-4d98-9377-df66a366d076"
      },
      "execution_count": null,
      "outputs": [
        {
          "output_type": "execute_result",
          "data": {
            "text/plain": [
              "89.37"
            ]
          },
          "metadata": {},
          "execution_count": 93
        }
      ]
    },
    {
      "cell_type": "markdown",
      "source": [
        "### 16. Qual é a distribuição dos alunos em termos de convivência familiar?"
      ],
      "metadata": {
        "id": "tnAYtTKQdI8T"
      }
    },
    {
      "cell_type": "code",
      "source": [
        "(\n",
        "    df\n",
        "    .select(\n",
        "        F.col('boa_convivencia_familiar')\n",
        "    )\n",
        "    .groupBy(F.col('boa_convivencia_familiar'))\n",
        "    .count()\n",
        "    .orderBy(F.desc('count'))\n",
        "    .show()\n",
        ")"
      ],
      "metadata": {
        "id": "PrZjASTHdJBl",
        "colab": {
          "base_uri": "https://localhost:8080/"
        },
        "outputId": "df51e87a-981c-4447-d2e4-f205fb07eb02"
      },
      "execution_count": null,
      "outputs": [
        {
          "output_type": "stream",
          "name": "stdout",
          "text": [
            "+------------------------+-----+\n",
            "|boa_convivencia_familiar|count|\n",
            "+------------------------+-----+\n",
            "|                     Bom|  317|\n",
            "|               Excelente|  180|\n",
            "|                Razoavel|  101|\n",
            "|                    Ruim|   29|\n",
            "|              Muito Ruim|   22|\n",
            "+------------------------+-----+\n",
            "\n"
          ]
        }
      ]
    },
    {
      "cell_type": "markdown",
      "source": [
        "### 17. Quantos alunos têm uma boa convivência familiar e também possuem uma nota acima da média (considerando as notas do 1º e 2º semestres)?\n",
        "\n",
        "\n",
        "\n"
      ],
      "metadata": {
        "id": "sV1BQ2B5FnDR"
      }
    },
    {
      "cell_type": "code",
      "source": [
        "df = df.withColumn('media_geral', (F.col('nota_1semestre') + F.col('nota_2semestre')) / 2)\n",
        "\n",
        "media_geral_media = df.agg(F.avg('media_geral')).first()[0]\n",
        "\n",
        "(\n",
        "    df\n",
        "    .filter(\n",
        "        F.col('boa_convivencia_familiar').isin(['Bom', 'Excelente'])\n",
        "    )\n",
        "    .filter(\n",
        "        F.col('media_geral') > media_geral_media\n",
        "    ).count()\n",
        ")"
      ],
      "metadata": {
        "colab": {
          "base_uri": "https://localhost:8080/"
        },
        "id": "yEg88CBwEgWU",
        "outputId": "309784b9-c280-4b3c-eab9-5156b3aeb15f"
      },
      "execution_count": null,
      "outputs": [
        {
          "output_type": "execute_result",
          "data": {
            "text/plain": [
              "273"
            ]
          },
          "metadata": {},
          "execution_count": 101
        }
      ]
    },
    {
      "cell_type": "markdown",
      "source": [
        "### 18. Qual é a média de falta escolar entre os alunos do sexo masculino e do sexo feminino?"
      ],
      "metadata": {
        "id": "j0Jdm8WYFoPo"
      }
    },
    {
      "cell_type": "code",
      "source": [
        "(\n",
        "    df\n",
        "    .filter(\n",
        "        F.col('sexo')\n",
        "        .isin(['M', 'H'])\n",
        "    )\n",
        "    .agg(\n",
        "        F.avg('falta_escolar')\n",
        "        .alias('Média - Falta Escolar')\n",
        "    )\n",
        "    .show()\n",
        ")"
      ],
      "metadata": {
        "colab": {
          "base_uri": "https://localhost:8080/"
        },
        "id": "0lhBVOVMr6FF",
        "outputId": "449d4e00-f980-4851-a8d0-1c45b1529d5c"
      },
      "execution_count": null,
      "outputs": [
        {
          "output_type": "stream",
          "name": "stdout",
          "text": [
            "+---------------------+\n",
            "|Média - Falta Escolar|\n",
            "+---------------------+\n",
            "|   3.6594761171032357|\n",
            "+---------------------+\n",
            "\n"
          ]
        }
      ]
    },
    {
      "cell_type": "markdown",
      "source": [
        "### 19. Quais são as cinco escolas com o maior número de alunos que desejam fazer graduação?\n",
        "\n",
        "\n"
      ],
      "metadata": {
        "id": "US-pZ1YeFobD"
      }
    },
    {
      "cell_type": "code",
      "source": [
        "(\n",
        "    df\n",
        "    .filter(\n",
        "        F.col('quer_fazer_graduacao') == 'Sim'\n",
        "    )\n",
        "    .groupBy('escola')\n",
        "    .agg(\n",
        "        F.count('quer_fazer_graduacao')\n",
        "        .alias('total')\n",
        "    )\n",
        "    .orderBy(F.desc('total'))\n",
        "    .show(5)\n",
        ")"
      ],
      "metadata": {
        "id": "GKA5rT03FogB",
        "colab": {
          "base_uri": "https://localhost:8080/"
        },
        "outputId": "4baa6e6c-154c-4608-85d8-fedb332a126e"
      },
      "execution_count": null,
      "outputs": [
        {
          "output_type": "stream",
          "name": "stdout",
          "text": [
            "+--------------------+-----+\n",
            "|              escola|total|\n",
            "+--------------------+-----+\n",
            "|     Gabriel Pereira|  391|\n",
            "|Mousinho da Silveira|  189|\n",
            "+--------------------+-----+\n",
            "\n"
          ]
        }
      ]
    },
    {
      "cell_type": "markdown",
      "source": [
        "### 20. Calcule a porcentagem de alunos que frequentaram creche entre aqueles que têm uma boa convivência familiar."
      ],
      "metadata": {
        "id": "tQoS7vCnFokg"
      }
    },
    {
      "cell_type": "code",
      "source": [
        "(\n",
        "    df\n",
        "    .filter(\n",
        "        (F.col('frequentou_creche') == 'Sim') &\n",
        "        (F.col('boa_convivencia_familiar')\n",
        "        .isin(['Bom','Excelente']))\n",
        "    )\n",
        "    .count() / total_alunos * 100\n",
        "\n",
        ")\n"
      ],
      "metadata": {
        "id": "d0ztqA08FopG",
        "colab": {
          "base_uri": "https://localhost:8080/"
        },
        "outputId": "105eabf9-a991-48f3-fd38-234edcca431d"
      },
      "execution_count": null,
      "outputs": [
        {
          "output_type": "execute_result",
          "data": {
            "text/plain": [
              "62.40369799691834"
            ]
          },
          "metadata": {},
          "execution_count": 129
        }
      ]
    },
    {
      "cell_type": "markdown",
      "source": [
        "### 25. Crie uma consulta que retorne a distribuição de notas para cada tempo de estudo semanal. Ou seja, para cada intervalo de tempo de estudo semanal, mostre a quantidade de alunos que obteve cada nota no 1º semestre."
      ],
      "metadata": {
        "id": "HL8iThj45jx4"
      }
    },
    {
      "cell_type": "code",
      "source": [
        "(\n",
        "    df\n",
        "    .filter(\n",
        "        F.col('nota_1semestre').isNotNull()\n",
        "    )\n",
        "    .groupBy(F.col('tempo_estudo_semanal'), F.col('nota_1semestre'))\n",
        "    .count()\n",
        "    .orderBy('tempo_estudo_semanal', 'nota_1semestre')\n",
        "    .show()\n",
        ")"
      ],
      "metadata": {
        "colab": {
          "base_uri": "https://localhost:8080/"
        },
        "id": "YBCS34e65j3C",
        "outputId": "6bef4368-2cce-4247-c9a6-76f89116531e"
      },
      "execution_count": null,
      "outputs": [
        {
          "output_type": "stream",
          "name": "stdout",
          "text": [
            "+--------------------+--------------+-----+\n",
            "|tempo_estudo_semanal|nota_1semestre|count|\n",
            "+--------------------+--------------+-----+\n",
            "|              2 a 5h|             0|    1|\n",
            "|              2 a 5h|             4|    1|\n",
            "|              2 a 5h|             5|    2|\n",
            "|              2 a 5h|             6|    3|\n",
            "|              2 a 5h|             7|   14|\n",
            "|              2 a 5h|             8|   21|\n",
            "|              2 a 5h|             9|   25|\n",
            "|              2 a 5h|            10|   40|\n",
            "|              2 a 5h|            11|   42|\n",
            "|              2 a 5h|            12|   46|\n",
            "|              2 a 5h|            13|   36|\n",
            "|              2 a 5h|            14|   32|\n",
            "|              2 a 5h|            15|   16|\n",
            "|              2 a 5h|            16|   17|\n",
            "|              2 a 5h|            17|    8|\n",
            "|              2 a 5h|            18|    1|\n",
            "|             5 a 10h|             7|    3|\n",
            "|             5 a 10h|             8|    2|\n",
            "|             5 a 10h|             9|    4|\n",
            "|             5 a 10h|            10|   14|\n",
            "+--------------------+--------------+-----+\n",
            "only showing top 20 rows\n",
            "\n"
          ]
        }
      ]
    }
  ]
}